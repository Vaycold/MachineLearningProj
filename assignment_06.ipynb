{
  "nbformat": 4,
  "nbformat_minor": 0,
  "metadata": {
    "colab": {
      "name": "assignment-06",
      "provenance": [],
      "authorship_tag": "ABX9TyOgVfOz2PBMuTxJKhZjd6Po",
      "include_colab_link": true
    },
    "kernelspec": {
      "name": "python3",
      "display_name": "Python 3"
    }
  },
  "cells": [
    {
      "cell_type": "markdown",
      "metadata": {
        "id": "view-in-github",
        "colab_type": "text"
      },
      "source": [
        "<a href=\"https://colab.research.google.com/github/moch1996/MachineLearningProj/blob/master/assignment_06.ipynb\" target=\"_parent\"><img src=\"https://colab.research.google.com/assets/colab-badge.svg\" alt=\"Open In Colab\"/></a>"
      ]
    },
    {
      "cell_type": "markdown",
      "metadata": {
        "id": "1li7sHM1ywrq"
      },
      "source": [
        "#Load the Data"
      ]
    },
    {
      "cell_type": "code",
      "metadata": {
        "id": "FDZHxl1wy-xm"
      },
      "source": [
        "import numpy as np\n",
        "import matplotlib.pyplot as plt\n",
        "import random\n",
        "import time"
      ],
      "execution_count": 2,
      "outputs": []
    },
    {
      "cell_type": "code",
      "metadata": {
        "id": "UfSNNjnPzQH9"
      },
      "source": [
        "# import data with numpy\n",
        "data_train = np.genfromtxt('training.txt', delimiter=',')\n",
        "data_test = np.genfromtxt('testing.txt', delimiter=',')"
      ],
      "execution_count": 4,
      "outputs": []
    },
    {
      "cell_type": "code",
      "metadata": {
        "id": "okezO0Q5z2Di"
      },
      "source": [
        "data_train[0,0] = 7.609000000000000208e-01\n",
        "data_test[0,0] = 1.007260000000000044e+00"
      ],
      "execution_count": 5,
      "outputs": []
    },
    {
      "cell_type": "code",
      "metadata": {
        "id": "6S5O0TIw0LZ9"
      },
      "source": [
        "# number of training data\n",
        "n_train = data_train.shape[0]\n",
        "n_test = data_test.shape[0]"
      ],
      "execution_count": 6,
      "outputs": []
    },
    {
      "cell_type": "code",
      "metadata": {
        "id": "UplpomtP0dfd"
      },
      "source": [
        "# training data\n",
        "x1_train          = data_train[:,0] # feature1\n",
        "x2_train          = data_train[:,1] # feature2\n",
        "y_train           = data_train[:,2][:,None] # label\n",
        "idx_class0_train  = (data_train[:,2]==0) # index of class 0\n",
        "idx_class1_train  = (data_train[:,2]==1) # index of class 1"
      ],
      "execution_count": 7,
      "outputs": []
    },
    {
      "cell_type": "code",
      "metadata": {
        "id": "CqCMfxanysHC"
      },
      "source": [
        "# testing data\n",
        "x1_test             = data_test[:,0] # feature 1\n",
        "x2_test             = data_test[:,1] # feature 2\n",
        "y_test              = data_test[:,2][:,None] # label\n",
        "idx_class0_test     = (data_test[:,2]==0) # index of class0\n",
        "idx_class1_test     = (data_test[:,2]==1) # index of class1"
      ],
      "execution_count": 8,
      "outputs": []
    },
    {
      "cell_type": "code",
      "metadata": {
        "id": "bC1kVDDZ3C4g",
        "outputId": "434271b1-05e5-48a5-ac8e-d259b6023f99",
        "colab": {
          "base_uri": "https://localhost:8080/",
          "height": 372
        }
      },
      "source": [
        "# Set the theta\n",
        "init_theta = np.zeros((10,10))\n",
        "for i in range(10) :\n",
        "  for j in range(10) :\n",
        "    init_theta[j,i] = random.uniform(1e-1,2e-1)\n",
        "\n",
        "init_theta"
      ],
      "execution_count": 9,
      "outputs": [
        {
          "output_type": "execute_result",
          "data": {
            "text/plain": [
              "array([[0.11520032, 0.16331312, 0.16883062, 0.18647043, 0.1581958 ,\n",
              "        0.11943501, 0.11121738, 0.17299784, 0.12762622, 0.1298477 ],\n",
              "       [0.18139056, 0.11186031, 0.1505136 , 0.18952498, 0.16855545,\n",
              "        0.19679109, 0.12089995, 0.13470965, 0.16203497, 0.12657266],\n",
              "       [0.14433021, 0.17730177, 0.14654252, 0.18816207, 0.18907182,\n",
              "        0.19821358, 0.18044787, 0.19630494, 0.14810506, 0.19774599],\n",
              "       [0.1931639 , 0.1498747 , 0.10428542, 0.14282774, 0.10854708,\n",
              "        0.12399313, 0.17199367, 0.1337788 , 0.16627581, 0.13386136],\n",
              "       [0.12929007, 0.10041715, 0.17048154, 0.11897486, 0.13892036,\n",
              "        0.10272266, 0.15004261, 0.14339698, 0.15276585, 0.17226219],\n",
              "       [0.16178107, 0.19028013, 0.1706122 , 0.10010655, 0.18710816,\n",
              "        0.19456784, 0.18218599, 0.11623568, 0.1764871 , 0.12863003],\n",
              "       [0.17960412, 0.14204617, 0.15896562, 0.11707352, 0.11897631,\n",
              "        0.14767113, 0.12949078, 0.13112074, 0.12984996, 0.1681005 ],\n",
              "       [0.11382177, 0.15686796, 0.16499752, 0.18762418, 0.13083152,\n",
              "        0.19260205, 0.18939085, 0.18737635, 0.15202794, 0.17381569],\n",
              "       [0.1806983 , 0.1129354 , 0.16088365, 0.13398734, 0.13721018,\n",
              "        0.12547528, 0.16418849, 0.14131322, 0.17708102, 0.10668468],\n",
              "       [0.1127239 , 0.12036573, 0.10751014, 0.13649635, 0.13995221,\n",
              "        0.16876848, 0.16921388, 0.11219508, 0.18301228, 0.12401095]])"
            ]
          },
          "metadata": {
            "tags": []
          },
          "execution_count": 9
        }
      ]
    },
    {
      "cell_type": "code",
      "metadata": {
        "id": "tfAtA8QSd-uW"
      },
      "source": [
        "theta = init_theta"
      ],
      "execution_count": 454,
      "outputs": []
    },
    {
      "cell_type": "code",
      "metadata": {
        "id": "Kn0Vo8dQboEb"
      },
      "source": [
        "X = np.ones((200,100))\n",
        "for i in range(100) :\n",
        "  for j in range(100) :\n",
        "    X[:,j] = (x1_train**i)*(x2_train**j)\n",
        "      "
      ],
      "execution_count": 282,
      "outputs": []
    },
    {
      "cell_type": "code",
      "metadata": {
        "id": "FE4YDEtJ9wIH",
        "outputId": "a94b433d-6069-411b-d81a-08c20693aa66",
        "colab": {
          "base_uri": "https://localhost:8080/",
          "height": 35
        }
      },
      "source": [
        "feature2(x1_train,x2_train,theta)"
      ],
      "execution_count": 229,
      "outputs": [
        {
          "output_type": "execute_result",
          "data": {
            "text/plain": [
              "3.996555651886597"
            ]
          },
          "metadata": {
            "tags": []
          },
          "execution_count": 229
        }
      ]
    },
    {
      "cell_type": "code",
      "metadata": {
        "id": "Fr2voyP85Xr9"
      },
      "source": [
        "# sigmoid function\n",
        "def sigmoid(z) :\n",
        "  sigmoid_f = 1 / (1+np.exp(-z))\n",
        "  return sigmoid_f"
      ],
      "execution_count": 10,
      "outputs": []
    },
    {
      "cell_type": "code",
      "metadata": {
        "id": "9s99tgGN5t6m"
      },
      "source": [
        "# Prediction function definition\n",
        "def f_pred(x1, x2, theta) :\n",
        "  p = sigmoid(feature(x1,x2,theta))\n",
        "  return p"
      ],
      "execution_count": 11,
      "outputs": []
    },
    {
      "cell_type": "code",
      "metadata": {
        "id": "08kJ8e3eO5Ig"
      },
      "source": [
        "h_arr = f_pred(x1_train,x2_train,theta)"
      ],
      "execution_count": 331,
      "outputs": []
    },
    {
      "cell_type": "code",
      "metadata": {
        "id": "qDIGvbz3BWQ2"
      },
      "source": [
        "X = np.ones((200,100))"
      ],
      "execution_count": 12,
      "outputs": []
    },
    {
      "cell_type": "code",
      "metadata": {
        "id": "f0G8SA-sE6zO"
      },
      "source": [
        "for i in range(10) :\n",
        "  X[:,i] = (x1_train**i) * (x2_train**0)"
      ],
      "execution_count": 13,
      "outputs": []
    },
    {
      "cell_type": "code",
      "metadata": {
        "id": "oGlizTeuH6Yg"
      },
      "source": [
        "for i in range(10,20) :\n",
        "  X[:,i] = (x1_train**(i-10)) * (x2_train**1)"
      ],
      "execution_count": 14,
      "outputs": []
    },
    {
      "cell_type": "code",
      "metadata": {
        "id": "Uuan0ZGsISso"
      },
      "source": [
        "for i in range(20,30) :\n",
        "  X[:,i] = (x1_train**(i-20)) * (x2_train**2)"
      ],
      "execution_count": 15,
      "outputs": []
    },
    {
      "cell_type": "code",
      "metadata": {
        "id": "5qA3cqOaIYzn"
      },
      "source": [
        "for i in range(30,40) :\n",
        "  X[:,i] = (x1_train**(i-30)) * (x2_train**3)"
      ],
      "execution_count": 16,
      "outputs": []
    },
    {
      "cell_type": "code",
      "metadata": {
        "id": "kCJMuDrUIdnn"
      },
      "source": [
        "for i in range(40,50) :\n",
        "  X[:,i] = (x1_train**(i-40)) * (x2_train**4)"
      ],
      "execution_count": 17,
      "outputs": []
    },
    {
      "cell_type": "code",
      "metadata": {
        "id": "dXYGEX_0Ieuv"
      },
      "source": [
        "for i in range(50,60) :\n",
        "  X[:,i] = (x1_train**(i-50)) * (x2_train**5)"
      ],
      "execution_count": 18,
      "outputs": []
    },
    {
      "cell_type": "code",
      "metadata": {
        "id": "YeMv-Ep1Ieee"
      },
      "source": [
        "for i in range(60,70) :\n",
        "  X[:,i] = (x1_train**(i-60)) * (x2_train**6)"
      ],
      "execution_count": 19,
      "outputs": []
    },
    {
      "cell_type": "code",
      "metadata": {
        "id": "_qhwR-IrIeUH"
      },
      "source": [
        "for i in range(70,80) :\n",
        "  X[:,i] = (x1_train**(i-70)) * (x2_train**7)"
      ],
      "execution_count": 20,
      "outputs": []
    },
    {
      "cell_type": "code",
      "metadata": {
        "id": "Xw_rBSAKIeIP"
      },
      "source": [
        "for i in range(80,90) :\n",
        "  X[:,i] = (x1_train**(i-80)) * (x2_train**8)"
      ],
      "execution_count": 21,
      "outputs": []
    },
    {
      "cell_type": "code",
      "metadata": {
        "id": "ND7tfvt7IyJo"
      },
      "source": [
        "for i in range(90,100) :\n",
        "  X[:,i] = (x1_train**(i-90)) * (x2_train**9)"
      ],
      "execution_count": 22,
      "outputs": []
    },
    {
      "cell_type": "code",
      "metadata": {
        "id": "Q7idjt4e5JsQ"
      },
      "source": [
        "X2 = np.ones((200,100))"
      ],
      "execution_count": 23,
      "outputs": []
    },
    {
      "cell_type": "code",
      "metadata": {
        "id": "X9E-UsSX5f2f",
        "outputId": "e33b805e-24cd-4a8a-f76e-9406abbb6d49",
        "colab": {
          "base_uri": "https://localhost:8080/",
          "height": 1000
        }
      },
      "source": [
        "k=0\n",
        "for i in range(10) :\n",
        "  for j in range(10) :\n",
        "    X2[:,k] = (x1_test**i) * (x2_test**j)\n",
        "    print(k)\n",
        "    k = k+1\n",
        "X2"
      ],
      "execution_count": 24,
      "outputs": [
        {
          "output_type": "stream",
          "text": [
            "0\n",
            "1\n",
            "2\n",
            "3\n",
            "4\n",
            "5\n",
            "6\n",
            "7\n",
            "8\n",
            "9\n",
            "10\n",
            "11\n",
            "12\n",
            "13\n",
            "14\n",
            "15\n",
            "16\n",
            "17\n",
            "18\n",
            "19\n",
            "20\n",
            "21\n",
            "22\n",
            "23\n",
            "24\n",
            "25\n",
            "26\n",
            "27\n",
            "28\n",
            "29\n",
            "30\n",
            "31\n",
            "32\n",
            "33\n",
            "34\n",
            "35\n",
            "36\n",
            "37\n",
            "38\n",
            "39\n",
            "40\n",
            "41\n",
            "42\n",
            "43\n",
            "44\n",
            "45\n",
            "46\n",
            "47\n",
            "48\n",
            "49\n",
            "50\n",
            "51\n",
            "52\n",
            "53\n",
            "54\n",
            "55\n",
            "56\n",
            "57\n",
            "58\n",
            "59\n",
            "60\n",
            "61\n",
            "62\n",
            "63\n",
            "64\n",
            "65\n",
            "66\n",
            "67\n",
            "68\n",
            "69\n",
            "70\n",
            "71\n",
            "72\n",
            "73\n",
            "74\n",
            "75\n",
            "76\n",
            "77\n",
            "78\n",
            "79\n",
            "80\n",
            "81\n",
            "82\n",
            "83\n",
            "84\n",
            "85\n",
            "86\n",
            "87\n",
            "88\n",
            "89\n",
            "90\n",
            "91\n",
            "92\n",
            "93\n",
            "94\n",
            "95\n",
            "96\n",
            "97\n",
            "98\n",
            "99\n"
          ],
          "name": "stdout"
        },
        {
          "output_type": "execute_result",
          "data": {
            "text/plain": [
              "array([[1.00000000e+00, 2.68272301e-01, 7.19700275e-02, ...,\n",
              "        1.06734576e-04, 2.86339304e-05, 7.68169039e-06],\n",
              "       [1.00000000e+00, 2.04539103e-01, 4.18362445e-02, ...,\n",
              "        4.44685862e-06, 9.09556471e-07, 1.86039864e-07],\n",
              "       [1.00000000e+00, 2.45526044e-01, 6.02830382e-02, ...,\n",
              "        4.59023712e-05, 1.12702276e-05, 2.76713439e-06],\n",
              "       ...,\n",
              "       [1.00000000e+00, 1.00000000e+00, 1.00000000e+00, ...,\n",
              "        1.00000000e+00, 1.00000000e+00, 1.00000000e+00],\n",
              "       [1.00000000e+00, 1.00000000e+00, 1.00000000e+00, ...,\n",
              "        1.00000000e+00, 1.00000000e+00, 1.00000000e+00],\n",
              "       [1.00000000e+00, 1.00000000e+00, 1.00000000e+00, ...,\n",
              "        1.00000000e+00, 1.00000000e+00, 1.00000000e+00]])"
            ]
          },
          "metadata": {
            "tags": []
          },
          "execution_count": 24
        }
      ]
    },
    {
      "cell_type": "code",
      "metadata": {
        "id": "c2wITfMtGLVU",
        "outputId": "4377f0f2-1c80-4a08-ff2b-c74dd53894a0",
        "colab": {
          "base_uri": "https://localhost:8080/",
          "height": 35
        }
      },
      "source": [
        "X.shape"
      ],
      "execution_count": 381,
      "outputs": [
        {
          "output_type": "execute_result",
          "data": {
            "text/plain": [
              "(200, 100)"
            ]
          },
          "metadata": {
            "tags": []
          },
          "execution_count": 381
        }
      ]
    },
    {
      "cell_type": "code",
      "metadata": {
        "id": "1jGXBMiNIXqW",
        "outputId": "6416e758-2c48-486c-8e20-4447dd4910bc",
        "colab": {
          "base_uri": "https://localhost:8080/",
          "height": 35
        }
      },
      "source": [
        "theta=init_theta.reshape(100,-1)\n",
        "theta.shape"
      ],
      "execution_count": 453,
      "outputs": [
        {
          "output_type": "execute_result",
          "data": {
            "text/plain": [
              "(100, 1)"
            ]
          },
          "metadata": {
            "tags": []
          },
          "execution_count": 453
        }
      ]
    },
    {
      "cell_type": "code",
      "metadata": {
        "id": "Du_vzb2_JCZh"
      },
      "source": [
        "#real\n",
        "def pls_pred(X,theta) :\n",
        "  p = sigmoid(np.dot(X,theta))\n",
        "  return p"
      ],
      "execution_count": 25,
      "outputs": []
    },
    {
      "cell_type": "code",
      "metadata": {
        "id": "XxENPGoVJ8h4"
      },
      "source": [
        "prediction = pls_pred(X,theta)"
      ],
      "execution_count": 31,
      "outputs": []
    },
    {
      "cell_type": "code",
      "metadata": {
        "id": "3O83J9erJpys"
      },
      "source": [
        "#real\n",
        "def pls_loss(label, pls_pred):  # cross-entropy error\n",
        "    \n",
        "    return np.mean(-label * np.log(pls_pred + 1e-8) - (1-label) * np.log(1 - pls_pred + 1e-8)) \n"
      ],
      "execution_count": 26,
      "outputs": []
    },
    {
      "cell_type": "code",
      "metadata": {
        "id": "HhoS-eg2Jra6",
        "outputId": "8e88f768-4518-441e-ca00-e5bf8ec4b8d3",
        "colab": {
          "base_uri": "https://localhost:8080/",
          "height": 35
        }
      },
      "source": [
        "pls_loss(y_train,prediction)"
      ],
      "execution_count": 489,
      "outputs": [
        {
          "output_type": "execute_result",
          "data": {
            "text/plain": [
              "0.6833482879611114"
            ]
          },
          "metadata": {
            "tags": []
          },
          "execution_count": 489
        }
      ]
    },
    {
      "cell_type": "code",
      "metadata": {
        "id": "lZk2OloJKNaa"
      },
      "source": [
        "#real\n",
        "def plsgrad_loss(pls_pred,label, X) :\n",
        "  n = len(label)\n",
        "  loss = (2 * np.dot(X.T, pls_pred - label)) / n\n",
        "  return loss"
      ],
      "execution_count": 27,
      "outputs": []
    },
    {
      "cell_type": "code",
      "metadata": {
        "id": "iPVv2dqTKy91",
        "outputId": "c104f38d-fcf4-4082-d65f-63f2a150dfdb",
        "colab": {
          "base_uri": "https://localhost:8080/",
          "height": 35
        }
      },
      "source": [
        "plsgrad_loss(prediction, y_train, X).shape"
      ],
      "execution_count": 32,
      "outputs": [
        {
          "output_type": "execute_result",
          "data": {
            "text/plain": [
              "(100, 1)"
            ]
          },
          "metadata": {
            "tags": []
          },
          "execution_count": 32
        }
      ]
    },
    {
      "cell_type": "code",
      "metadata": {
        "id": "GOnHEpEOK2dV"
      },
      "source": [
        "#real training\n",
        "def grad_desc(X, label , theta_init, tau,lamb,iteration):\n",
        "\n",
        "    n = len(label)\n",
        "    loss_history = np.zeros(iteration)\n",
        "    coef_history = np.zeros((iteration,100))\n",
        "    theta2 = theta_init # initialization\n",
        "\n",
        "    for i in range(iteration): # loop over the iterations\n",
        "        y_pred =  pls_pred(X,theta2)\n",
        "        grad_f =  plsgrad_loss(y_pred,label,X) # gradient of the loss  \n",
        "        theta2 = (1- tau*lamb)*theta2 - tau*grad_f # update rule of gradient descent  \n",
        "        loss_history[i] = pls_loss(label,y_pred) # save the current loss value\n",
        "        coef_history[i,:] = theta2.T \n",
        "        \n",
        "    return theta2, loss_history, coef_history"
      ],
      "execution_count": 33,
      "outputs": []
    },
    {
      "cell_type": "code",
      "metadata": {
        "id": "nNqeoEb46-Lu"
      },
      "source": [
        "#real training test\n",
        "def grad_desc2(X, label , theta_init, tau,lamb,iteration):\n",
        "\n",
        "    n = len(label)\n",
        "    loss_history2 = np.zeros(iteration)\n",
        "    coef_history2 = np.zeros((iteration,100))\n",
        "    theta3 = theta_init # initialization\n",
        "\n",
        "    for i in range(iteration): # loop over the iterations\n",
        "        y_pred =  pls_pred(X,theta3)\n",
        "        grad_f =  plsgrad_loss(y_pred,label,X) # gradient of the loss  \n",
        "        theta3 = (1- tau*lamb)*theta3 - tau*grad_f # update rule of gradient descent  \n",
        "        loss_history2[i] = pls_loss(label,y_pred) # save the current loss value\n",
        "        coef_history2[i,:] = theta3.T \n",
        "        \n",
        "    return theta3, loss_history2, coef_history2"
      ],
      "execution_count": 34,
      "outputs": []
    },
    {
      "cell_type": "code",
      "metadata": {
        "id": "bmxcydeoVOdJ",
        "outputId": "2ca64b53-60ed-4f3a-c163-e6a712c0e894",
        "colab": {
          "base_uri": "https://localhost:8080/",
          "height": 52
        }
      },
      "source": [
        "# run gradient descent algorithm TRAINING\n",
        "start = time.time()\n",
        "w_init = np.zeros(10)[:,None]\n",
        "tau = 1\n",
        "iteration = 4000\n",
        "lamb = 1e-1\n",
        "theta2, loss_history, coef_history = grad_desc(X, y_train , theta, tau, lamb, iteration)\n",
        "\n",
        "print('TIME=',time.time()-start)\n",
        "print(loss_history[-1])\n",
        "#print(coef_history[-1].reshape(100,1))"
      ],
      "execution_count": 68,
      "outputs": [
        {
          "output_type": "stream",
          "text": [
            "TIME= 0.4534428119659424\n",
            "0.2269721810579027\n"
          ],
          "name": "stdout"
        }
      ]
    },
    {
      "cell_type": "code",
      "metadata": {
        "id": "ow4otaFP6g0W",
        "outputId": "1606c400-8e4f-46c6-851e-4f8e4d423fb3",
        "colab": {
          "base_uri": "https://localhost:8080/",
          "height": 52
        }
      },
      "source": [
        "# run gradient descent algorithm TESTING\n",
        "start = time.time()\n",
        "w_init = np.zeros(10)[:,None]\n",
        "tau = 1\n",
        "iteration = 4000\n",
        "lamb = 1e-1\n",
        "theta3, loss_history2, coef_history2 = grad_desc2(X2, y_test , theta, tau, lamb, iteration)\n",
        "\n",
        "print('TIME=',time.time()-start)\n",
        "print(loss_history2[-1])\n",
        "#print(coef_history2[-1].reshape(100,1))"
      ],
      "execution_count": 69,
      "outputs": [
        {
          "output_type": "stream",
          "text": [
            "TIME= 0.4428393840789795\n",
            "0.22482521610076975\n"
          ],
          "name": "stdout"
        }
      ]
    },
    {
      "cell_type": "code",
      "metadata": {
        "id": "N_681MT3XLOy",
        "outputId": "7d5b816c-69dc-4d58-d1a3-25e6fa3c1358",
        "colab": {
          "base_uri": "https://localhost:8080/",
          "height": 106
        }
      },
      "source": [
        "theta[:5]"
      ],
      "execution_count": 532,
      "outputs": [
        {
          "output_type": "execute_result",
          "data": {
            "text/plain": [
              "array([[0.11577806],\n",
              "       [0.13673755],\n",
              "       [0.11620745],\n",
              "       [0.11504881],\n",
              "       [0.14641975]])"
            ]
          },
          "metadata": {
            "tags": []
          },
          "execution_count": 532
        }
      ]
    },
    {
      "cell_type": "code",
      "metadata": {
        "id": "6MNOkfsVVtHp",
        "outputId": "5fe3935f-fd50-4f94-9628-233cf340166a",
        "colab": {
          "base_uri": "https://localhost:8080/",
          "height": 390
        }
      },
      "source": [
        "# plot\n",
        "plt.figure(3, figsize=(10,6))\n",
        "plt.plot(np.array(range(iteration)), loss_history)\n",
        "plt.xlabel('Iterations')\n",
        "plt.ylabel('Loss value')\n",
        "plt.show()"
      ],
      "execution_count": 61,
      "outputs": [
        {
          "output_type": "display_data",
          "data": {
            "image/png": "[encoded data removed]",
            "text/plain": [
              "<Figure size 720x432 with 1 Axes>"
            ]
          },
          "metadata": {
            "tags": [],
            "needs_background": "light"
          }
        }
      ]
    },
    {
      "cell_type": "code",
      "metadata": {
        "id": "qH8iQ9jHWWPy",
        "outputId": "573766aa-a75f-4f54-a0e1-e5f9c232da43",
        "colab": {
          "base_uri": "https://localhost:8080/",
          "height": 372
        }
      },
      "source": [
        "# Set the theta\n",
        "init_theta = np.zeros((10,10))\n",
        "for i in range(10) :\n",
        "  for j in range(10) :\n",
        "    init_theta[j,i] = random.uniform(1e-1,2e-1)\n",
        "\n",
        "init_theta"
      ],
      "execution_count": 455,
      "outputs": [
        {
          "output_type": "execute_result",
          "data": {
            "text/plain": [
              "array([[0.11577806, 0.13673755, 0.11620745, 0.11504881, 0.14641975,\n",
              "        0.17568129, 0.12604608, 0.10832476, 0.12309584, 0.16582497],\n",
              "       [0.11489435, 0.19678419, 0.17742107, 0.14430922, 0.16160654,\n",
              "        0.15774797, 0.10779051, 0.18920069, 0.14673045, 0.14125863],\n",
              "       [0.11138833, 0.14366378, 0.16332828, 0.16876222, 0.1591364 ,\n",
              "        0.16165535, 0.18007682, 0.12938744, 0.16798243, 0.15652168],\n",
              "       [0.19716164, 0.16009127, 0.13318581, 0.11170808, 0.19804675,\n",
              "        0.12114674, 0.10075135, 0.18787659, 0.17499162, 0.19968722],\n",
              "       [0.11019005, 0.17278639, 0.1142757 , 0.12364748, 0.11158329,\n",
              "        0.10163056, 0.11819873, 0.1679147 , 0.17731001, 0.18904346],\n",
              "       [0.1083806 , 0.11506604, 0.11361429, 0.13445826, 0.16612054,\n",
              "        0.18678548, 0.1890908 , 0.1640649 , 0.19284755, 0.18193967],\n",
              "       [0.12866825, 0.10545458, 0.17018818, 0.19971857, 0.1367034 ,\n",
              "        0.18873734, 0.17854228, 0.19958197, 0.14899273, 0.10120165],\n",
              "       [0.13924044, 0.13020147, 0.10150513, 0.10082139, 0.1578868 ,\n",
              "        0.14310527, 0.16405788, 0.13351679, 0.1313171 , 0.16950672],\n",
              "       [0.1001807 , 0.1398767 , 0.11995292, 0.10753771, 0.1618485 ,\n",
              "        0.1351182 , 0.10178314, 0.19857823, 0.12548312, 0.12754425],\n",
              "       [0.1417858 , 0.19574736, 0.18618996, 0.10519652, 0.1236876 ,\n",
              "        0.18011583, 0.19553433, 0.13221565, 0.18995554, 0.14716866]])"
            ]
          },
          "metadata": {
            "tags": []
          },
          "execution_count": 455
        }
      ]
    },
    {
      "cell_type": "code",
      "metadata": {
        "id": "tmnigryuZMuk"
      },
      "source": [
        "theta = init_theta.reshape(100,1)"
      ],
      "execution_count": 30,
      "outputs": []
    },
    {
      "cell_type": "code",
      "metadata": {
        "id": "OmTcmpa3ZRw9"
      },
      "source": [
        "# Plot "
      ],
      "execution_count": null,
      "outputs": []
    },
    {
      "cell_type": "markdown",
      "metadata": {
        "id": "OjRX6cl3hkvT"
      },
      "source": [
        "#OUTPUT"
      ]
    },
    {
      "cell_type": "markdown",
      "metadata": {
        "id": "IJFf3L2ohoKI"
      },
      "source": [
        "1. Plot the training data"
      ]
    },
    {
      "cell_type": "code",
      "metadata": {
        "id": "SDGJGM3fhmTt",
        "outputId": "16a14002-1d37-4ac0-bb41-654b9f118b63",
        "colab": {
          "base_uri": "https://localhost:8080/",
          "height": 607
        }
      },
      "source": [
        "plt.figure(1,figsize=(8,10))\n",
        "plt.scatter(x1_train[idx_class0_train],x2_train[idx_class0_train], s=50, c='r', label ='class = 0')\n",
        "plt.scatter(x1_train[idx_class1_train],x2_train[idx_class1_train], c='blue', s=50, label = 'class = 1')\n",
        "plt.title('Training data')\n",
        "plt.legend(loc='best')\n",
        "plt.xlim(-2,3)\n",
        "plt.ylim(-1.2,1.2)\n",
        "plt.show()"
      ],
      "execution_count": 587,
      "outputs": [
        {
          "output_type": "display_data",
          "data": {
            "image/png": "[encoded data removed]",
            "text/plain": [
              "<Figure size 576x720 with 1 Axes>"
            ]
          },
          "metadata": {
            "tags": [],
            "needs_background": "light"
          }
        }
      ]
    },
    {
      "cell_type": "markdown",
      "metadata": {
        "id": "iqwxu0UdjiSK"
      },
      "source": [
        "2. Plot the test data"
      ]
    },
    {
      "cell_type": "code",
      "metadata": {
        "id": "zxuGYEC9h87-",
        "outputId": "42fb8c3d-015c-41b8-95c1-1b10859837f4",
        "colab": {
          "base_uri": "https://localhost:8080/",
          "height": 607
        }
      },
      "source": [
        "plt.figure(1,figsize=(8,10))\n",
        "plt.scatter(x1_test[idx_class0_test],x2_test[idx_class0_test], s=50, c='r', label ='class = 0')\n",
        "plt.scatter(x1_test[idx_class1_test],x2_test[idx_class1_test], c='blue', s=50, label = 'class = 1')\n",
        "plt.title('Test data')\n",
        "plt.legend(loc='best')\n",
        "plt.xlim(-2,3)\n",
        "plt.ylim(-1.2,1.2)\n",
        "plt.show()"
      ],
      "execution_count": 588,
      "outputs": [
        {
          "output_type": "display_data",
          "data": {
            "image/png": "[encoded data removed]",
            "text/plain": [
              "<Figure size 576x720 with 1 Axes>"
            ]
          },
          "metadata": {
            "tags": [],
            "needs_background": "light"
          }
        }
      ]
    },
    {
      "cell_type": "markdown",
      "metadata": {
        "id": "cy8dtOArkdY8"
      },
      "source": [
        "3. Plot the  learning curve with λ=0.00001"
      ]
    },
    {
      "cell_type": "code",
      "metadata": {
        "id": "O7PMyYgtjurT",
        "outputId": "20b6e5d6-6003-40b5-e08c-f8d1def0ff4a",
        "colab": {
          "base_uri": "https://localhost:8080/",
          "height": 404
        }
      },
      "source": [
        "# plot\n",
        "plt.figure(3, figsize=(10,6))\n",
        "plt.plot(np.array(range(iteration)), loss_history, color=\"blue\",label = \"T raining\")\n",
        "plt.plot(np.array(range(iteration)), loss_history2, color=\"red\", label = \"T esting\")\n",
        "plt.xlabel('Iterations')\n",
        "plt.ylabel('Loss value')\n",
        "plt.legend(loc='best')\n",
        "plt.title(\"λ = 1e-05\")\n",
        "plt.show()"
      ],
      "execution_count": 611,
      "outputs": [
        {
          "output_type": "display_data",
          "data": {
            "image/png": "[encoded data removed]",
            "text/plain": [
              "<Figure size 720x432 with 1 Axes>"
            ]
          },
          "metadata": {
            "tags": [],
            "needs_background": "light"
          }
        }
      ]
    },
    {
      "cell_type": "markdown",
      "metadata": {
        "id": "AMF1qoc985pX"
      },
      "source": [
        "4. Plot the  learning curve with λ=0.0001"
      ]
    },
    {
      "cell_type": "code",
      "metadata": {
        "id": "uZ6OsB3Z9J9o",
        "outputId": "463036e9-3757-4765-a3a0-17928e680861",
        "colab": {
          "base_uri": "https://localhost:8080/",
          "height": 404
        }
      },
      "source": [
        "# plot\n",
        "plt.figure(3, figsize=(10,6))\n",
        "plt.plot(np.array(range(iteration)), loss_history, color=\"blue\",label = \"T raining\")\n",
        "plt.plot(np.array(range(iteration)), loss_history2, color=\"red\", label = \"T esting\")\n",
        "plt.xlabel('Iterations')\n",
        "plt.ylabel('Loss value')\n",
        "plt.legend(loc='best')\n",
        "plt.title(\"λ = 1e-04\")\n",
        "plt.show()"
      ],
      "execution_count": 37,
      "outputs": [
        {
          "output_type": "display_data",
          "data": {
            "image/png": "[encoded data removed]",
            "text/plain": [
              "<Figure size 720x432 with 1 Axes>"
            ]
          },
          "metadata": {
            "tags": [],
            "needs_background": "light"
          }
        }
      ]
    },
    {
      "cell_type": "markdown",
      "metadata": {
        "id": "WVZ88_4Z89YC"
      },
      "source": [
        "5. Plot the  learning curve with λ=0.001"
      ]
    },
    {
      "cell_type": "code",
      "metadata": {
        "id": "tJg3pY_f-R97",
        "outputId": "99444fb7-18de-4bc8-fadb-b48e3fb4ed13",
        "colab": {
          "base_uri": "https://localhost:8080/",
          "height": 404
        }
      },
      "source": [
        "# plot\n",
        "plt.figure(3, figsize=(10,6))\n",
        "plt.plot(np.array(range(iteration)), loss_history, color=\"blue\",label = \"T raining\")\n",
        "plt.plot(np.array(range(iteration)), loss_history2, color=\"red\", label = \"T esting\")\n",
        "plt.xlabel('Iterations')\n",
        "plt.ylabel('Loss value')\n",
        "plt.legend(loc='best')\n",
        "plt.title(\"λ = 1e-03\")\n",
        "plt.show()"
      ],
      "execution_count": 64,
      "outputs": [
        {
          "output_type": "display_data",
          "data": {
            "image/png": "[encoded data removed]",
            "text/plain": [
              "<Figure size 720x432 with 1 Axes>"
            ]
          },
          "metadata": {
            "tags": [],
            "needs_background": "light"
          }
        }
      ]
    },
    {
      "cell_type": "markdown",
      "metadata": {
        "id": "4kIJkzKY89CK"
      },
      "source": [
        "6. Plot the  learning curve with λ=0.01"
      ]
    },
    {
      "cell_type": "code",
      "metadata": {
        "id": "ckGjKvu8--yc",
        "outputId": "3f1716a5-99ce-448c-99dd-a36daf9af1e5",
        "colab": {
          "base_uri": "https://localhost:8080/",
          "height": 404
        }
      },
      "source": [
        "# plot\n",
        "plt.figure(3, figsize=(10,6))\n",
        "plt.plot(np.array(range(iteration)), loss_history, color=\"blue\",label = \"T raining\")\n",
        "plt.plot(np.array(range(iteration)), loss_history2, color=\"red\", label = \"T esting\")\n",
        "plt.xlabel('Iterations')\n",
        "plt.ylabel('Loss value')\n",
        "plt.legend(loc='best')\n",
        "plt.title(\"λ = 1e-02\")\n",
        "plt.show()"
      ],
      "execution_count": 67,
      "outputs": [
        {
          "output_type": "display_data",
          "data": {
            "image/png": "[encoded data removed]",
            "text/plain": [
              "<Figure size 720x432 with 1 Axes>"
            ]
          },
          "metadata": {
            "tags": [],
            "needs_background": "light"
          }
        }
      ]
    },
    {
      "cell_type": "markdown",
      "metadata": {
        "id": "t-AB881188cr"
      },
      "source": [
        "7. Plot the  learning curve with λ=0.1"
      ]
    },
    {
      "cell_type": "code",
      "metadata": {
        "id": "a8ZsGEkO_H67",
        "outputId": "11acddf7-0219-4b90-8753-8e6936b1f925",
        "colab": {
          "base_uri": "https://localhost:8080/",
          "height": 404
        }
      },
      "source": [
        "# plot\n",
        "plt.figure(3, figsize=(10,6))\n",
        "plt.plot(np.array(range(iteration)), loss_history, color=\"blue\",label = \"T raining\")\n",
        "plt.plot(np.array(range(iteration)), loss_history2, color=\"red\", label = \"T esting\")\n",
        "plt.xlabel('Iterations')\n",
        "plt.ylabel('Loss value')\n",
        "plt.legend(loc='best')\n",
        "plt.title(\"λ = 1e-01\")\n",
        "plt.show()"
      ],
      "execution_count": 70,
      "outputs": [
        {
          "output_type": "display_data",
          "data": {
            "image/png": "[encoded data removed]",
            "text/plain": [
              "<Figure size 720x432 with 1 Axes>"
            ]
          },
          "metadata": {
            "tags": [],
            "needs_background": "light"
          }
        }
      ]
    },
    {
      "cell_type": "markdown",
      "metadata": {
        "id": "bhXLRpAc88IP"
      },
      "source": [
        ""
      ]
    },
    {
      "cell_type": "code",
      "metadata": {
        "id": "o5o_OV1r7ivE"
      },
      "source": [
        ""
      ],
      "execution_count": null,
      "outputs": []
    }
  ]
}