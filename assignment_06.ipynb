{
  "nbformat": 4,
  "nbformat_minor": 0,
  "metadata": {
    "colab": {
      "name": "assignment-06",
      "provenance": [],
      "authorship_tag": "ABX9TyOpH+cg4MyLg/2HaM7g467R",
      "include_colab_link": true
    },
    "kernelspec": {
      "name": "python3",
      "display_name": "Python 3"
    }
  },
  "cells": [
    {
      "cell_type": "markdown",
      "metadata": {
        "id": "view-in-github",
        "colab_type": "text"
      },
      "source": [
        "<a href=\"https://colab.research.google.com/github/moch1996/MachineLearningProj/blob/master/assignment_06.ipynb\" target=\"_parent\"><img src=\"https://colab.research.google.com/assets/colab-badge.svg\" alt=\"Open In Colab\"/></a>"
      ]
    },
    {
      "cell_type": "markdown",
      "metadata": {
        "id": "1li7sHM1ywrq"
      },
      "source": [
        "#Load the Data"
      ]
    },
    {
      "cell_type": "code",
      "metadata": {
        "id": "FDZHxl1wy-xm"
      },
      "source": [
        "import numpy as np\n",
        "import matplotlib.pyplot as plt\n",
        "import random\n",
        "import time"
      ],
      "execution_count": 403,
      "outputs": []
    },
    {
      "cell_type": "code",
      "metadata": {
        "id": "UfSNNjnPzQH9"
      },
      "source": [
        "# import data with numpy\n",
        "data_train = np.genfromtxt('training.txt', delimiter=',')\n",
        "data_test = np.genfromtxt('testing.txt', delimiter=',')"
      ],
      "execution_count": 308,
      "outputs": []
    },
    {
      "cell_type": "code",
      "metadata": {
        "id": "okezO0Q5z2Di"
      },
      "source": [
        "data_train[0,0] = 7.609000000000000208e-01\n",
        "data_test[0,0] = 1.007260000000000044e+00"
      ],
      "execution_count": 309,
      "outputs": []
    },
    {
      "cell_type": "code",
      "metadata": {
        "id": "6S5O0TIw0LZ9"
      },
      "source": [
        "# number of training data\n",
        "n_train = data_train.shape[0]\n",
        "n_test = data_test.shape[0]"
      ],
      "execution_count": 310,
      "outputs": []
    },
    {
      "cell_type": "code",
      "metadata": {
        "id": "UplpomtP0dfd"
      },
      "source": [
        "# training data\n",
        "x1_train          = data_train[:,0] # feature1\n",
        "x2_train          = data_train[:,1] # feature2\n",
        "y_train           = data_train[:,2][:,None] # label\n",
        "idx_class0_train  = (data_train[:,2]==0) # index of class 0\n",
        "idx_class1_train  = (data_train[:,2]==1) # index of class 1"
      ],
      "execution_count": 318,
      "outputs": []
    },
    {
      "cell_type": "code",
      "metadata": {
        "id": "CqCMfxanysHC"
      },
      "source": [
        "# testing data\n",
        "x1_test             = data_test[:,0] # feature 1\n",
        "x2_test             = data_test[:,1] # feature 2\n",
        "idx_class0_test     = (data_test[:,2]==0) # index of class0\n",
        "idx_class1_test     = (data_test[:,2]==1) # index of class1"
      ],
      "execution_count": 312,
      "outputs": []
    },
    {
      "cell_type": "code",
      "metadata": {
        "id": "bC1kVDDZ3C4g",
        "outputId": "a54b1b64-efa6-4337-efe1-4f5e6b450021",
        "colab": {
          "base_uri": "https://localhost:8080/",
          "height": 372
        }
      },
      "source": [
        "# Set the theta\n",
        "init_theta = np.zeros((10,10))\n",
        "for i in range(10) :\n",
        "  for j in range(10) :\n",
        "    init_theta[j,i] = random.uniform(1e-1,2e-1)\n",
        "\n",
        "init_theta"
      ],
      "execution_count": 450,
      "outputs": [
        {
          "output_type": "execute_result",
          "data": {
            "text/plain": [
              "array([[0.10117891, 0.14767281, 0.15003813, 0.18369297, 0.16691878,\n",
              "        0.12434845, 0.14928107, 0.17948664, 0.1876745 , 0.15951889],\n",
              "       [0.19620646, 0.16918841, 0.17070387, 0.17804371, 0.10375281,\n",
              "        0.11709467, 0.15349568, 0.13207607, 0.1676192 , 0.132675  ],\n",
              "       [0.14914907, 0.17770713, 0.13983105, 0.16580894, 0.10058204,\n",
              "        0.14434124, 0.10401152, 0.10320562, 0.18184284, 0.14998241],\n",
              "       [0.11567536, 0.12336722, 0.13696311, 0.11677086, 0.17709868,\n",
              "        0.13639612, 0.19963394, 0.16309433, 0.17317637, 0.10371642],\n",
              "       [0.12287454, 0.15041894, 0.17423256, 0.10529943, 0.12309737,\n",
              "        0.15560382, 0.18034987, 0.1510077 , 0.19368742, 0.10834921],\n",
              "       [0.13447272, 0.11402146, 0.17362945, 0.17638818, 0.14866418,\n",
              "        0.1899271 , 0.13878177, 0.14759613, 0.11061525, 0.14154837],\n",
              "       [0.13427647, 0.16395012, 0.17397149, 0.10640892, 0.11181734,\n",
              "        0.12395011, 0.18275364, 0.107191  , 0.1342024 , 0.11033464],\n",
              "       [0.14515449, 0.12511739, 0.1348967 , 0.1929793 , 0.18653716,\n",
              "        0.14803251, 0.1094369 , 0.18296596, 0.16426047, 0.16636497],\n",
              "       [0.13647722, 0.13771187, 0.11013497, 0.19356097, 0.1169539 ,\n",
              "        0.19732018, 0.17207679, 0.10704487, 0.14489905, 0.14454168],\n",
              "       [0.11343224, 0.11964854, 0.11412975, 0.12583088, 0.17541281,\n",
              "        0.17825227, 0.10698842, 0.1046408 , 0.11925888, 0.18134257]])"
            ]
          },
          "metadata": {
            "tags": []
          },
          "execution_count": 450
        }
      ]
    },
    {
      "cell_type": "code",
      "metadata": {
        "id": "tfAtA8QSd-uW"
      },
      "source": [
        "theta = init_theta"
      ],
      "execution_count": 454,
      "outputs": []
    },
    {
      "cell_type": "code",
      "metadata": {
        "id": "Kn0Vo8dQboEb"
      },
      "source": [
        "X = np.ones((200,100))\n",
        "for i in range(100) :\n",
        "  for j in range(100) :\n",
        "    X[:,j] = (x1_train**i)*(x2_train**j)\n",
        "      "
      ],
      "execution_count": 282,
      "outputs": []
    },
    {
      "cell_type": "code",
      "metadata": {
        "id": "wHq22tUYdjRA"
      },
      "source": [
        "# Feature function\n",
        "def feature(x1, x2, theta) :\n",
        "  feature_matrix = np.ones((10,10,200))\n",
        "  for i in range(10) :\n",
        "    for j in range(10) :\n",
        "      feature_matrix[j,i] = theta[j,i] * (x1**j) * (x2**i)\n",
        "\n",
        "  return feature_matrix"
      ],
      "execution_count": 315,
      "outputs": []
    },
    {
      "cell_type": "code",
      "metadata": {
        "id": "ygt6YQsJ-PJ5"
      },
      "source": [
        "# Feature function\n",
        "def feature2(x1,x2,theta) :\n",
        "  matrix = np.ones((10,10))\n",
        "  x1 = x1.reshape(x1.shape[0],1)\n",
        "  x2 = x2.reshape(x2.shape[0],1)\n",
        "  for i in range(10) :\n",
        "    for j in range(10) :\n",
        "      matrix[i,j] = theta[i,j] * np.dot((x1**i).T , x2**j)\n",
        "  return np.sum(matrix)"
      ],
      "execution_count": 228,
      "outputs": []
    },
    {
      "cell_type": "code",
      "metadata": {
        "id": "FE4YDEtJ9wIH",
        "outputId": "a94b433d-6069-411b-d81a-08c20693aa66",
        "colab": {
          "base_uri": "https://localhost:8080/",
          "height": 35
        }
      },
      "source": [
        "feature2(x1_train,x2_train,theta)"
      ],
      "execution_count": 229,
      "outputs": [
        {
          "output_type": "execute_result",
          "data": {
            "text/plain": [
              "3.996555651886597"
            ]
          },
          "metadata": {
            "tags": []
          },
          "execution_count": 229
        }
      ]
    },
    {
      "cell_type": "code",
      "metadata": {
        "id": "Fr2voyP85Xr9"
      },
      "source": [
        "# sigmoid function\n",
        "def sigmoid(z) :\n",
        "  sigmoid_f = 1 / (1+np.exp(-z))\n",
        "  return sigmoid_f"
      ],
      "execution_count": 316,
      "outputs": []
    },
    {
      "cell_type": "code",
      "metadata": {
        "id": "9s99tgGN5t6m"
      },
      "source": [
        "# Prediction function definition\n",
        "def f_pred(x1, x2, theta) :\n",
        "  p = sigmoid(feature(x1,x2,theta))\n",
        "  return p"
      ],
      "execution_count": 317,
      "outputs": []
    },
    {
      "cell_type": "code",
      "metadata": {
        "id": "08kJ8e3eO5Ig"
      },
      "source": [
        "h_arr = f_pred(x1_train,x2_train,theta)"
      ],
      "execution_count": 331,
      "outputs": []
    },
    {
      "cell_type": "code",
      "metadata": {
        "id": "JTVFcSZHjktH"
      },
      "source": [
        "# Loss function\n",
        "def ce_loss(label, f_pred, theta, lamb) :\n",
        "  n       =  len(label)\n",
        "  rho     =  np.mean(-label.T * np.log(f_pred + 1e-8) - (1-label).T * np.log(1 - f_pred+1e-8)) \n",
        "  gamma   =  np.sum(theta**2)\n",
        "  loss    =  rho + gamma *(lamb/2)\n",
        "  return loss"
      ],
      "execution_count": 487,
      "outputs": []
    },
    {
      "cell_type": "code",
      "metadata": {
        "id": "er2J79JPmfz4",
        "outputId": "8de3a384-bfdf-4d53-9fa3-afd109e60fdd",
        "colab": {
          "base_uri": "https://localhost:8080/",
          "height": 35
        }
      },
      "source": [
        "# Grad loss function\n",
        "def grad_loss()"
      ],
      "execution_count": 329,
      "outputs": [
        {
          "output_type": "execute_result",
          "data": {
            "text/plain": [
              "0.6930492327945231"
            ]
          },
          "metadata": {
            "tags": []
          },
          "execution_count": 329
        }
      ]
    },
    {
      "cell_type": "code",
      "metadata": {
        "id": "qDIGvbz3BWQ2"
      },
      "source": [
        "X = np.ones((200,100))"
      ],
      "execution_count": 341,
      "outputs": []
    },
    {
      "cell_type": "code",
      "metadata": {
        "id": "f0G8SA-sE6zO"
      },
      "source": [
        "for i in range(10) :\n",
        "  X[:,i] = (x1_train**i) * (x2_train**0)"
      ],
      "execution_count": 342,
      "outputs": []
    },
    {
      "cell_type": "code",
      "metadata": {
        "id": "oGlizTeuH6Yg"
      },
      "source": [
        "for i in range(10,20) :\n",
        "  X[:,i] = (x1_train**(i-10)) * (x2_train**1)"
      ],
      "execution_count": 364,
      "outputs": []
    },
    {
      "cell_type": "code",
      "metadata": {
        "id": "Uuan0ZGsISso"
      },
      "source": [
        "for i in range(20,30) :\n",
        "  X[:,i] = (x1_train**(i-20)) * (x2_train**2)"
      ],
      "execution_count": 369,
      "outputs": []
    },
    {
      "cell_type": "code",
      "metadata": {
        "id": "5qA3cqOaIYzn"
      },
      "source": [
        "for i in range(30,40) :\n",
        "  X[:,i] = (x1_train**(i-30)) * (x2_train**3)"
      ],
      "execution_count": 371,
      "outputs": []
    },
    {
      "cell_type": "code",
      "metadata": {
        "id": "kCJMuDrUIdnn"
      },
      "source": [
        "for i in range(40,50) :\n",
        "  X[:,i] = (x1_train**(i-40)) * (x2_train**4)"
      ],
      "execution_count": 372,
      "outputs": []
    },
    {
      "cell_type": "code",
      "metadata": {
        "id": "dXYGEX_0Ieuv"
      },
      "source": [
        "for i in range(50,60) :\n",
        "  X[:,i] = (x1_train**(i-50)) * (x2_train**5)"
      ],
      "execution_count": 373,
      "outputs": []
    },
    {
      "cell_type": "code",
      "metadata": {
        "id": "YeMv-Ep1Ieee"
      },
      "source": [
        "for i in range(60,70) :\n",
        "  X[:,i] = (x1_train**(i-60)) * (x2_train**6)"
      ],
      "execution_count": 374,
      "outputs": []
    },
    {
      "cell_type": "code",
      "metadata": {
        "id": "_qhwR-IrIeUH"
      },
      "source": [
        "for i in range(70,80) :\n",
        "  X[:,i] = (x1_train**(i-70)) * (x2_train**7)"
      ],
      "execution_count": 375,
      "outputs": []
    },
    {
      "cell_type": "code",
      "metadata": {
        "id": "Xw_rBSAKIeIP"
      },
      "source": [
        "for i in range(80,90) :\n",
        "  X[:,i] = (x1_train**(i-80)) * (x2_train**8)"
      ],
      "execution_count": 376,
      "outputs": []
    },
    {
      "cell_type": "code",
      "metadata": {
        "id": "ND7tfvt7IyJo"
      },
      "source": [
        "for i in range(90,100) :\n",
        "  X[:,i] = (x1_train**(i-90)) * (x2_train**9)"
      ],
      "execution_count": 377,
      "outputs": []
    },
    {
      "cell_type": "code",
      "metadata": {
        "id": "c2wITfMtGLVU",
        "outputId": "4377f0f2-1c80-4a08-ff2b-c74dd53894a0",
        "colab": {
          "base_uri": "https://localhost:8080/",
          "height": 35
        }
      },
      "source": [
        "X.shape"
      ],
      "execution_count": 381,
      "outputs": [
        {
          "output_type": "execute_result",
          "data": {
            "text/plain": [
              "(200, 100)"
            ]
          },
          "metadata": {
            "tags": []
          },
          "execution_count": 381
        }
      ]
    },
    {
      "cell_type": "code",
      "metadata": {
        "id": "1jGXBMiNIXqW",
        "outputId": "6416e758-2c48-486c-8e20-4447dd4910bc",
        "colab": {
          "base_uri": "https://localhost:8080/",
          "height": 35
        }
      },
      "source": [
        "theta=init_theta.reshape(100,-1)\n",
        "theta.shape"
      ],
      "execution_count": 453,
      "outputs": [
        {
          "output_type": "execute_result",
          "data": {
            "text/plain": [
              "(100, 1)"
            ]
          },
          "metadata": {
            "tags": []
          },
          "execution_count": 453
        }
      ]
    },
    {
      "cell_type": "code",
      "metadata": {
        "id": "Du_vzb2_JCZh"
      },
      "source": [
        "#real\n",
        "def pls_pred(X,theta) :\n",
        "  p = sigmoid(np.dot(X,theta))\n",
        "  return p"
      ],
      "execution_count": 388,
      "outputs": []
    },
    {
      "cell_type": "code",
      "metadata": {
        "id": "XxENPGoVJ8h4"
      },
      "source": [
        "prediction = pls_pred(X,theta)"
      ],
      "execution_count": 391,
      "outputs": []
    },
    {
      "cell_type": "code",
      "metadata": {
        "id": "3O83J9erJpys"
      },
      "source": [
        "#real\n",
        "def pls_loss(label, pls_pred):  # cross-entropy error\n",
        "    \n",
        "    return np.mean(-label * np.log(pls_pred + 1e-8) - (1-label) * np.log(1 - pls_pred + 1e-8)) \n"
      ],
      "execution_count": 488,
      "outputs": []
    },
    {
      "cell_type": "code",
      "metadata": {
        "id": "HhoS-eg2Jra6",
        "outputId": "8e88f768-4518-441e-ca00-e5bf8ec4b8d3",
        "colab": {
          "base_uri": "https://localhost:8080/",
          "height": 35
        }
      },
      "source": [
        "pls_loss(y_train,prediction)"
      ],
      "execution_count": 489,
      "outputs": [
        {
          "output_type": "execute_result",
          "data": {
            "text/plain": [
              "0.6833482879611114"
            ]
          },
          "metadata": {
            "tags": []
          },
          "execution_count": 489
        }
      ]
    },
    {
      "cell_type": "code",
      "metadata": {
        "id": "lZk2OloJKNaa"
      },
      "source": [
        "#real\n",
        "def plsgrad_loss(pls_pred,label, X) :\n",
        "  n = len(label)\n",
        "  loss = (2 * np.dot(X.T, pls_pred - label)) / n\n",
        "  return loss"
      ],
      "execution_count": 490,
      "outputs": []
    },
    {
      "cell_type": "code",
      "metadata": {
        "id": "iPVv2dqTKy91",
        "outputId": "7b7f4396-698f-48bc-a947-a47d70b35769",
        "colab": {
          "base_uri": "https://localhost:8080/",
          "height": 35
        }
      },
      "source": [
        "plsgrad_loss(prediction, y_train, X).shape"
      ],
      "execution_count": 398,
      "outputs": [
        {
          "output_type": "execute_result",
          "data": {
            "text/plain": [
              "(100, 1)"
            ]
          },
          "metadata": {
            "tags": []
          },
          "execution_count": 398
        }
      ]
    },
    {
      "cell_type": "code",
      "metadata": {
        "id": "GOnHEpEOK2dV"
      },
      "source": [
        "#real\n",
        "def grad_desc(X, label , theta_init, tau,lamb,iteration):\n",
        "\n",
        "    n = len(label)\n",
        "    loss_history = np.zeros(iteration)\n",
        "    coef_history = np.zeros((iteration,100))\n",
        "    theta2 = theta_init # initialization\n",
        "\n",
        "    for i in range(iteration): # loop over the iterations\n",
        "        y_pred =  pls_pred(X,theta2)\n",
        "        grad_f =  plsgrad_loss(y_pred,label,X) # gradient of the loss  \n",
        "        theta2 = (1- tau*lamb)*theta2 - tau*grad_f # update rule of gradient descent  \n",
        "        loss_history[i] = pls_loss(label,y_pred) # save the current loss value\n",
        "        coef_history[i,:] = theta2.T \n",
        "        \n",
        "    return theta2, loss_history, coef_history"
      ],
      "execution_count": 491,
      "outputs": []
    },
    {
      "cell_type": "code",
      "metadata": {
        "id": "2NE8eeN-bA7S",
        "outputId": "fcbc202d-744b-4494-de34-5f48ea1dc361",
        "colab": {
          "base_uri": "https://localhost:8080/",
          "height": 35
        }
      },
      "source": [
        "(1-tau*lamb)"
      ],
      "execution_count": 486,
      "outputs": [
        {
          "output_type": "execute_result",
          "data": {
            "text/plain": [
              "0.5"
            ]
          },
          "metadata": {
            "tags": []
          },
          "execution_count": 486
        }
      ]
    },
    {
      "cell_type": "code",
      "metadata": {
        "id": "bmxcydeoVOdJ",
        "outputId": "c23cb92d-f8a2-4aa0-ed27-233775291ee6",
        "colab": {
          "base_uri": "https://localhost:8080/",
          "height": 52
        }
      },
      "source": [
        "# run gradient descent algorithm\n",
        "start = time.time()\n",
        "w_init = np.zeros(10)[:,None]\n",
        "tau = 1\n",
        "iteration = 4000\n",
        "lamb = 1e-5\n",
        "theta2, loss_history, coef_history = grad_desc(X, y_train , theta, tau, lamb, iteration)\n",
        "\n",
        "print('TIME=',time.time()-start)\n",
        "print(loss_history[-1])\n",
        "#print(coef_history[-1].reshape(100,1))"
      ],
      "execution_count": 570,
      "outputs": [
        {
          "output_type": "stream",
          "text": [
            "TIME= 0.49819135665893555\n",
            "0.06406560386000112\n"
          ],
          "name": "stdout"
        }
      ]
    },
    {
      "cell_type": "code",
      "metadata": {
        "id": "N_681MT3XLOy",
        "outputId": "7d5b816c-69dc-4d58-d1a3-25e6fa3c1358",
        "colab": {
          "base_uri": "https://localhost:8080/",
          "height": 106
        }
      },
      "source": [
        "theta[:5]"
      ],
      "execution_count": 532,
      "outputs": [
        {
          "output_type": "execute_result",
          "data": {
            "text/plain": [
              "array([[0.11577806],\n",
              "       [0.13673755],\n",
              "       [0.11620745],\n",
              "       [0.11504881],\n",
              "       [0.14641975]])"
            ]
          },
          "metadata": {
            "tags": []
          },
          "execution_count": 532
        }
      ]
    },
    {
      "cell_type": "code",
      "metadata": {
        "id": "6MNOkfsVVtHp",
        "outputId": "040feafa-8199-44b7-fc47-e8601d7dd6e2",
        "colab": {
          "base_uri": "https://localhost:8080/",
          "height": 388
        }
      },
      "source": [
        "# plot\n",
        "plt.figure(3, figsize=(10,6))\n",
        "plt.plot(np.array(range(iteration)), loss_history)\n",
        "plt.xlabel('Iterations')\n",
        "plt.ylabel('Loss value')\n",
        "plt.show()"
      ],
      "execution_count": 571,
      "outputs": [
        {
          "output_type": "display_data",
          "data": {
            "image/png": "[encoded data removed]",
            "text/plain": [
              "<Figure size 720x432 with 1 Axes>"
            ]
          },
          "metadata": {
            "tags": [],
            "needs_background": "light"
          }
        }
      ]
    },
    {
      "cell_type": "code",
      "metadata": {
        "id": "qH8iQ9jHWWPy",
        "outputId": "573766aa-a75f-4f54-a0e1-e5f9c232da43",
        "colab": {
          "base_uri": "https://localhost:8080/",
          "height": 372
        }
      },
      "source": [
        "# Set the theta\n",
        "init_theta = np.zeros((10,10))\n",
        "for i in range(10) :\n",
        "  for j in range(10) :\n",
        "    init_theta[j,i] = random.uniform(1e-1,2e-1)\n",
        "\n",
        "init_theta"
      ],
      "execution_count": 455,
      "outputs": [
        {
          "output_type": "execute_result",
          "data": {
            "text/plain": [
              "array([[0.11577806, 0.13673755, 0.11620745, 0.11504881, 0.14641975,\n",
              "        0.17568129, 0.12604608, 0.10832476, 0.12309584, 0.16582497],\n",
              "       [0.11489435, 0.19678419, 0.17742107, 0.14430922, 0.16160654,\n",
              "        0.15774797, 0.10779051, 0.18920069, 0.14673045, 0.14125863],\n",
              "       [0.11138833, 0.14366378, 0.16332828, 0.16876222, 0.1591364 ,\n",
              "        0.16165535, 0.18007682, 0.12938744, 0.16798243, 0.15652168],\n",
              "       [0.19716164, 0.16009127, 0.13318581, 0.11170808, 0.19804675,\n",
              "        0.12114674, 0.10075135, 0.18787659, 0.17499162, 0.19968722],\n",
              "       [0.11019005, 0.17278639, 0.1142757 , 0.12364748, 0.11158329,\n",
              "        0.10163056, 0.11819873, 0.1679147 , 0.17731001, 0.18904346],\n",
              "       [0.1083806 , 0.11506604, 0.11361429, 0.13445826, 0.16612054,\n",
              "        0.18678548, 0.1890908 , 0.1640649 , 0.19284755, 0.18193967],\n",
              "       [0.12866825, 0.10545458, 0.17018818, 0.19971857, 0.1367034 ,\n",
              "        0.18873734, 0.17854228, 0.19958197, 0.14899273, 0.10120165],\n",
              "       [0.13924044, 0.13020147, 0.10150513, 0.10082139, 0.1578868 ,\n",
              "        0.14310527, 0.16405788, 0.13351679, 0.1313171 , 0.16950672],\n",
              "       [0.1001807 , 0.1398767 , 0.11995292, 0.10753771, 0.1618485 ,\n",
              "        0.1351182 , 0.10178314, 0.19857823, 0.12548312, 0.12754425],\n",
              "       [0.1417858 , 0.19574736, 0.18618996, 0.10519652, 0.1236876 ,\n",
              "        0.18011583, 0.19553433, 0.13221565, 0.18995554, 0.14716866]])"
            ]
          },
          "metadata": {
            "tags": []
          },
          "execution_count": 455
        }
      ]
    },
    {
      "cell_type": "code",
      "metadata": {
        "id": "tmnigryuZMuk"
      },
      "source": [
        "theta = init_theta.reshape(100,1)"
      ],
      "execution_count": 457,
      "outputs": []
    },
    {
      "cell_type": "code",
      "metadata": {
        "id": "OmTcmpa3ZRw9"
      },
      "source": [
        "# Plot "
      ],
      "execution_count": null,
      "outputs": []
    },
    {
      "cell_type": "markdown",
      "metadata": {
        "id": "OjRX6cl3hkvT"
      },
      "source": [
        "#OUTPUT"
      ]
    },
    {
      "cell_type": "markdown",
      "metadata": {
        "id": "IJFf3L2ohoKI"
      },
      "source": [
        "1. Plot the training data"
      ]
    },
    {
      "cell_type": "code",
      "metadata": {
        "id": "SDGJGM3fhmTt",
        "outputId": "16a14002-1d37-4ac0-bb41-654b9f118b63",
        "colab": {
          "base_uri": "https://localhost:8080/",
          "height": 607
        }
      },
      "source": [
        "plt.figure(1,figsize=(8,10))\n",
        "plt.scatter(x1_train[idx_class0_train],x2_train[idx_class0_train], s=50, c='r', label ='class = 0')\n",
        "plt.scatter(x1_train[idx_class1_train],x2_train[idx_class1_train], c='blue', s=50, label = 'class = 1')\n",
        "plt.title('Training data')\n",
        "plt.legend(loc='best')\n",
        "plt.xlim(-2,3)\n",
        "plt.ylim(-1.2,1.2)\n",
        "plt.show()"
      ],
      "execution_count": 587,
      "outputs": [
        {
          "output_type": "display_data",
          "data": {
            "image/png": "[encoded data removed]",
            "text/plain": [
              "<Figure size 576x720 with 1 Axes>"
            ]
          },
          "metadata": {
            "tags": [],
            "needs_background": "light"
          }
        }
      ]
    },
    {
      "cell_type": "markdown",
      "metadata": {
        "id": "iqwxu0UdjiSK"
      },
      "source": [
        "2. Plot the test data"
      ]
    },
    {
      "cell_type": "code",
      "metadata": {
        "id": "zxuGYEC9h87-",
        "outputId": "42fb8c3d-015c-41b8-95c1-1b10859837f4",
        "colab": {
          "base_uri": "https://localhost:8080/",
          "height": 607
        }
      },
      "source": [
        "plt.figure(1,figsize=(8,10))\n",
        "plt.scatter(x1_test[idx_class0_test],x2_test[idx_class0_test], s=50, c='r', label ='class = 0')\n",
        "plt.scatter(x1_test[idx_class1_test],x2_test[idx_class1_test], c='blue', s=50, label = 'class = 1')\n",
        "plt.title('Test data')\n",
        "plt.legend(loc='best')\n",
        "plt.xlim(-2,3)\n",
        "plt.ylim(-1.2,1.2)\n",
        "plt.show()"
      ],
      "execution_count": 588,
      "outputs": [
        {
          "output_type": "display_data",
          "data": {
            "image/png": "[encoded data removed]",
            "text/plain": [
              "<Figure size 576x720 with 1 Axes>"
            ]
          },
          "metadata": {
            "tags": [],
            "needs_background": "light"
          }
        }
      ]
    },
    {
      "cell_type": "code",
      "metadata": {
        "id": "O7PMyYgtjurT"
      },
      "source": [
        ""
      ],
      "execution_count": null,
      "outputs": []
    }
  ]
}