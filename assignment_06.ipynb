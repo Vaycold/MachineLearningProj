{
  "nbformat": 4,
  "nbformat_minor": 0,
  "metadata": {
    "colab": {
      "name": "assignment-06",
      "provenance": [],
      "toc_visible": true,
      "authorship_tag": "ABX9TyP0EG2hqOIZ6IveMabZAPOU",
      "include_colab_link": true
    },
    "kernelspec": {
      "name": "python3",
      "display_name": "Python 3"
    }
  },
  "cells": [
    {
      "cell_type": "markdown",
      "metadata": {
        "id": "view-in-github",
        "colab_type": "text"
      },
      "source": [
        "<a href=\"https://colab.research.google.com/github/moch1996/MachineLearningProj/blob/master/assignment_06.ipynb\" target=\"_parent\"><img src=\"https://colab.research.google.com/assets/colab-badge.svg\" alt=\"Open In Colab\"/></a>"
      ]
    },
    {
      "cell_type": "markdown",
      "metadata": {
        "id": "1li7sHM1ywrq"
      },
      "source": [
        "#Load the Data"
      ]
    },
    {
      "cell_type": "code",
      "metadata": {
        "id": "FDZHxl1wy-xm"
      },
      "source": [
        "import numpy as np\n",
        "import matplotlib.pyplot as plt\n",
        "import random"
      ],
      "execution_count": 21,
      "outputs": []
    },
    {
      "cell_type": "code",
      "metadata": {
        "id": "UfSNNjnPzQH9"
      },
      "source": [
        "# import data with numpy\n",
        "data_train = np.genfromtxt('training.txt', delimiter=',')\n",
        "data_test = np.genfromtxt('testing.txt', delimiter=',')"
      ],
      "execution_count": 2,
      "outputs": []
    },
    {
      "cell_type": "code",
      "metadata": {
        "id": "okezO0Q5z2Di"
      },
      "source": [
        "data_train[0,0] = 7.609000000000000208e-01\n",
        "data_test[0,0] = 1.007260000000000044e+00"
      ],
      "execution_count": 11,
      "outputs": []
    },
    {
      "cell_type": "code",
      "metadata": {
        "id": "6S5O0TIw0LZ9"
      },
      "source": [
        "# number of training data\n",
        "n_train = data_train.shape[0]\n",
        "n_test = data_test.shape[0]"
      ],
      "execution_count": 10,
      "outputs": []
    },
    {
      "cell_type": "code",
      "metadata": {
        "id": "UplpomtP0dfd"
      },
      "source": [
        "# training data\n",
        "x1_train          = data_train[:,0] # feature1\n",
        "x2_train          = data_train[:,1] # feature2\n",
        "idx_class0_train  = (data_train[:,2]==0) # index of class 0\n",
        "idx_class1_train  = (data_train[:,2]==1) # index of class 1"
      ],
      "execution_count": 18,
      "outputs": []
    },
    {
      "cell_type": "code",
      "metadata": {
        "id": "CqCMfxanysHC"
      },
      "source": [
        "# testing data\n",
        "x1_test             = data_test[:,0] # feature 1\n",
        "x2_test             = data_test[:,1] # feature 2\n",
        "idx_class0_test     = (data_test[:,2]==0) # index of class0\n",
        "idx_class1_test     = (data_test[:,2]==1) # index of class1"
      ],
      "execution_count": 20,
      "outputs": []
    },
    {
      "cell_type": "code",
      "metadata": {
        "id": "bC1kVDDZ3C4g"
      },
      "source": [
        "# Set the theta\n",
        "theta = np.zeros((10,10))\n",
        "for i in range(10) :\n",
        "  for j in range(10) :\n",
        "    theta[j,i] = random.random()\n",
        "\n",
        "theta"
      ],
      "execution_count": null,
      "outputs": []
    },
    {
      "cell_type": "code",
      "metadata": {
        "id": "Fr2voyP85Xr9"
      },
      "source": [
        "# sigmoid function\n",
        "def sigmoid(z) :\n",
        "  sigmoid_f = 1 / (1+np.exp(-z))\n",
        "  return sigmoid)_f"
      ],
      "execution_count": null,
      "outputs": []
    },
    {
      "cell_type": "code",
      "metadata": {
        "id": "9s99tgGN5t6m"
      },
      "source": [
        "# Prediction function definition\n",
        "def f_pred(X, w) :\n",
        "  p = sigmoid(np.dot(X,w))\n",
        "  return p"
      ],
      "execution_count": null,
      "outputs": []
    }
  ]
}