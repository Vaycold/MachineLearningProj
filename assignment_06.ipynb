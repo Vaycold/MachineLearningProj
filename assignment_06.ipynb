{
  "nbformat": 4,
  "nbformat_minor": 0,
  "metadata": {
    "colab": {
      "name": "assignment-06",
      "provenance": [],
      "toc_visible": true,
      "authorship_tag": "ABX9TyOcgmiXo6O/Cmm2n5lXi+o/",
      "include_colab_link": true
    },
    "kernelspec": {
      "name": "python3",
      "display_name": "Python 3"
    }
  },
  "cells": [
    {
      "cell_type": "markdown",
      "metadata": {
        "id": "view-in-github",
        "colab_type": "text"
      },
      "source": [
        "<a href=\"https://colab.research.google.com/github/moch1996/MachineLearningProj/blob/master/assignment_06.ipynb\" target=\"_parent\"><img src=\"https://colab.research.google.com/assets/colab-badge.svg\" alt=\"Open In Colab\"/></a>"
      ]
    },
    {
      "cell_type": "markdown",
      "metadata": {
        "id": "1li7sHM1ywrq"
      },
      "source": [
        "#Load the Data"
      ]
    },
    {
      "cell_type": "code",
      "metadata": {
        "id": "FDZHxl1wy-xm"
      },
      "source": [
        "import numpy as np\n",
        "import matplotlib.pyplot as plt\n",
        "import random"
      ],
      "execution_count": 3,
      "outputs": []
    },
    {
      "cell_type": "code",
      "metadata": {
        "id": "UfSNNjnPzQH9"
      },
      "source": [
        "# import data with numpy\n",
        "data_train = np.genfromtxt('training.txt', delimiter=',')\n",
        "data_test = np.genfromtxt('testing.txt', delimiter=',')"
      ],
      "execution_count": 4,
      "outputs": []
    },
    {
      "cell_type": "code",
      "metadata": {
        "id": "okezO0Q5z2Di"
      },
      "source": [
        "data_train[0,0] = 7.609000000000000208e-01\n",
        "data_test[0,0] = 1.007260000000000044e+00"
      ],
      "execution_count": 5,
      "outputs": []
    },
    {
      "cell_type": "code",
      "metadata": {
        "id": "6S5O0TIw0LZ9"
      },
      "source": [
        "# number of training data\n",
        "n_train = data_train.shape[0]\n",
        "n_test = data_test.shape[0]"
      ],
      "execution_count": 6,
      "outputs": []
    },
    {
      "cell_type": "code",
      "metadata": {
        "id": "UplpomtP0dfd"
      },
      "source": [
        "# training data\n",
        "x1_train          = data_train[:,0] # feature1\n",
        "x2_train          = data_train[:,1] # feature2\n",
        "idx_class0_train  = (data_train[:,2]==0) # index of class 0\n",
        "idx_class1_train  = (data_train[:,2]==1) # index of class 1"
      ],
      "execution_count": 7,
      "outputs": []
    },
    {
      "cell_type": "code",
      "metadata": {
        "id": "CqCMfxanysHC"
      },
      "source": [
        "# testing data\n",
        "x1_test             = data_test[:,0] # feature 1\n",
        "x2_test             = data_test[:,1] # feature 2\n",
        "idx_class0_test     = (data_test[:,2]==0) # index of class0\n",
        "idx_class1_test     = (data_test[:,2]==1) # index of class1"
      ],
      "execution_count": 13,
      "outputs": []
    },
    {
      "cell_type": "code",
      "metadata": {
        "id": "bC1kVDDZ3C4g"
      },
      "source": [
        "# Set the theta\n",
        "init_theta = np.zeros((10,10))\n",
        "for i in range(10) :\n",
        "  for j in range(10) :\n",
        "    init_theta[j,i] = random.random()\n",
        "\n",
        "init_theta"
      ],
      "execution_count": null,
      "outputs": []
    },
    {
      "cell_type": "code",
      "metadata": {
        "id": "tfAtA8QSd-uW"
      },
      "source": [
        "theta = init_theta"
      ],
      "execution_count": 67,
      "outputs": []
    },
    {
      "cell_type": "code",
      "metadata": {
        "id": "wHq22tUYdjRA"
      },
      "source": [
        "# Feature function\n",
        "def feature(x1, x2, theta) :\n",
        "  feature_matrix = np.ones((10,10,200))\n",
        "  for i in range(10) :\n",
        "    for j in range(10) :\n",
        "      feature_matrix[j,i] = theta[j,i]*(x1**j)*(x2**i)\n",
        "      return feature_matrix"
      ],
      "execution_count": 82,
      "outputs": []
    },
    {
      "cell_type": "code",
      "metadata": {
        "id": "Fr2voyP85Xr9"
      },
      "source": [
        "# sigmoid function\n",
        "def sigmoid(z) :\n",
        "  sigmoid_f = 1 / (1+np.exp(-z))\n",
        "  return sigmoid_f"
      ],
      "execution_count": 17,
      "outputs": []
    },
    {
      "cell_type": "code",
      "metadata": {
        "id": "9s99tgGN5t6m"
      },
      "source": [
        "# Prediction function definition\n",
        "def f_pred(x1, x2, theta) :\n",
        "  p = sigmoid(feature(x1,x2,theta))\n",
        "  return p"
      ],
      "execution_count": 83,
      "outputs": []
    },
    {
      "cell_type": "code",
      "metadata": {
        "id": "XpMW-0zzOaxV",
        "outputId": "64107f9f-b935-4ce9-cf70-d9c6b2b86fac",
        "colab": {
          "base_uri": "https://localhost:8080/",
          "height": 35
        }
      },
      "source": [
        "k = np.ones((10,10))\n",
        "k.reshape(1,10,10).shape"
      ],
      "execution_count": 81,
      "outputs": [
        {
          "output_type": "execute_result",
          "data": {
            "text/plain": [
              "(1, 10, 10)"
            ]
          },
          "metadata": {
            "tags": []
          },
          "execution_count": 81
        }
      ]
    }
  ]
}