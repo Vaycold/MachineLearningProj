{
  "nbformat": 4,
  "nbformat_minor": 0,
  "metadata": {
    "colab": {
      "name": "assignment-8",
      "provenance": [],
      "authorship_tag": "ABX9TyPg95jq7i6nyigY3G8H6mmB",
      "include_colab_link": true
    },
    "kernelspec": {
      "name": "python3",
      "display_name": "Python 3"
    }
  },
  "cells": [
    {
      "cell_type": "markdown",
      "metadata": {
        "id": "view-in-github",
        "colab_type": "text"
      },
      "source": [
        "<a href=\"https://colab.research.google.com/github/moch1996/MachineLearningProj/blob/master/assignment_8.ipynb\" target=\"_parent\"><img src=\"https://colab.research.google.com/assets/colab-badge.svg\" alt=\"Open In Colab\"/></a>"
      ]
    },
    {
      "cell_type": "code",
      "metadata": {
        "id": "dLL0pk6hvtaX"
      },
      "source": [
        "import numpy as np\n",
        "import matplotlib.pyplot as plt\n",
        "\n",
        "\n",
        "#dataset = pd.read_csv('data-kmeans.csv')\n",
        "#data = dataset.values"
      ],
      "execution_count": 3,
      "outputs": []
    },
    {
      "cell_type": "code",
      "metadata": {
        "id": "L5RrCKCVvw5m"
      },
      "source": [
        "data = np.genfromtxt('data-pca.txt', delimiter=',')\n",
        "data[0,0] = 3.38156\n",
        "x = data[:,0]\n",
        "y = data[:,1]\n",
        "data"
      ],
      "execution_count": null,
      "outputs": []
    },
    {
      "cell_type": "code",
      "metadata": {
        "id": "ZytE8I5nwS6F",
        "outputId": "5bca9f16-275a-4af5-c143-882c39390d09",
        "colab": {
          "base_uri": "https://localhost:8080/"
        }
      },
      "source": [
        ""
      ],
      "execution_count": 13,
      "outputs": [
        {
          "output_type": "execute_result",
          "data": {
            "text/plain": [
              "array([3.38911, 5.85418, 4.41199, 3.71541, 4.17551, 6.48838, 3.63285,\n",
              "       6.68077, 5.09845, 5.6233 , 5.39765, 5.46117, 4.95469, 4.66149,\n",
              "       3.76802, 6.31211, 5.66524, 4.62646, 7.3632 , 4.64651, 6.68104,\n",
              "       4.80278, 6.12044, 4.68943, 3.88449, 4.94256, 5.95502, 5.10839,\n",
              "       4.81896, 5.10037, 5.89301, 5.52142, 3.8571 , 4.68074, 4.56538,\n",
              "       6.25435, 3.73097, 5.67948, 3.24754, 5.1111 , 6.02564, 4.43686,\n",
              "       3.97879, 5.87979, 3.30025, 5.40774, 2.87869, 5.07108, 4.50533,\n",
              "       6.08507])"
            ]
          },
          "metadata": {
            "tags": []
          },
          "execution_count": 13
        }
      ]
    },
    {
      "cell_type": "code",
      "metadata": {
        "id": "qN107CvExSUO"
      },
      "source": [
        ""
      ],
      "execution_count": null,
      "outputs": []
    },
    {
      "cell_type": "markdown",
      "metadata": {
        "id": "LUdJyk_Mxdsl"
      },
      "source": [
        "#OUTPUT"
      ]
    },
    {
      "cell_type": "markdown",
      "metadata": {
        "id": "YjfbvJarxhf8"
      },
      "source": [
        "1. Plot the original data points [1pt]"
      ]
    },
    {
      "cell_type": "code",
      "metadata": {
        "id": "m5ZLW9x3xeaa",
        "outputId": "b6cb6810-f7d0-48e5-a007-7b8b9c7ed323",
        "colab": {
          "base_uri": "https://localhost:8080/",
          "height": 618
        }
      },
      "source": [
        "plt.figure(1,figsize=(10,10))\n",
        "plt.scatter(data[:,0], data[:,1], s=150, c='red', marker = '+')\n",
        "plt.title('Original Data Points',fontsize = 20)\n",
        "plt.xlim(0,7)\n",
        "plt.ylim(2,8)\n",
        "\n",
        "plt.rc('xtick', labelsize = 15)\n",
        "plt.rc('ytick', labelsize = 15)\n",
        "\n",
        "plt.show()"
      ],
      "execution_count": 52,
      "outputs": [
        {
          "output_type": "display_data",
          "data": {
            "image/png": "[encoded data removed]",
            "text/plain": [
              "<Figure size 720x720 with 1 Axes>"
            ]
          },
          "metadata": {
            "tags": [],
            "needs_background": "light"
          }
        }
      ]
    },
    {
      "cell_type": "code",
      "metadata": {
        "id": "NFCIEte2xwWb"
      },
      "source": [
        ""
      ],
      "execution_count": 50,
      "outputs": []
    }
  ]
}