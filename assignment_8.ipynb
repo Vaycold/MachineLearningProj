{
  "nbformat": 4,
  "nbformat_minor": 0,
  "metadata": {
    "colab": {
      "name": "assignment-8",
      "provenance": [],
      "authorship_tag": "ABX9TyP/H0LLtJxo5P6Tb3TNG6P2",
      "include_colab_link": true
    },
    "kernelspec": {
      "name": "python3",
      "display_name": "Python 3"
    }
  },
  "cells": [
    {
      "cell_type": "markdown",
      "metadata": {
        "id": "view-in-github",
        "colab_type": "text"
      },
      "source": [
        "<a href=\"https://colab.research.google.com/github/moch1996/MachineLearningProj/blob/master/assignment_8.ipynb\" target=\"_parent\"><img src=\"https://colab.research.google.com/assets/colab-badge.svg\" alt=\"Open In Colab\"/></a>"
      ]
    },
    {
      "cell_type": "code",
      "metadata": {
        "id": "dLL0pk6hvtaX"
      },
      "source": [
        "import numpy as np\n",
        "import matplotlib.pyplot as plt\n",
        "import matplotlib.patches as patches"
      ],
      "execution_count": 1,
      "outputs": []
    },
    {
      "cell_type": "code",
      "metadata": {
        "id": "L5RrCKCVvw5m",
        "outputId": "884c29aa-6d29-4f07-81e0-29f4e287b2c2",
        "colab": {
          "base_uri": "https://localhost:8080/"
        }
      },
      "source": [
        "data = np.genfromtxt('data-pca.txt', delimiter=',')\n",
        "data[0,0] = 3.38156\n",
        "x = data[:,0]\n",
        "y = data[:,1]\n",
        "data[:5]"
      ],
      "execution_count": 2,
      "outputs": [
        {
          "output_type": "execute_result",
          "data": {
            "text/plain": [
              "array([[3.38156, 3.38911],\n",
              "       [4.52788, 5.85418],\n",
              "       [2.65568, 4.41199],\n",
              "       [2.76523, 3.71541],\n",
              "       [2.84656, 4.17551]])"
            ]
          },
          "metadata": {
            "tags": []
          },
          "execution_count": 2
        }
      ]
    },
    {
      "cell_type": "code",
      "metadata": {
        "id": "0p1Mmohu3oUd",
        "outputId": "724c0b34-291a-4053-cd0b-5d82f111cbfe",
        "colab": {
          "base_uri": "https://localhost:8080/"
        }
      },
      "source": [
        "print(np.var(x))\n",
        "print(np.sqrt(np.var(x))**2)"
      ],
      "execution_count": 3,
      "outputs": [
        {
          "output_type": "stream",
          "text": [
            "1.34852614662096\n",
            "1.3485261466209602\n"
          ],
          "name": "stdout"
        }
      ]
    },
    {
      "cell_type": "code",
      "metadata": {
        "id": "ZytE8I5nwS6F"
      },
      "source": [
        "#Normalized data\n",
        "def normalize(x,y) :\n",
        "  mux = np.mean(x)\n",
        "  muy = np.mean(y)\n",
        "  sdx = np.sqrt(np.var(x))\n",
        "  sdy = np.sqrt(np.var(y))\n",
        "\n",
        "  xn = (x - mux ) / sdx\n",
        "  yn = (y - muy ) / sdy\n",
        "\n",
        "  return xn,yn"
      ],
      "execution_count": 4,
      "outputs": []
    },
    {
      "cell_type": "code",
      "metadata": {
        "id": "0doKCyHU4W4E",
        "outputId": "d81b69aa-ae54-4f00-f932-9f4fde9fdb12",
        "colab": {
          "base_uri": "https://localhost:8080/"
        }
      },
      "source": [
        "xn = normalize(x,y)[0]\n",
        "yn = normalize(x,y)[1]\n",
        "print(np.mean(xn)) #xn의 평균 = 0\n",
        "print(np.mean(yn)) #yn의 평균 = 0\n",
        "print(np.sqrt(np.var(xn))) #xn의 표준편차 = 1\n",
        "print(np.sqrt(np.var(yn))) #yn의 표준편차 = 1"
      ],
      "execution_count": 5,
      "outputs": [
        {
          "output_type": "stream",
          "text": [
            "-1.509903313490213e-16\n",
            "-4.840572387365683e-16\n",
            "0.9999999999999999\n",
            "0.9999999999999999\n"
          ],
          "name": "stdout"
        }
      ]
    },
    {
      "cell_type": "code",
      "metadata": {
        "id": "qN107CvExSUO",
        "outputId": "daabccda-228e-42a6-f262-fc0ac0a2f227",
        "colab": {
          "base_uri": "https://localhost:8080/"
        }
      },
      "source": [
        "z = np.ones((50,2))\n",
        "z[:,0] = xn\n",
        "z[:,1] = yn\n",
        "len(z)"
      ],
      "execution_count": 6,
      "outputs": [
        {
          "output_type": "execute_result",
          "data": {
            "text/plain": [
              "50"
            ]
          },
          "metadata": {
            "tags": []
          },
          "execution_count": 6
        }
      ]
    },
    {
      "cell_type": "code",
      "metadata": {
        "id": "j13dRdFB9L__",
        "outputId": "d2ca6e77-1852-4de4-83dd-4807846335d0",
        "colab": {
          "base_uri": "https://localhost:8080/"
        }
      },
      "source": [
        "def covariance(x,y) :\n",
        "  n = len(x)\n",
        "  covar = np.dot(x.T,y) / n\n",
        "\n",
        "  return covar\n",
        "sigma = covariance(z,z)\n",
        "sigma"
      ],
      "execution_count": 7,
      "outputs": [
        {
          "output_type": "execute_result",
          "data": {
            "text/plain": [
              "array([[1.     , 0.73553],\n",
              "       [0.73553, 1.     ]])"
            ]
          },
          "metadata": {
            "tags": []
          },
          "execution_count": 7
        }
      ]
    },
    {
      "cell_type": "code",
      "metadata": {
        "id": "a3Y97ALuZJ2V"
      },
      "source": [
        "eig_val, eig_vec = np.linalg.eig(sigma)"
      ],
      "execution_count": 8,
      "outputs": []
    },
    {
      "cell_type": "code",
      "metadata": {
        "id": "ZZwWfDoAKZPm",
        "outputId": "faa9c458-66f5-4bb2-8086-70bb3d19e09d",
        "colab": {
          "base_uri": "https://localhost:8080/"
        }
      },
      "source": [
        "eig_val_matrix = np.diag(eig_val)\n",
        "print(eig_val_matrix)\n",
        "test = np.dot(eig_vec,eig_val_matrix)\n",
        "print(test)\n",
        "final = np.dot(test,eig_vec.T)\n",
        "print(final)"
      ],
      "execution_count": 9,
      "outputs": [
        {
          "output_type": "stream",
          "text": [
            "[[1.73553 0.     ]\n",
            " [0.      0.26447]]\n",
            "[[ 1.22720503 -0.18700853]\n",
            " [ 1.22720503  0.18700853]]\n",
            "[[1.      0.73553]\n",
            " [0.73553 1.     ]]\n"
          ],
          "name": "stdout"
        }
      ]
    },
    {
      "cell_type": "code",
      "metadata": {
        "id": "LnXv_VE5bqZA",
        "outputId": "f2bf975d-7a9c-4014-86f6-326d4a1475bb",
        "colab": {
          "base_uri": "https://localhost:8080/"
        }
      },
      "source": [
        "def pc_direc(covariance) :\n",
        "  direction_matrix = np.linalg.eig(covariance)[1]\n",
        "  return direction_matrix\n",
        "principal_directions = pc_direc(sigma)\n",
        "principal_directions"
      ],
      "execution_count": 10,
      "outputs": [
        {
          "output_type": "execute_result",
          "data": {
            "text/plain": [
              "array([[ 0.70710678, -0.70710678],\n",
              "       [ 0.70710678,  0.70710678]])"
            ]
          },
          "metadata": {
            "tags": []
          },
          "execution_count": 10
        }
      ]
    },
    {
      "cell_type": "code",
      "metadata": {
        "id": "hqmAU6NFczcp",
        "outputId": "ce91f9d1-32e0-4051-9645-9c3f0b027ca8",
        "colab": {
          "base_uri": "https://localhost:8080/"
        }
      },
      "source": [
        "k1_direc = principal_directions[:,0]\n",
        "k2_direc = principal_directions[:,1]\n",
        "print(k1_direc)\n",
        "print(\"\")\n",
        "print(k2_direc)"
      ],
      "execution_count": 11,
      "outputs": [
        {
          "output_type": "stream",
          "text": [
            "[0.70710678 0.70710678]\n",
            "\n",
            "[-0.70710678  0.70710678]\n"
          ],
          "name": "stdout"
        }
      ]
    },
    {
      "cell_type": "code",
      "metadata": {
        "id": "GGxr-gvAonTH",
        "outputId": "646fd8fe-f1bb-4feb-e604-e831e26a6929",
        "colab": {
          "base_uri": "https://localhost:8080/",
          "height": 612
        }
      },
      "source": [
        "fig1 = plt.figure(1,figsize=(10,10))\n",
        "ax1 = fig1.add_subplot(111)\n",
        "ax1.scatter(xn, yn , s=150, c='red', marker = '+')\n",
        "ax1.add_patch(\n",
        "     patches.Arrow(\n",
        "        0.0, 0.0,\n",
        "        k1_direc[0],k1_direc[1],\n",
        "        width=0.1,\n",
        "        edgecolor = 'pink',\n",
        "        facecolor = 'pink'\n",
        "     ))\n",
        "ax1.add_patch(\n",
        "     patches.Arrow(\n",
        "        0.0, 0.0,\n",
        "        k2_direc[0],k2_direc[1],\n",
        "        width=0.1,\n",
        "        edgecolor = 'blue',\n",
        "        facecolor = 'blue'\n",
        "     ))\n",
        "\n",
        "\n",
        "plt.title('test',fontsize = 20)\n",
        "plt.xlim(-3,3)\n",
        "plt.ylim(-3,3)\n",
        "\n",
        "plt.rc('xtick', labelsize = 15)\n",
        "plt.rc('ytick', labelsize = 15)\n"
      ],
      "execution_count": 12,
      "outputs": [
        {
          "output_type": "display_data",
          "data": {
            "image/png": "[encoded data removed]",
            "text/plain": [
              "<Figure size 720x720 with 1 Axes>"
            ]
          },
          "metadata": {
            "tags": [],
            "needs_background": "light"
          }
        }
      ]
    },
    {
      "cell_type": "code",
      "metadata": {
        "id": "lU1UpUAoOlc4",
        "outputId": "af02989d-53bb-4e3e-c4f7-8ce94ffe81af",
        "colab": {
          "base_uri": "https://localhost:8080/"
        }
      },
      "source": [
        "k1_direc[1] / k1_direc[0] "
      ],
      "execution_count": 13,
      "outputs": [
        {
          "output_type": "execute_result",
          "data": {
            "text/plain": [
              "1.0"
            ]
          },
          "metadata": {
            "tags": []
          },
          "execution_count": 13
        }
      ]
    },
    {
      "cell_type": "code",
      "metadata": {
        "id": "juAQJxId1rdr",
        "outputId": "491f4bf8-dbda-43a4-de98-3264298b4262",
        "colab": {
          "base_uri": "https://localhost:8080/"
        }
      },
      "source": [
        "k2_direc[1] / k2_direc[0]"
      ],
      "execution_count": 14,
      "outputs": [
        {
          "output_type": "execute_result",
          "data": {
            "text/plain": [
              "-1.0"
            ]
          },
          "metadata": {
            "tags": []
          },
          "execution_count": 14
        }
      ]
    },
    {
      "cell_type": "code",
      "metadata": {
        "id": "odeA0UTg10cB"
      },
      "source": [
        "slope_1 = k1_direc[1] / k1_direc[0]\n",
        "slope_2 = k2_direc[1] / k2_direc[0]"
      ],
      "execution_count": 15,
      "outputs": []
    },
    {
      "cell_type": "code",
      "metadata": {
        "id": "WsyTtfeS2U5C"
      },
      "source": [
        "xx_1 = np.linspace(-2.5,2.5)\n",
        "yy_1 = slope_1 * xx_1\n",
        "xx_2 = np.linspace(-2.5,2.5)\n",
        "yy_2 = slope_2 * xx_2"
      ],
      "execution_count": 16,
      "outputs": []
    },
    {
      "cell_type": "code",
      "metadata": {
        "id": "kELo__mXOens",
        "outputId": "49425ff8-f656-4ffd-dde6-9f21697753e2",
        "colab": {
          "base_uri": "https://localhost:8080/",
          "height": 620
        }
      },
      "source": [
        "fig1 = plt.figure(1,figsize=(10,10))\n",
        "ax1 = fig1.add_subplot(111)\n",
        "ax1.scatter(xn, yn , s=150, c='red', marker = '+')\n",
        "plt.xlim(-3,3)\n",
        "plt.ylim(-3,3)\n",
        "plt.plot(xx_1,yy_1,c='pink')"
      ],
      "execution_count": 17,
      "outputs": [
        {
          "output_type": "execute_result",
          "data": {
            "text/plain": [
              "[<matplotlib.lines.Line2D at 0x7f8e86fd67b8>]"
            ]
          },
          "metadata": {
            "tags": []
          },
          "execution_count": 17
        },
        {
          "output_type": "display_data",
          "data": {
            "image/png": "[encoded data removed]",
            "text/plain": [
              "<Figure size 720x720 with 1 Axes>"
            ]
          },
          "metadata": {
            "tags": [],
            "needs_background": "light"
          }
        }
      ]
    },
    {
      "cell_type": "code",
      "metadata": {
        "id": "QB4LPcO5PHWm",
        "outputId": "14834da4-8c6b-4092-de35-14a41268ba6d",
        "colab": {
          "base_uri": "https://localhost:8080/"
        }
      },
      "source": [
        "print(z[:,0][:5])\n",
        "print(z[:,1][:5])\n",
        "print(z[:2])\n",
        "print(-1/slope_1)\n",
        "slope1_inv_test =-1/(slope_1)\n",
        "print(\"\")\n",
        "print(slope1_inv_test)\n",
        "b_t = z[:,1] - slope1_inv_test*z[:,0]\n",
        "print(\"\")\n",
        "print(\"\")\n",
        "print(b_t[:5])\n",
        "result_t = slope1_inv_test * z[:,0] + b_t\n",
        "print(result_t[:5])\n",
        "final_x = (result_t) / slope_1\n",
        "final_y = (final_x) * slope_1\n",
        "print(final_x[:10])\n",
        "print(final_y[:10])"
      ],
      "execution_count": 19,
      "outputs": [
        {
          "output_type": "stream",
          "text": [
            "[-0.5233151   0.46381907 -1.14839444 -1.0540573  -0.98402134]\n",
            "[-1.59279489  0.84034673 -0.58316356 -1.27072124 -0.8165806 ]\n",
            "[[-0.5233151  -1.59279489]\n",
            " [ 0.46381907  0.84034673]]\n",
            "-1.0\n",
            "\n",
            "-1.0\n",
            "\n",
            "\n",
            "[-2.11610999  1.3041658  -1.731558   -2.32477854 -1.80060194]\n",
            "[-1.59279489  0.84034673 -0.58316356 -1.27072124 -0.8165806 ]\n",
            "[-1.59279489  0.84034673 -0.58316356 -1.27072124 -0.8165806   1.46633237\n",
            " -1.35221189  1.65623047  0.09440519  0.61245716]\n",
            "[-1.59279489  0.84034673 -0.58316356 -1.27072124 -0.8165806   1.46633237\n",
            " -1.35221189  1.65623047  0.09440519  0.61245716]\n"
          ],
          "name": "stdout"
        }
      ]
    },
    {
      "cell_type": "code",
      "metadata": {
        "id": "Epi64Gqn5I7W"
      },
      "source": [
        "def projection(z, axis=slope_1):\n",
        "  projection_matrix = np.ones((len(z),2))\n",
        "  cliff = -1 *(1/axis)\n",
        "  b = z[:,1] - cliff*z[:,0]\n",
        "  \n",
        "  x = (axis / (axis**2 +1))*b\n",
        "  y = axis * x\n",
        "  projection_matrix[:,0] = x\n",
        "  projection_matrix[:,1] = y\n",
        "\n",
        "  return projection_matrix\n",
        "    \n",
        "\n",
        "    #projection = # compute the projection of point on the axis #\n",
        "    \n",
        "    #return projection\n"
      ],
      "execution_count": 26,
      "outputs": []
    },
    {
      "cell_type": "code",
      "metadata": {
        "id": "ishMJ7M95kl7",
        "outputId": "6f12a07e-8f54-402a-8355-2f7486618b23",
        "colab": {
          "base_uri": "https://localhost:8080/"
        }
      },
      "source": [
        "print(projection(z,-1)[:5])\n",
        "print(projection(z,1)[:5])"
      ],
      "execution_count": 27,
      "outputs": [
        {
          "output_type": "stream",
          "text": [
            "[[ 0.5347399  -0.5347399 ]\n",
            " [-0.18826383  0.18826383]\n",
            " [-0.28261544  0.28261544]\n",
            " [ 0.10833197 -0.10833197]\n",
            " [-0.08372037  0.08372037]]\n",
            "[[-1.058055   -1.058055  ]\n",
            " [ 0.6520829   0.6520829 ]\n",
            " [-0.865779   -0.865779  ]\n",
            " [-1.16238927 -1.16238927]\n",
            " [-0.90030097 -0.90030097]]\n"
          ],
          "name": "stdout"
        }
      ]
    },
    {
      "cell_type": "code",
      "metadata": {
        "id": "R7b5SXyCDejj",
        "outputId": "63216f37-5e62-4c7f-d8f9-c227056f969f",
        "colab": {
          "base_uri": "https://localhost:8080/"
        }
      },
      "source": [
        "print(z[:5])"
      ],
      "execution_count": 22,
      "outputs": [
        {
          "output_type": "stream",
          "text": [
            "[[-0.5233151  -1.59279489]\n",
            " [ 0.46381907  0.84034673]\n",
            " [-1.14839444 -0.58316356]\n",
            " [-1.0540573  -1.27072124]\n",
            " [-0.98402134 -0.8165806 ]]\n"
          ],
          "name": "stdout"
        }
      ]
    },
    {
      "cell_type": "code",
      "metadata": {
        "id": "SYKhmKfCfFpL",
        "outputId": "f97caab3-6ef9-4e14-82c8-beadc418e600",
        "colab": {
          "base_uri": "https://localhost:8080/"
        }
      },
      "source": [
        "np.argmax(projection(z,-1))"
      ],
      "execution_count": 28,
      "outputs": [
        {
          "output_type": "execute_result",
          "data": {
            "text/plain": [
              "95"
            ]
          },
          "metadata": {
            "tags": []
          },
          "execution_count": 28
        }
      ]
    },
    {
      "cell_type": "code",
      "metadata": {
        "id": "tmSWz99ufShM",
        "outputId": "df00999b-141c-439b-eff1-29c3d3f027c9",
        "colab": {
          "base_uri": "https://localhost:8080/",
          "height": 172
        }
      },
      "source": [
        "projection(z,1)"
      ],
      "execution_count": 18,
      "outputs": [
        {
          "output_type": "error",
          "ename": "NameError",
          "evalue": "ignored",
          "traceback": [
            "\u001b[0;31m---------------------------------------------------------------------------\u001b[0m",
            "\u001b[0;31mNameError\u001b[0m                                 Traceback (most recent call last)",
            "\u001b[0;32m<ipython-input-18-4d774d611a19>\u001b[0m in \u001b[0;36m<module>\u001b[0;34m()\u001b[0m\n\u001b[0;32m----> 1\u001b[0;31m \u001b[0mprojection\u001b[0m\u001b[0;34m(\u001b[0m\u001b[0mz\u001b[0m\u001b[0;34m,\u001b[0m\u001b[0;36m1\u001b[0m\u001b[0;34m)\u001b[0m\u001b[0;34m\u001b[0m\u001b[0;34m\u001b[0m\u001b[0m\n\u001b[0m",
            "\u001b[0;31mNameError\u001b[0m: name 'projection' is not defined"
          ]
        }
      ]
    },
    {
      "cell_type": "code",
      "metadata": {
        "id": "47J-SOWAeRHB",
        "outputId": "38bad8aa-48d1-46ff-f172-3e9907dba591",
        "colab": {
          "base_uri": "https://localhost:8080/",
          "height": 620
        }
      },
      "source": [
        "plt.figure(1,figsize=(10,10))\n",
        "plt.scatter(projection(z,-1)[:,0],projection(z,-1)[:,1])\n",
        "plt.ylim(-3,3)\n",
        "plt.xlim(-3,3)"
      ],
      "execution_count": 31,
      "outputs": [
        {
          "output_type": "execute_result",
          "data": {
            "text/plain": [
              "(-3.0, 3.0)"
            ]
          },
          "metadata": {
            "tags": []
          },
          "execution_count": 31
        },
        {
          "output_type": "display_data",
          "data": {
            "image/png": "[encoded data removed]",
            "text/plain": [
              "<Figure size 720x720 with 1 Axes>"
            ]
          },
          "metadata": {
            "tags": [],
            "needs_background": "light"
          }
        }
      ]
    },
    {
      "cell_type": "code",
      "metadata": {
        "id": "hz4T739iIz5-",
        "outputId": "1831eb52-297d-4daf-d1d8-6280e515cca8",
        "colab": {
          "base_uri": "https://localhost:8080/"
        }
      },
      "source": [
        "eig_vec[:,0] * z[:5]"
      ],
      "execution_count": null,
      "outputs": [
        {
          "output_type": "execute_result",
          "data": {
            "text/plain": [
              "array([[-0.37003966, -1.12627607],\n",
              "       [ 0.32796961,  0.59421487],\n",
              "       [-0.8120375 , -0.41235891],\n",
              "       [-0.74533107, -0.8985356 ],\n",
              "       [-0.69580816, -0.57740968]])"
            ]
          },
          "metadata": {
            "tags": []
          },
          "execution_count": 21
        }
      ]
    },
    {
      "cell_type": "code",
      "metadata": {
        "id": "CemwceDyI5L6"
      },
      "source": [
        ""
      ],
      "execution_count": null,
      "outputs": []
    },
    {
      "cell_type": "markdown",
      "metadata": {
        "id": "LUdJyk_Mxdsl"
      },
      "source": [
        "#OUTPUT"
      ]
    },
    {
      "cell_type": "markdown",
      "metadata": {
        "id": "YjfbvJarxhf8"
      },
      "source": [
        "1. Plot the original data points [1pt]"
      ]
    },
    {
      "cell_type": "code",
      "metadata": {
        "id": "m5ZLW9x3xeaa",
        "outputId": "b6cb6810-f7d0-48e5-a007-7b8b9c7ed323",
        "colab": {
          "base_uri": "https://localhost:8080/",
          "height": 618
        }
      },
      "source": [
        "plt.figure(1,figsize=(10,10))\n",
        "plt.scatter(data[:,0], data[:,1], s=150, c='red', marker = '+')\n",
        "plt.title('Original Data Points',fontsize = 20)\n",
        "plt.xlim(0,7)\n",
        "plt.ylim(2,8)\n",
        "\n",
        "plt.rc('xtick', labelsize = 15)\n",
        "plt.rc('ytick', labelsize = 15)\n",
        "\n",
        "plt.show()"
      ],
      "execution_count": null,
      "outputs": [
        {
          "output_type": "display_data",
          "data": {
            "image/png": "[encoded data removed]",
            "text/plain": [
              "<Figure size 720x720 with 1 Axes>"
            ]
          },
          "metadata": {
            "tags": [],
            "needs_background": "light"
          }
        }
      ]
    },
    {
      "cell_type": "markdown",
      "metadata": {
        "id": "PZNNJnr1CJmU"
      },
      "source": [
        "2. Plot the normalized data points [1pt]"
      ]
    },
    {
      "cell_type": "code",
      "metadata": {
        "id": "NFCIEte2xwWb",
        "outputId": "52676904-adb6-4af8-f6cf-19c77d99548e",
        "colab": {
          "base_uri": "https://localhost:8080/",
          "height": 618
        }
      },
      "source": [
        "plt.figure(1,figsize=(10,10))\n",
        "plt.scatter(xn, yn , s=150, c='red', marker = '+')\n",
        "plt.title('Data normalized by z-scoring',fontsize = 20)\n",
        "plt.xlim(-3,3)\n",
        "plt.ylim(-3,3)\n",
        "\n",
        "plt.rc('xtick', labelsize = 15)\n",
        "plt.rc('ytick', labelsize = 15)\n",
        "\n",
        "plt.show()"
      ],
      "execution_count": null,
      "outputs": [
        {
          "output_type": "display_data",
          "data": {
            "image/png": "[encoded data removed]",
            "text/plain": [
              "<Figure size 720x720 with 1 Axes>"
            ]
          },
          "metadata": {
            "tags": [],
            "needs_background": "light"
          }
        }
      ]
    },
    {
      "cell_type": "markdown",
      "metadata": {
        "id": "eV4wDRZf4kne"
      },
      "source": [
        "3. Plot the principal axes [2pt]"
      ]
    },
    {
      "cell_type": "code",
      "metadata": {
        "id": "WGdejb6SCXnb",
        "outputId": "0508a212-2d63-40ce-c76e-dc207c750268",
        "colab": {
          "base_uri": "https://localhost:8080/",
          "height": 618
        }
      },
      "source": [
        "fig1 = plt.figure(1,figsize=(10,10))\n",
        "ax1 = fig1.add_subplot(111)\n",
        "ax1.scatter(xn, yn , s=150, c='red', marker = '+')\n",
        "ax1.add_patch(\n",
        "     patches.Arrow(\n",
        "        0.0, 0.0,\n",
        "        k1_direc[0],k1_direc[1],\n",
        "        width=0.1,\n",
        "        edgecolor = 'pink',\n",
        "        facecolor = 'pink'\n",
        "     ))\n",
        "ax1.add_patch(\n",
        "     patches.Arrow(\n",
        "        0.0, 0.0,\n",
        "        k2_direc[0],k2_direc[1],\n",
        "        width=0.1,\n",
        "        edgecolor = 'blue',\n",
        "        facecolor = 'blue'\n",
        "     ))\n",
        "\n",
        "\n",
        "plt.title('Principal Directions',fontsize = 20)\n",
        "plt.xlim(-3,3)\n",
        "plt.ylim(-3,3)\n",
        "\n",
        "plt.rc('xtick', labelsize = 15)\n",
        "plt.rc('ytick', labelsize = 15)\n"
      ],
      "execution_count": 33,
      "outputs": [
        {
          "output_type": "display_data",
          "data": {
            "image/png": "[encoded data removed]",
            "text/plain": [
              "<Figure size 720x720 with 1 Axes>"
            ]
          },
          "metadata": {
            "tags": [],
            "needs_background": "light"
          }
        }
      ]
    },
    {
      "cell_type": "markdown",
      "metadata": {
        "id": "XSk9cxG1HV9m"
      },
      "source": [
        "4. Plot the first principal axis [3pt]"
      ]
    },
    {
      "cell_type": "code",
      "metadata": {
        "id": "ZH0Na_G44vCJ",
        "outputId": "87a8ef0d-a732-49c2-d265-82d3a530b148",
        "colab": {
          "base_uri": "https://localhost:8080/",
          "height": 636
        }
      },
      "source": [
        "fig1 = plt.figure(1,figsize=(10,10))\n",
        "ax1 = fig1.add_subplot(111)\n",
        "ax1.scatter(xn, yn , s=150, c='red', marker = '+')\n",
        "plt.xlim(-3,3)\n",
        "plt.ylim(-3,3)\n",
        "plt.title('1st Principal Directions',fontsize=20)\n",
        "plt.plot(xx_1,yy_1,c='pink')"
      ],
      "execution_count": 36,
      "outputs": [
        {
          "output_type": "execute_result",
          "data": {
            "text/plain": [
              "[<matplotlib.lines.Line2D at 0x7f8e7e766358>]"
            ]
          },
          "metadata": {
            "tags": []
          },
          "execution_count": 36
        },
        {
          "output_type": "display_data",
          "data": {
            "image/png": "[encoded data removed]",
            "text/plain": [
              "<Figure size 720x720 with 1 Axes>"
            ]
          },
          "metadata": {
            "tags": [],
            "needs_background": "light"
          }
        }
      ]
    },
    {
      "cell_type": "markdown",
      "metadata": {
        "id": "0-RzWq4IIN4T"
      },
      "source": [
        "5. Plot the project of the normalized data points onto the first principal axis [4pt]"
      ]
    },
    {
      "cell_type": "code",
      "metadata": {
        "id": "pVNS73EFINft",
        "outputId": "a4e1f9a6-9c38-4922-aa56-b6d63ee28970",
        "colab": {
          "base_uri": "https://localhost:8080/",
          "height": 636
        }
      },
      "source": [
        "fig1 = plt.figure(1,figsize=(10,10))\n",
        "ax1 = fig1.add_subplot(111)\n",
        "ax1.scatter(xn, yn , s=150, c='red', marker = '+')\n",
        "plt.xlim(-3,3)\n",
        "plt.ylim(-3,3)\n",
        "plt.title('Projection to the 1st Principle Axis',fontsize=20)\n",
        "plt.scatter(projection(z,slope_1)[:,0],projection(z,slope_1)[:,1],c='black',s=60)\n",
        "plt.plot(xx_1,yy_1,c='pink')"
      ],
      "execution_count": 43,
      "outputs": [
        {
          "output_type": "execute_result",
          "data": {
            "text/plain": [
              "[<matplotlib.lines.Line2D at 0x7f8e7e4de0f0>]"
            ]
          },
          "metadata": {
            "tags": []
          },
          "execution_count": 43
        },
        {
          "output_type": "display_data",
          "data": {
            "image/png": "[encoded data removed]",
            "text/plain": [
              "<Figure size 720x720 with 1 Axes>"
            ]
          },
          "metadata": {
            "tags": [],
            "needs_background": "light"
          }
        }
      ]
    },
    {
      "cell_type": "code",
      "metadata": {
        "id": "rNs39wUPIbpg"
      },
      "source": [
        ""
      ],
      "execution_count": null,
      "outputs": []
    }
  ]
}