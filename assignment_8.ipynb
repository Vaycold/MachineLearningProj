{
  "nbformat": 4,
  "nbformat_minor": 0,
  "metadata": {
    "colab": {
      "name": "assignment-8",
      "provenance": [],
      "authorship_tag": "ABX9TyMotfU2DXLvo9UvDUZ6jSbO",
      "include_colab_link": true
    },
    "kernelspec": {
      "name": "python3",
      "display_name": "Python 3"
    }
  },
  "cells": [
    {
      "cell_type": "markdown",
      "metadata": {
        "id": "view-in-github",
        "colab_type": "text"
      },
      "source": [
        "<a href=\"https://colab.research.google.com/github/moch1996/MachineLearningProj/blob/master/assignment_8.ipynb\" target=\"_parent\"><img src=\"https://colab.research.google.com/assets/colab-badge.svg\" alt=\"Open In Colab\"/></a>"
      ]
    },
    {
      "cell_type": "code",
      "metadata": {
        "id": "dLL0pk6hvtaX"
      },
      "source": [
        "import numpy as np\n",
        "import matplotlib.pyplot as plt\n",
        "\n",
        "\n",
        "#dataset = pd.read_csv('data-kmeans.csv')\n",
        "#data = dataset.values"
      ],
      "execution_count": 3,
      "outputs": []
    },
    {
      "cell_type": "code",
      "metadata": {
        "id": "L5RrCKCVvw5m",
        "outputId": "1c72772a-3658-4085-e650-69ad3ba33973",
        "colab": {
          "base_uri": "https://localhost:8080/"
        }
      },
      "source": [
        "data = np.genfromtxt('data-pca.txt', delimiter=',')\n",
        "data[0,0] = 3.38156\n",
        "x = data[:,0]\n",
        "y = data[:,1]\n",
        "data"
      ],
      "execution_count": 10,
      "outputs": [
        {
          "output_type": "execute_result",
          "data": {
            "text/plain": [
              "array([[3.38156, 3.38911],\n",
              "       [4.52788, 5.85418],\n",
              "       [2.65568, 4.41199],\n",
              "       [2.76523, 3.71541],\n",
              "       [2.84656, 4.17551],\n",
              "       [3.89067, 6.48838],\n",
              "       [3.47581, 3.63285],\n",
              "       [5.9113 , 6.68077],\n",
              "       [3.92889, 5.09845],\n",
              "       [4.56184, 5.6233 ],\n",
              "       [4.57407, 5.39765],\n",
              "       [4.37173, 5.46117],\n",
              "       [4.19169, 4.95469],\n",
              "       [5.24409, 4.66149],\n",
              "       [2.83584, 3.76802],\n",
              "       [5.63527, 6.31211],\n",
              "       [4.68633, 5.66524],\n",
              "       [2.85051, 4.62646],\n",
              "       [5.11016, 7.3632 ],\n",
              "       [5.18256, 4.64651],\n",
              "       [5.70733, 6.68104],\n",
              "       [3.57968, 4.80278],\n",
              "       [5.63938, 6.12044],\n",
              "       [4.26347, 4.68943],\n",
              "       [2.53652, 3.88449],\n",
              "       [3.22383, 4.94256],\n",
              "       [4.92949, 5.95502],\n",
              "       [5.79296, 5.10839],\n",
              "       [2.81685, 4.81896],\n",
              "       [3.88882, 5.10037],\n",
              "       [3.34323, 5.89301],\n",
              "       [5.87973, 5.52142],\n",
              "       [3.10392, 3.8571 ],\n",
              "       [5.33151, 4.68074],\n",
              "       [3.37543, 4.56538],\n",
              "       [4.77668, 6.25435],\n",
              "       [2.67575, 3.73097],\n",
              "       [5.50028, 5.67948],\n",
              "       [1.7971 , 3.24754],\n",
              "       [4.32251, 5.1111 ],\n",
              "       [4.421  , 6.02564],\n",
              "       [3.1793 , 4.43686],\n",
              "       [3.03354, 3.97879],\n",
              "       [4.60935, 5.87979],\n",
              "       [2.96379, 3.30025],\n",
              "       [3.97176, 5.40774],\n",
              "       [1.18023, 2.87869],\n",
              "       [1.91895, 5.07108],\n",
              "       [3.95525, 4.50533],\n",
              "       [5.11795, 6.08507]])"
            ]
          },
          "metadata": {
            "tags": []
          },
          "execution_count": 10
        }
      ]
    },
    {
      "cell_type": "code",
      "metadata": {
        "id": "ZytE8I5nwS6F"
      },
      "source": [
        "#"
      ],
      "execution_count": null,
      "outputs": []
    }
  ]
}