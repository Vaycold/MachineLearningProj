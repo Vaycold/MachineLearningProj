{
  "nbformat": 4,
  "nbformat_minor": 0,
  "metadata": {
    "colab": {
      "name": "assignment-8",
      "provenance": [],
      "toc_visible": true,
      "authorship_tag": "ABX9TyNntpwmSQUUEsoCQPgG18yq",
      "include_colab_link": true
    },
    "kernelspec": {
      "name": "python3",
      "display_name": "Python 3"
    }
  },
  "cells": [
    {
      "cell_type": "markdown",
      "metadata": {
        "id": "view-in-github",
        "colab_type": "text"
      },
      "source": [
        "<a href=\"https://colab.research.google.com/github/moch1996/MachineLearningProj/blob/master/assignment_8.ipynb\" target=\"_parent\"><img src=\"https://colab.research.google.com/assets/colab-badge.svg\" alt=\"Open In Colab\"/></a>"
      ]
    },
    {
      "cell_type": "code",
      "metadata": {
        "id": "dLL0pk6hvtaX"
      },
      "source": [
        "import numpy as np\n",
        "import matplotlib.pyplot as plt\n",
        "import matplotlib.patches as patches"
      ],
      "execution_count": 1,
      "outputs": []
    },
    {
      "cell_type": "code",
      "metadata": {
        "id": "L5RrCKCVvw5m",
        "outputId": "cb1c58a7-904f-4b1b-8494-f6933915afde",
        "colab": {
          "base_uri": "https://localhost:8080/"
        }
      },
      "source": [
        "data = np.genfromtxt('data-pca.txt', delimiter=',')\n",
        "data[0,0] = 3.38156\n",
        "x = data[:,0]\n",
        "y = data[:,1]\n",
        "data[:5]"
      ],
      "execution_count": 2,
      "outputs": [
        {
          "output_type": "execute_result",
          "data": {
            "text/plain": [
              "array([[3.38156, 3.38911],\n",
              "       [4.52788, 5.85418],\n",
              "       [2.65568, 4.41199],\n",
              "       [2.76523, 3.71541],\n",
              "       [2.84656, 4.17551]])"
            ]
          },
          "metadata": {
            "tags": []
          },
          "execution_count": 2
        }
      ]
    },
    {
      "cell_type": "code",
      "metadata": {
        "id": "0p1Mmohu3oUd",
        "outputId": "4c43e371-c3b1-4f96-d55c-95cd6e0bbafa",
        "colab": {
          "base_uri": "https://localhost:8080/"
        }
      },
      "source": [
        "print(np.var(x))\n",
        "print(np.sqrt(np.var(x))**2)"
      ],
      "execution_count": 3,
      "outputs": [
        {
          "output_type": "stream",
          "text": [
            "1.34852614662096\n",
            "1.3485261466209602\n"
          ],
          "name": "stdout"
        }
      ]
    },
    {
      "cell_type": "code",
      "metadata": {
        "id": "ZytE8I5nwS6F"
      },
      "source": [
        "#Normalized data\n",
        "def normalize(x,y) :\n",
        "  mux = np.mean(x)\n",
        "  muy = np.mean(y)\n",
        "  sdx = np.sqrt(np.var(x))\n",
        "  sdy = np.sqrt(np.var(y))\n",
        "\n",
        "  xn = (x - mux ) / sdx\n",
        "  yn = (y - muy ) / sdy\n",
        "\n",
        "  return xn,yn"
      ],
      "execution_count": 4,
      "outputs": []
    },
    {
      "cell_type": "code",
      "metadata": {
        "id": "0doKCyHU4W4E",
        "outputId": "57882926-391f-407e-a543-65bfd6f0358b",
        "colab": {
          "base_uri": "https://localhost:8080/"
        }
      },
      "source": [
        "xn = normalize(x,y)[0]\n",
        "yn = normalize(x,y)[1]\n",
        "print(np.mean(xn)) #xn의 평균 = 0\n",
        "print(np.mean(yn)) #yn의 평균 = 0\n",
        "print(np.sqrt(np.var(xn))) #xn의 표준편차 = 1\n",
        "print(np.sqrt(np.var(yn))) #yn의 표준편차 = 1"
      ],
      "execution_count": 5,
      "outputs": [
        {
          "output_type": "stream",
          "text": [
            "-1.509903313490213e-16\n",
            "-4.840572387365683e-16\n",
            "0.9999999999999999\n",
            "0.9999999999999999\n"
          ],
          "name": "stdout"
        }
      ]
    },
    {
      "cell_type": "code",
      "metadata": {
        "id": "qN107CvExSUO",
        "outputId": "98e530ee-e720-4a94-d567-9a14a296b624",
        "colab": {
          "base_uri": "https://localhost:8080/"
        }
      },
      "source": [
        "z = np.ones((50,2))\n",
        "z[:,0] = xn\n",
        "z[:,1] = yn\n",
        "len(z)"
      ],
      "execution_count": 6,
      "outputs": [
        {
          "output_type": "execute_result",
          "data": {
            "text/plain": [
              "50"
            ]
          },
          "metadata": {
            "tags": []
          },
          "execution_count": 6
        }
      ]
    },
    {
      "cell_type": "code",
      "metadata": {
        "id": "j13dRdFB9L__",
        "outputId": "9d3105d6-3466-4db7-8a1a-593a9490605f",
        "colab": {
          "base_uri": "https://localhost:8080/"
        }
      },
      "source": [
        "def covariance(x,y) :\n",
        "  n = len(x)\n",
        "  covar = np.dot(x.T,y) / n\n",
        "\n",
        "  return covar\n",
        "sigma = covariance(z,z)\n",
        "sigma"
      ],
      "execution_count": 7,
      "outputs": [
        {
          "output_type": "execute_result",
          "data": {
            "text/plain": [
              "array([[1.     , 0.73553],\n",
              "       [0.73553, 1.     ]])"
            ]
          },
          "metadata": {
            "tags": []
          },
          "execution_count": 7
        }
      ]
    },
    {
      "cell_type": "code",
      "metadata": {
        "id": "a3Y97ALuZJ2V"
      },
      "source": [
        "eig_val, eig_vec = np.linalg.eig(sigma)"
      ],
      "execution_count": 9,
      "outputs": []
    },
    {
      "cell_type": "code",
      "metadata": {
        "id": "ZZwWfDoAKZPm",
        "outputId": "f9aee9ad-2038-41c7-f8f2-98521f06716b",
        "colab": {
          "base_uri": "https://localhost:8080/"
        }
      },
      "source": [
        "eig_val_matrix = np.diag(eig_val)\n",
        "print(eig_val_matrix)\n",
        "test = np.dot(eig_vec,eig_val_matrix)\n",
        "print(test)\n",
        "final = np.dot(test,eig_vec.T)\n",
        "print(final)"
      ],
      "execution_count": 10,
      "outputs": [
        {
          "output_type": "stream",
          "text": [
            "[[1.73553 0.     ]\n",
            " [0.      0.26447]]\n",
            "[[ 1.22720503 -0.18700853]\n",
            " [ 1.22720503  0.18700853]]\n",
            "[[1.      0.73553]\n",
            " [0.73553 1.     ]]\n"
          ],
          "name": "stdout"
        }
      ]
    },
    {
      "cell_type": "code",
      "metadata": {
        "id": "LnXv_VE5bqZA",
        "outputId": "c601a79d-61fd-4077-bccb-467067db307d",
        "colab": {
          "base_uri": "https://localhost:8080/"
        }
      },
      "source": [
        "def pc_direc(covariance) :\n",
        "  direction_matrix = np.linalg.eig(covariance)[1]\n",
        "  return direction_matrix\n",
        "principal_directions = pc_direc(sigma)\n",
        "principal_directions"
      ],
      "execution_count": 11,
      "outputs": [
        {
          "output_type": "execute_result",
          "data": {
            "text/plain": [
              "array([[ 0.70710678, -0.70710678],\n",
              "       [ 0.70710678,  0.70710678]])"
            ]
          },
          "metadata": {
            "tags": []
          },
          "execution_count": 11
        }
      ]
    },
    {
      "cell_type": "code",
      "metadata": {
        "id": "hqmAU6NFczcp",
        "outputId": "3d39b47f-6057-4043-8e3a-e62afb12fb89",
        "colab": {
          "base_uri": "https://localhost:8080/"
        }
      },
      "source": [
        "k1_direc = principal_directions[:,0]\n",
        "k2_direc = principal_directions[:,1]\n",
        "print(k1_direc)\n",
        "print(\"\")\n",
        "print(k2_direc)"
      ],
      "execution_count": 12,
      "outputs": [
        {
          "output_type": "stream",
          "text": [
            "[0.70710678 0.70710678]\n",
            "\n",
            "[-0.70710678  0.70710678]\n"
          ],
          "name": "stdout"
        }
      ]
    },
    {
      "cell_type": "code",
      "metadata": {
        "id": "GGxr-gvAonTH",
        "outputId": "013093f8-899a-42e9-cc0b-be62de068b89",
        "colab": {
          "base_uri": "https://localhost:8080/",
          "height": 612
        }
      },
      "source": [
        "fig1 = plt.figure(1,figsize=(10,10))\n",
        "ax1 = fig1.add_subplot(111)\n",
        "ax1.scatter(xn, yn , s=150, c='red', marker = '+')\n",
        "ax1.add_patch(\n",
        "     patches.Arrow(\n",
        "        0.0, 0.0,\n",
        "        k1_direc[0],k1_direc[1],\n",
        "        width=0.1,\n",
        "        edgecolor = 'pink',\n",
        "        facecolor = 'pink'\n",
        "     ))\n",
        "ax1.add_patch(\n",
        "     patches.Arrow(\n",
        "        0.0, 0.0,\n",
        "        k2_direc[0],k2_direc[1],\n",
        "        width=0.1,\n",
        "        edgecolor = 'blue',\n",
        "        facecolor = 'blue'\n",
        "     ))\n",
        "\n",
        "\n",
        "plt.title('test',fontsize = 20)\n",
        "plt.xlim(-3,3)\n",
        "plt.ylim(-3,3)\n",
        "\n",
        "plt.rc('xtick', labelsize = 15)\n",
        "plt.rc('ytick', labelsize = 15)\n"
      ],
      "execution_count": 13,
      "outputs": [
        {
          "output_type": "display_data",
          "data": {
            "image/png": "[encoded data removed]",
            "text/plain": [
              "<Figure size 720x720 with 1 Axes>"
            ]
          },
          "metadata": {
            "tags": [],
            "needs_background": "light"
          }
        }
      ]
    },
    {
      "cell_type": "code",
      "metadata": {
        "id": "lU1UpUAoOlc4"
      },
      "source": [
        "h = np.linspace(-3,3,50)\n",
        "h2 = h"
      ],
      "execution_count": 17,
      "outputs": []
    },
    {
      "cell_type": "code",
      "metadata": {
        "id": "kELo__mXOens",
        "outputId": "adde39b9-c3eb-4d9b-9b08-62c8a9e66696",
        "colab": {
          "base_uri": "https://localhost:8080/",
          "height": 615
        }
      },
      "source": [
        "fig1 = plt.figure(1,figsize=(10,10))\n",
        "ax1 = fig1.add_subplot(111)\n",
        "ax1.scatter(xn, yn , s=150, c='red', marker = '+')\n",
        "plt.plot(h,h2)"
      ],
      "execution_count": 18,
      "outputs": [
        {
          "output_type": "execute_result",
          "data": {
            "text/plain": [
              "[<matplotlib.lines.Line2D at 0x7ff6d8acffd0>]"
            ]
          },
          "metadata": {
            "tags": []
          },
          "execution_count": 18
        },
        {
          "output_type": "display_data",
          "data": {
            "image/png": "[encoded data removed]",
            "text/plain": [
              "<Figure size 720x720 with 1 Axes>"
            ]
          },
          "metadata": {
            "tags": [],
            "needs_background": "light"
          }
        }
      ]
    },
    {
      "cell_type": "markdown",
      "metadata": {
        "id": "LUdJyk_Mxdsl"
      },
      "source": [
        "#OUTPUT"
      ]
    },
    {
      "cell_type": "markdown",
      "metadata": {
        "id": "YjfbvJarxhf8"
      },
      "source": [
        "1. Plot the original data points [1pt]"
      ]
    },
    {
      "cell_type": "code",
      "metadata": {
        "id": "m5ZLW9x3xeaa",
        "outputId": "b6cb6810-f7d0-48e5-a007-7b8b9c7ed323",
        "colab": {
          "base_uri": "https://localhost:8080/",
          "height": 618
        }
      },
      "source": [
        "plt.figure(1,figsize=(10,10))\n",
        "plt.scatter(data[:,0], data[:,1], s=150, c='red', marker = '+')\n",
        "plt.title('Original Data Points',fontsize = 20)\n",
        "plt.xlim(0,7)\n",
        "plt.ylim(2,8)\n",
        "\n",
        "plt.rc('xtick', labelsize = 15)\n",
        "plt.rc('ytick', labelsize = 15)\n",
        "\n",
        "plt.show()"
      ],
      "execution_count": null,
      "outputs": [
        {
          "output_type": "display_data",
          "data": {
            "image/png": "[encoded data removed]",
            "text/plain": [
              "<Figure size 720x720 with 1 Axes>"
            ]
          },
          "metadata": {
            "tags": [],
            "needs_background": "light"
          }
        }
      ]
    },
    {
      "cell_type": "markdown",
      "metadata": {
        "id": "PZNNJnr1CJmU"
      },
      "source": [
        "2. Plot the normalized data points [1pt]"
      ]
    },
    {
      "cell_type": "code",
      "metadata": {
        "id": "NFCIEte2xwWb",
        "outputId": "52676904-adb6-4af8-f6cf-19c77d99548e",
        "colab": {
          "base_uri": "https://localhost:8080/",
          "height": 618
        }
      },
      "source": [
        "plt.figure(1,figsize=(10,10))\n",
        "plt.scatter(xn, yn , s=150, c='red', marker = '+')\n",
        "plt.title('Data normalized by z-scoring',fontsize = 20)\n",
        "plt.xlim(-3,3)\n",
        "plt.ylim(-3,3)\n",
        "\n",
        "plt.rc('xtick', labelsize = 15)\n",
        "plt.rc('ytick', labelsize = 15)\n",
        "\n",
        "plt.show()"
      ],
      "execution_count": null,
      "outputs": [
        {
          "output_type": "display_data",
          "data": {
            "image/png": "[encoded data removed]",
            "text/plain": [
              "<Figure size 720x720 with 1 Axes>"
            ]
          },
          "metadata": {
            "tags": [],
            "needs_background": "light"
          }
        }
      ]
    },
    {
      "cell_type": "code",
      "metadata": {
        "id": "WGdejb6SCXnb"
      },
      "source": [
        ""
      ],
      "execution_count": null,
      "outputs": []
    }
  ]
}