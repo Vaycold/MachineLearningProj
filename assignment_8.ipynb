{
  "nbformat": 4,
  "nbformat_minor": 0,
  "metadata": {
    "colab": {
      "name": "assignment-8",
      "provenance": [],
      "toc_visible": true,
      "authorship_tag": "ABX9TyNM1hbODvhRY3hVX/C+kAYC",
      "include_colab_link": true
    },
    "kernelspec": {
      "name": "python3",
      "display_name": "Python 3"
    }
  },
  "cells": [
    {
      "cell_type": "markdown",
      "metadata": {
        "id": "view-in-github",
        "colab_type": "text"
      },
      "source": [
        "<a href=\"https://colab.research.google.com/github/moch1996/MachineLearningProj/blob/master/assignment_8.ipynb\" target=\"_parent\"><img src=\"https://colab.research.google.com/assets/colab-badge.svg\" alt=\"Open In Colab\"/></a>"
      ]
    },
    {
      "cell_type": "code",
      "metadata": {
        "id": "dLL0pk6hvtaX"
      },
      "source": [
        "import numpy as np\n",
        "import matplotlib.pyplot as plt\n",
        "import matplotlib.patches as patches"
      ],
      "execution_count": 34,
      "outputs": []
    },
    {
      "cell_type": "code",
      "metadata": {
        "id": "L5RrCKCVvw5m",
        "outputId": "e59602cd-2293-4047-f1f8-3943836e24a0",
        "colab": {
          "base_uri": "https://localhost:8080/"
        }
      },
      "source": [
        "data = np.genfromtxt('data-pca.txt', delimiter=',')\n",
        "data[0,0] = 3.38156\n",
        "x = data[:,0]\n",
        "y = data[:,1]\n",
        "data"
      ],
      "execution_count": 2,
      "outputs": [
        {
          "output_type": "execute_result",
          "data": {
            "text/plain": [
              "array([[3.38156, 3.38911],\n",
              "       [4.52788, 5.85418],\n",
              "       [2.65568, 4.41199],\n",
              "       [2.76523, 3.71541],\n",
              "       [2.84656, 4.17551],\n",
              "       [3.89067, 6.48838],\n",
              "       [3.47581, 3.63285],\n",
              "       [5.9113 , 6.68077],\n",
              "       [3.92889, 5.09845],\n",
              "       [4.56184, 5.6233 ],\n",
              "       [4.57407, 5.39765],\n",
              "       [4.37173, 5.46117],\n",
              "       [4.19169, 4.95469],\n",
              "       [5.24409, 4.66149],\n",
              "       [2.83584, 3.76802],\n",
              "       [5.63527, 6.31211],\n",
              "       [4.68633, 5.66524],\n",
              "       [2.85051, 4.62646],\n",
              "       [5.11016, 7.3632 ],\n",
              "       [5.18256, 4.64651],\n",
              "       [5.70733, 6.68104],\n",
              "       [3.57968, 4.80278],\n",
              "       [5.63938, 6.12044],\n",
              "       [4.26347, 4.68943],\n",
              "       [2.53652, 3.88449],\n",
              "       [3.22383, 4.94256],\n",
              "       [4.92949, 5.95502],\n",
              "       [5.79296, 5.10839],\n",
              "       [2.81685, 4.81896],\n",
              "       [3.88882, 5.10037],\n",
              "       [3.34323, 5.89301],\n",
              "       [5.87973, 5.52142],\n",
              "       [3.10392, 3.8571 ],\n",
              "       [5.33151, 4.68074],\n",
              "       [3.37543, 4.56538],\n",
              "       [4.77668, 6.25435],\n",
              "       [2.67575, 3.73097],\n",
              "       [5.50028, 5.67948],\n",
              "       [1.7971 , 3.24754],\n",
              "       [4.32251, 5.1111 ],\n",
              "       [4.421  , 6.02564],\n",
              "       [3.1793 , 4.43686],\n",
              "       [3.03354, 3.97879],\n",
              "       [4.60935, 5.87979],\n",
              "       [2.96379, 3.30025],\n",
              "       [3.97176, 5.40774],\n",
              "       [1.18023, 2.87869],\n",
              "       [1.91895, 5.07108],\n",
              "       [3.95525, 4.50533],\n",
              "       [5.11795, 6.08507]])"
            ]
          },
          "metadata": {
            "tags": []
          },
          "execution_count": 2
        }
      ]
    },
    {
      "cell_type": "code",
      "metadata": {
        "id": "0p1Mmohu3oUd",
        "outputId": "c88c664a-1ad3-4e0f-e5ac-999b8d86926e",
        "colab": {
          "base_uri": "https://localhost:8080/"
        }
      },
      "source": [
        "print(np.var(x))\n",
        "print(np.sqrt(np.var(x))**2)"
      ],
      "execution_count": 3,
      "outputs": [
        {
          "output_type": "stream",
          "text": [
            "1.34852614662096\n",
            "1.3485261466209602\n"
          ],
          "name": "stdout"
        }
      ]
    },
    {
      "cell_type": "code",
      "metadata": {
        "id": "ZytE8I5nwS6F"
      },
      "source": [
        "#Normalized data\n",
        "def normalize(x,y) :\n",
        "  mux = np.mean(x)\n",
        "  muy = np.mean(y)\n",
        "  sdx = np.sqrt(np.var(x))\n",
        "  sdy = np.sqrt(np.var(y))\n",
        "\n",
        "  xn = (x - mux ) / sdx\n",
        "  yn = (y - muy ) / sdy\n",
        "\n",
        "  return xn,yn"
      ],
      "execution_count": 4,
      "outputs": []
    },
    {
      "cell_type": "code",
      "metadata": {
        "id": "0doKCyHU4W4E",
        "outputId": "af331a0a-7c93-4594-c8fb-815f34550fb4",
        "colab": {
          "base_uri": "https://localhost:8080/"
        }
      },
      "source": [
        "xn = normalize(x,y)[0]\n",
        "yn = normalize(x,y)[1]\n",
        "print(np.mean(xn)) #xn의 평균 = 0\n",
        "print(np.mean(yn)) #yn의 평균 = 0\n",
        "print(np.sqrt(np.var(xn))) #xn의 표준편차 = 1\n",
        "print(np.sqrt(np.var(yn))) #yn의 표준편차 = 1"
      ],
      "execution_count": 5,
      "outputs": [
        {
          "output_type": "stream",
          "text": [
            "-1.509903313490213e-16\n",
            "-4.840572387365683e-16\n",
            "0.9999999999999999\n",
            "0.9999999999999999\n"
          ],
          "name": "stdout"
        }
      ]
    },
    {
      "cell_type": "code",
      "metadata": {
        "id": "qN107CvExSUO",
        "outputId": "b1391dbf-aa99-4c63-8770-69df10eea04d",
        "colab": {
          "base_uri": "https://localhost:8080/"
        }
      },
      "source": [
        "z = np.ones((50,2))\n",
        "z[:,0] = xn\n",
        "z[:,1] = yn\n",
        "len(z)"
      ],
      "execution_count": 6,
      "outputs": [
        {
          "output_type": "execute_result",
          "data": {
            "text/plain": [
              "50"
            ]
          },
          "metadata": {
            "tags": []
          },
          "execution_count": 6
        }
      ]
    },
    {
      "cell_type": "code",
      "metadata": {
        "id": "j13dRdFB9L__",
        "outputId": "739c57f0-45eb-4936-8d48-1b76c32f1f12",
        "colab": {
          "base_uri": "https://localhost:8080/"
        }
      },
      "source": [
        "def covariance(x,y) :\n",
        "  n = len(x)\n",
        "  covar = np.dot(x.T,y) / n\n",
        "\n",
        "  return covar\n",
        "sigma = covariance(z,z)\n",
        "sigma"
      ],
      "execution_count": 7,
      "outputs": [
        {
          "output_type": "execute_result",
          "data": {
            "text/plain": [
              "array([[1.     , 0.73553],\n",
              "       [0.73553, 1.     ]])"
            ]
          },
          "metadata": {
            "tags": []
          },
          "execution_count": 7
        }
      ]
    },
    {
      "cell_type": "code",
      "metadata": {
        "id": "5lyEbhwIAlqG",
        "outputId": "08638976-8d8e-4327-b4c4-706a4f6e51d6",
        "colab": {
          "base_uri": "https://localhost:8080/"
        }
      },
      "source": [
        "sigma"
      ],
      "execution_count": 8,
      "outputs": [
        {
          "output_type": "execute_result",
          "data": {
            "text/plain": [
              "array([[1.     , 0.73553],\n",
              "       [0.73553, 1.     ]])"
            ]
          },
          "metadata": {
            "tags": []
          },
          "execution_count": 8
        }
      ]
    },
    {
      "cell_type": "code",
      "metadata": {
        "id": "a3Y97ALuZJ2V"
      },
      "source": [
        "eig_val, eig_vec = np.linalg.eig(sigma)"
      ],
      "execution_count": 9,
      "outputs": []
    },
    {
      "cell_type": "code",
      "metadata": {
        "id": "ZZwWfDoAKZPm",
        "outputId": "36ca1748-021f-4e0a-c563-bd4916aa3a46",
        "colab": {
          "base_uri": "https://localhost:8080/"
        }
      },
      "source": [
        "eig_val_matrix = np.diag(eig_val)\n",
        "print(eig_val_matrix)\n",
        "test = np.dot(eig_vec,eig_val_matrix)\n",
        "print(test)\n",
        "final = np.dot(test,eig_vec.T)\n",
        "print(final)"
      ],
      "execution_count": 10,
      "outputs": [
        {
          "output_type": "stream",
          "text": [
            "[[1.73553 0.     ]\n",
            " [0.      0.26447]]\n",
            "[[ 1.22720503 -0.18700853]\n",
            " [ 1.22720503  0.18700853]]\n",
            "[[1.      0.73553]\n",
            " [0.73553 1.     ]]\n"
          ],
          "name": "stdout"
        }
      ]
    },
    {
      "cell_type": "code",
      "metadata": {
        "id": "LnXv_VE5bqZA",
        "outputId": "003989f1-aa3a-4058-8031-89c8159d10c6",
        "colab": {
          "base_uri": "https://localhost:8080/"
        }
      },
      "source": [
        "def pc_direc(covariance) :\n",
        "  direction_matrix = np.linalg.eig(covariance)[1]\n",
        "  return direction_matrix\n",
        "principal_directions = pc_direc(sigma)\n",
        "principal_directions"
      ],
      "execution_count": 14,
      "outputs": [
        {
          "output_type": "execute_result",
          "data": {
            "text/plain": [
              "array([[ 0.70710678, -0.70710678],\n",
              "       [ 0.70710678,  0.70710678]])"
            ]
          },
          "metadata": {
            "tags": []
          },
          "execution_count": 14
        }
      ]
    },
    {
      "cell_type": "code",
      "metadata": {
        "id": "hqmAU6NFczcp",
        "outputId": "15c398c1-1d2f-467b-a35f-8eb51135a0a4",
        "colab": {
          "base_uri": "https://localhost:8080/"
        }
      },
      "source": [
        "k1_direc = principal_directions[:,0]\n",
        "k2_direc = principal_directions[:,1]\n",
        "print(k1_direc)\n",
        "print(\"\")\n",
        "print(k2_direc)"
      ],
      "execution_count": 39,
      "outputs": [
        {
          "output_type": "stream",
          "text": [
            "[0.70710678 0.70710678]\n",
            "\n",
            "[-0.70710678  0.70710678]\n"
          ],
          "name": "stdout"
        }
      ]
    },
    {
      "cell_type": "code",
      "metadata": {
        "id": "GGxr-gvAonTH",
        "outputId": "644a5b7f-2258-4427-ef30-8c0b751f2fb7",
        "colab": {
          "base_uri": "https://localhost:8080/",
          "height": 618
        }
      },
      "source": [
        "fig1 = plt.figure(1,figsize=(10,10))\n",
        "ax1 = fig1.add_subplot(111)\n",
        "ax1.scatter(xn, yn , s=150, c='red', marker = '+')\n",
        "ax1.add_patch(\n",
        "     patches.Arrow(\n",
        "        0.0, 0.0,\n",
        "        k1_direc[0],k1_direc[1],\n",
        "        width=0.1,\n",
        "        edgecolor = 'pink',\n",
        "        facecolor = 'pink'\n",
        "     ))\n",
        "ax1.add_patch(\n",
        "     patches.Arrow(\n",
        "        0.0, 0.0,\n",
        "        k2_direc[0],k2_direc[1],\n",
        "        width=0.1,\n",
        "        edgecolor = 'blue',\n",
        "        facecolor = 'blue'\n",
        "     ))\n",
        "\n",
        "\n",
        "plt.title('test',fontsize = 20)\n",
        "plt.xlim(-3,3)\n",
        "plt.ylim(-3,3)\n",
        "\n",
        "plt.rc('xtick', labelsize = 15)\n",
        "plt.rc('ytick', labelsize = 15)\n"
      ],
      "execution_count": 43,
      "outputs": [
        {
          "output_type": "display_data",
          "data": {
            "image/png": "[encoded data removed]",
            "text/plain": [
              "<Figure size 720x720 with 1 Axes>"
            ]
          },
          "metadata": {
            "tags": [],
            "needs_background": "light"
          }
        }
      ]
    },
    {
      "cell_type": "markdown",
      "metadata": {
        "id": "LUdJyk_Mxdsl"
      },
      "source": [
        "#OUTPUT"
      ]
    },
    {
      "cell_type": "markdown",
      "metadata": {
        "id": "YjfbvJarxhf8"
      },
      "source": [
        "1. Plot the original data points [1pt]"
      ]
    },
    {
      "cell_type": "code",
      "metadata": {
        "id": "m5ZLW9x3xeaa",
        "outputId": "b6cb6810-f7d0-48e5-a007-7b8b9c7ed323",
        "colab": {
          "base_uri": "https://localhost:8080/",
          "height": 618
        }
      },
      "source": [
        "plt.figure(1,figsize=(10,10))\n",
        "plt.scatter(data[:,0], data[:,1], s=150, c='red', marker = '+')\n",
        "plt.title('Original Data Points',fontsize = 20)\n",
        "plt.xlim(0,7)\n",
        "plt.ylim(2,8)\n",
        "\n",
        "plt.rc('xtick', labelsize = 15)\n",
        "plt.rc('ytick', labelsize = 15)\n",
        "\n",
        "plt.show()"
      ],
      "execution_count": null,
      "outputs": [
        {
          "output_type": "display_data",
          "data": {
            "image/png": "[encoded data removed]",
            "text/plain": [
              "<Figure size 720x720 with 1 Axes>"
            ]
          },
          "metadata": {
            "tags": [],
            "needs_background": "light"
          }
        }
      ]
    },
    {
      "cell_type": "markdown",
      "metadata": {
        "id": "PZNNJnr1CJmU"
      },
      "source": [
        "2. Plot the normalized data points [1pt]"
      ]
    },
    {
      "cell_type": "code",
      "metadata": {
        "id": "NFCIEte2xwWb",
        "outputId": "52676904-adb6-4af8-f6cf-19c77d99548e",
        "colab": {
          "base_uri": "https://localhost:8080/",
          "height": 618
        }
      },
      "source": [
        "plt.figure(1,figsize=(10,10))\n",
        "plt.scatter(xn, yn , s=150, c='red', marker = '+')\n",
        "plt.title('Data normalized by z-scoring',fontsize = 20)\n",
        "plt.xlim(-3,3)\n",
        "plt.ylim(-3,3)\n",
        "\n",
        "plt.rc('xtick', labelsize = 15)\n",
        "plt.rc('ytick', labelsize = 15)\n",
        "\n",
        "plt.show()"
      ],
      "execution_count": null,
      "outputs": [
        {
          "output_type": "display_data",
          "data": {
            "image/png": "[encoded data removed]",
            "text/plain": [
              "<Figure size 720x720 with 1 Axes>"
            ]
          },
          "metadata": {
            "tags": [],
            "needs_background": "light"
          }
        }
      ]
    },
    {
      "cell_type": "code",
      "metadata": {
        "id": "WGdejb6SCXnb"
      },
      "source": [
        ""
      ],
      "execution_count": null,
      "outputs": []
    }
  ]
}