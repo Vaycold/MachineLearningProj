{
  "nbformat": 4,
  "nbformat_minor": 0,
  "metadata": {
    "colab": {
      "name": "저장 및 로드.ipynb",
      "provenance": [],
      "authorship_tag": "ABX9TyPfYVJL4BSGRW3/vdgO43ek",
      "include_colab_link": true
    },
    "kernelspec": {
      "name": "python3",
      "display_name": "Python 3"
    },
    "language_info": {
      "name": "python"
    }
  },
  "cells": [
    {
      "cell_type": "markdown",
      "metadata": {
        "id": "view-in-github",
        "colab_type": "text"
      },
      "source": [
        "<a href=\"https://colab.research.google.com/github/Vaycold/MachineLearningProj/blob/master/%237.%EC%A0%80%EC%9E%A5%20%EB%B0%8F%20%EB%A1%9C%EB%93%9C.ipynb\" target=\"_parent\"><img src=\"https://colab.research.google.com/assets/colab-badge.svg\" alt=\"Open In Colab\"/></a>"
      ]
    },
    {
      "cell_type": "code",
      "metadata": {
        "id": "CgRR3JB5jd3i"
      },
      "source": [
        "# Import the module\n",
        "\n",
        "import os \n",
        "import tensorflow as tf\n",
        "from tensorflow import keras"
      ],
      "execution_count": 2,
      "outputs": []
    },
    {
      "cell_type": "code",
      "metadata": {
        "colab": {
          "base_uri": "https://localhost:8080/"
        },
        "id": "obYOBo9Glhvb",
        "outputId": "e8761fb6-813c-4c8e-d178-d93f6e7d2193"
      },
      "source": [
        "# Load the Mnist Dataset\n",
        "(train_images, train_labels), (test_images, test_labels) = tf.keras.datasets.mnist.load_data()\n",
        "\n",
        "train_labels = train_labels[:1000]\n",
        "test_labels = test_labels[:1000]\n",
        "\n",
        "train_images = train_images[:1000].reshape(-1, 28 * 28) / 255.0\n",
        "test_images = test_images[:1000].reshape(-1, 28 * 28) / 255.0"
      ],
      "execution_count": 3,
      "outputs": [
        {
          "output_type": "stream",
          "text": [
            "Downloading data from https://storage.googleapis.com/tensorflow/tf-keras-datasets/mnist.npz\n",
            "11493376/11490434 [==============================] - 0s 0us/step\n"
          ],
          "name": "stdout"
        }
      ]
    },
    {
      "cell_type": "code",
      "metadata": {
        "id": "z43xj9cmlwm9"
      },
      "source": [
        "def create_model():\n",
        "  model = tf.keras.models.Sequential([\n",
        "    keras.layers.Dense(512, activation='relu', input_shape=(784,)),\n",
        "    keras.layers.Dropout(0.2),\n",
        "    keras.layers.Dense(10)\n",
        "  ])\n",
        "\n",
        "  model.compile(optimizer='adam',\n",
        "                loss=tf.losses.SparseCategoricalCrossentropy(from_logits=True),\n",
        "                metrics=['accuracy'])\n",
        "\n",
        "  return model"
      ],
      "execution_count": 5,
      "outputs": []
    },
    {
      "cell_type": "code",
      "metadata": {
        "colab": {
          "base_uri": "https://localhost:8080/"
        },
        "id": "fkPcp3Allz92",
        "outputId": "8d0d1899-766e-4826-cd2f-5269d66ab6fd"
      },
      "source": [
        "model = create_model()\n",
        "model.summary()"
      ],
      "execution_count": 6,
      "outputs": [
        {
          "output_type": "stream",
          "text": [
            "Model: \"sequential\"\n",
            "_________________________________________________________________\n",
            "Layer (type)                 Output Shape              Param #   \n",
            "=================================================================\n",
            "dense (Dense)                (None, 512)               401920    \n",
            "_________________________________________________________________\n",
            "dropout (Dropout)            (None, 512)               0         \n",
            "_________________________________________________________________\n",
            "dense_1 (Dense)              (None, 10)                5130      \n",
            "=================================================================\n",
            "Total params: 407,050\n",
            "Trainable params: 407,050\n",
            "Non-trainable params: 0\n",
            "_________________________________________________________________\n"
          ],
          "name": "stdout"
        }
      ]
    },
    {
      "cell_type": "code",
      "metadata": {
        "colab": {
          "base_uri": "https://localhost:8080/"
        },
        "id": "R9F5N2Vjl702",
        "outputId": "e7080bc7-c1c6-4056-eb42-cb2d214d4cf8"
      },
      "source": [
        "# Save the Check-Point during training\n",
        "\n",
        "checkpoint_path = 'trainining_1/cp.ckpt'\n",
        "checkpoint_dir = os.path.dirname(checkpoint_path)\n",
        "\n",
        "callbacks = tf.keras.callbacks.ModelCheckpoint(filepath = checkpoint_path,\n",
        "                                               save_weights_only = True,\n",
        "                                               verbose = 1)\n",
        "\n",
        "# Train the Model with new callbacks\n",
        "\n",
        "model.fit(train_images, train_labels,\n",
        "          validation_data = (test_images, test_labels),\n",
        "          epochs = 10,\n",
        "          verbose =1,\n",
        "          callbacks = [callbacks])\n",
        "\n",
        "# This code makes tensorflow checkpoint file and updates weights steps per epoch"
      ],
      "execution_count": 7,
      "outputs": [
        {
          "output_type": "stream",
          "text": [
            "Epoch 1/10\n",
            "32/32 [==============================] - 1s 10ms/step - loss: 1.1566 - accuracy: 0.6690 - val_loss: 0.7025 - val_accuracy: 0.7900\n",
            "\n",
            "Epoch 00001: saving model to trainining_1/cp.ckpt\n",
            "Epoch 2/10\n",
            "32/32 [==============================] - 0s 6ms/step - loss: 0.4213 - accuracy: 0.8770 - val_loss: 0.5476 - val_accuracy: 0.8290\n",
            "\n",
            "Epoch 00002: saving model to trainining_1/cp.ckpt\n",
            "Epoch 3/10\n",
            "32/32 [==============================] - 0s 6ms/step - loss: 0.2802 - accuracy: 0.9220 - val_loss: 0.4678 - val_accuracy: 0.8430\n",
            "\n",
            "Epoch 00003: saving model to trainining_1/cp.ckpt\n",
            "Epoch 4/10\n",
            "32/32 [==============================] - 0s 7ms/step - loss: 0.2041 - accuracy: 0.9520 - val_loss: 0.5176 - val_accuracy: 0.8340\n",
            "\n",
            "Epoch 00004: saving model to trainining_1/cp.ckpt\n",
            "Epoch 5/10\n",
            "32/32 [==============================] - 0s 6ms/step - loss: 0.1611 - accuracy: 0.9600 - val_loss: 0.4086 - val_accuracy: 0.8600\n",
            "\n",
            "Epoch 00005: saving model to trainining_1/cp.ckpt\n",
            "Epoch 6/10\n",
            "32/32 [==============================] - 0s 6ms/step - loss: 0.1150 - accuracy: 0.9830 - val_loss: 0.4121 - val_accuracy: 0.8560\n",
            "\n",
            "Epoch 00006: saving model to trainining_1/cp.ckpt\n",
            "Epoch 7/10\n",
            "32/32 [==============================] - 0s 6ms/step - loss: 0.0882 - accuracy: 0.9840 - val_loss: 0.4095 - val_accuracy: 0.8580\n",
            "\n",
            "Epoch 00007: saving model to trainining_1/cp.ckpt\n",
            "Epoch 8/10\n",
            "32/32 [==============================] - 0s 6ms/step - loss: 0.0637 - accuracy: 0.9940 - val_loss: 0.4166 - val_accuracy: 0.8560\n",
            "\n",
            "Epoch 00008: saving model to trainining_1/cp.ckpt\n",
            "Epoch 9/10\n",
            "32/32 [==============================] - 0s 6ms/step - loss: 0.0528 - accuracy: 0.9950 - val_loss: 0.4020 - val_accuracy: 0.8740\n",
            "\n",
            "Epoch 00009: saving model to trainining_1/cp.ckpt\n",
            "Epoch 10/10\n",
            "32/32 [==============================] - 0s 7ms/step - loss: 0.0353 - accuracy: 1.0000 - val_loss: 0.4047 - val_accuracy: 0.8620\n",
            "\n",
            "Epoch 00010: saving model to trainining_1/cp.ckpt\n"
          ],
          "name": "stdout"
        },
        {
          "output_type": "execute_result",
          "data": {
            "text/plain": [
              "<tensorflow.python.keras.callbacks.History at 0x7f10fb416b90>"
            ]
          },
          "metadata": {
            "tags": []
          },
          "execution_count": 7
        }
      ]
    },
    {
      "cell_type": "code",
      "metadata": {
        "colab": {
          "base_uri": "https://localhost:8080/"
        },
        "id": "yjI2jXh_m8Sd",
        "outputId": "a07c615a-909c-491d-e890-879b1e9a61e1"
      },
      "source": [
        "new_model = create_model()\n",
        "loss, acc = new_model.evaluate(test_images, test_labels, verbose =1)\n",
        "print('훈련되지 않은 모델의 정확도 : {:5.2f}%'.format(100*acc))"
      ],
      "execution_count": 9,
      "outputs": [
        {
          "output_type": "stream",
          "text": [
            "32/32 [==============================] - 0s 2ms/step - loss: 2.3525 - accuracy: 0.1240\n",
            "훈련되지 않은 모델의 정확도 : 12.40%\n"
          ],
          "name": "stdout"
        }
      ]
    },
    {
      "cell_type": "code",
      "metadata": {
        "colab": {
          "base_uri": "https://localhost:8080/"
        },
        "id": "0Wxqt5ccn5Xk",
        "outputId": "a695c523-d0b7-4cdf-ac37-76469aaa0e10"
      },
      "source": [
        "new_model.load_weights(checkpoint_path)\n",
        "loss, acc = new_model.evaluate(test_images, test_labels, verbose =1)\n",
        "print('복원된 모델의 정확도 : {:5.2f}%'.format(100*acc))"
      ],
      "execution_count": 10,
      "outputs": [
        {
          "output_type": "stream",
          "text": [
            "32/32 [==============================] - 0s 2ms/step - loss: 0.4047 - accuracy: 0.8620\n",
            "복원된 모델의 정확도 : 86.20%\n"
          ],
          "name": "stdout"
        }
      ]
    },
    {
      "cell_type": "code",
      "metadata": {
        "id": "gIHKLGQhoDty"
      },
      "source": [
        ""
      ],
      "execution_count": null,
      "outputs": []
    }
  ]
}