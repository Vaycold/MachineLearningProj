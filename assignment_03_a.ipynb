{
  "nbformat": 4,
  "nbformat_minor": 0,
  "metadata": {
    "kernelspec": {
      "display_name": "Python 3",
      "language": "python",
      "name": "python3"
    },
    "language_info": {
      "codemirror_mode": {
        "name": "ipython",
        "version": 3
      },
      "file_extension": ".py",
      "mimetype": "text/x-python",
      "name": "python",
      "nbconvert_exporter": "python",
      "pygments_lexer": "ipython3",
      "version": "3.6.8"
    },
    "colab": {
      "name": "assignment-03-a.ipynb",
      "provenance": [],
      "include_colab_link": true
    }
  },
  "cells": [
    {
      "cell_type": "markdown",
      "metadata": {
        "id": "view-in-github",
        "colab_type": "text"
      },
      "source": [
        "<a href=\"https://colab.research.google.com/github/moch1996/MachineLearningProj/blob/master/assignment_03_a.ipynb\" target=\"_parent\"><img src=\"https://colab.research.google.com/assets/colab-badge.svg\" alt=\"Open In Colab\"/></a>"
      ]
    },
    {
      "cell_type": "markdown",
      "metadata": {
        "id": "2y_Hsw1PBM7N",
        "colab_type": "text"
      },
      "source": [
        "# Manipulate PyTorch Tensors\n",
        "<hr>\n",
        "\n",
        "## Matrix manipulation"
      ]
    },
    {
      "cell_type": "code",
      "metadata": {
        "id": "PMTBHbVmBM7T",
        "colab_type": "code",
        "colab": {}
      },
      "source": [
        "import torch\n",
        "import numpy as np"
      ],
      "execution_count": null,
      "outputs": []
    },
    {
      "cell_type": "markdown",
      "metadata": {
        "id": "UIUESBJcBM7q",
        "colab_type": "text"
      },
      "source": [
        "### Make the matrices A and B below. Add them together to obtain a matrix C. Print these three matrices.\n",
        "$$\n",
        "A =\\begin{bmatrix}\n",
        "1 & 2 \\\\ 3 & 4\n",
        "\\end{bmatrix}  \n",
        "\\qquad \n",
        "B =\\begin{bmatrix}\n",
        "10 & 20 \\\\ 30 & 40\n",
        "\\end{bmatrix}  \\qquad C=A+B =?\n",
        "$$"
      ]
    },
    {
      "cell_type": "code",
      "metadata": {
        "id": "My5MysmJBM7s",
        "colab_type": "code",
        "colab": {}
      },
      "source": [
        "\n",
        "# write your code here\n",
        "\n",
        "A = np.array([[1,2],[3,4]])\n",
        "B = \n",
        "C = \n",
        "\n",
        "# print\n",
        "print(A)\n",
        "print('')\n",
        "print(B)\n",
        "print('')\n",
        "print(C)"
      ],
      "execution_count": null,
      "outputs": []
    },
    {
      "cell_type": "markdown",
      "metadata": {
        "id": "zQzz_K2RBM76",
        "colab_type": "text"
      },
      "source": [
        "### Print the dimension, size and type of the matrix A. Remember, the commands are dim(), size() and type()"
      ]
    },
    {
      "cell_type": "code",
      "metadata": {
        "id": "nSI7MgrKBM79",
        "colab_type": "code",
        "colab": {}
      },
      "source": [
        "\n",
        "# write your code here\n",
        "\n",
        "print( )    # print the dimension of the matrix A\n",
        "print('')\n",
        "print( )    # print the size of the matrix A\n",
        "print('')\n",
        "print( )    # print the type of the matrix A"
      ],
      "execution_count": null,
      "outputs": []
    },
    {
      "cell_type": "markdown",
      "metadata": {
        "id": "qj_iivsMBM8F",
        "colab_type": "text"
      },
      "source": [
        "### Convert the matrix A to be an integer matrix  (type LongTensor). Remember, the command is long(). Then print the type to check it was indeed converted."
      ]
    },
    {
      "cell_type": "code",
      "metadata": {
        "id": "EnfDGtxyBM8H",
        "colab_type": "code",
        "colab": {}
      },
      "source": [
        "\n",
        "# write your code here\n",
        "\n",
        "A_long = \n",
        "\n",
        "print( )    # print the type of A_long\n",
        "print('')\n",
        "print( )    # print the type of A"
      ],
      "execution_count": null,
      "outputs": []
    },
    {
      "cell_type": "markdown",
      "metadata": {
        "id": "Agpo7dVQBM8k",
        "colab_type": "text"
      },
      "source": [
        "### Make a random 5 x 2 x 3 Tensor. The command is torch.rand.  Then do the following:   1) Print the tensor,  2) Print its type, 3) Print its dimension,  4) Print its size, 5) Print the size of its middle dimension."
      ]
    },
    {
      "cell_type": "code",
      "metadata": {
        "id": "a6cOsmeHBM8m",
        "colab_type": "code",
        "colab": {}
      },
      "source": [
        "\n",
        "# write your code here\n",
        "\n",
        "A = \n",
        "\n",
        "print(A)\n",
        "print( )    # print the type of A\n",
        "print( )    # print the dimension of A\n",
        "print( )    # print the size of A\n",
        "print( )    # print the size of the middle (second) dimension"
      ],
      "execution_count": null,
      "outputs": []
    },
    {
      "cell_type": "markdown",
      "metadata": {
        "id": "jJPFq1k5BM8w",
        "colab_type": "text"
      },
      "source": [
        "### Make 2 x 3 x 4 x 5 tensor filled with zeros then print it. (The command is torch.zeros). See if you can make sense of the display."
      ]
    },
    {
      "cell_type": "code",
      "metadata": {
        "id": "Atjo4bThBM8y",
        "colab_type": "code",
        "colab": {}
      },
      "source": [
        "\n",
        "# write your code here\n",
        "\n",
        "A = \n",
        "\n",
        "print(A)\n"
      ],
      "execution_count": null,
      "outputs": []
    }
  ]
}