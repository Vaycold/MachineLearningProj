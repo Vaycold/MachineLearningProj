{
  "nbformat": 4,
  "nbformat_minor": 0,
  "metadata": {
    "colab": {
      "name": "assignment-07",
      "provenance": [],
      "authorship_tag": "ABX9TyNIx5u3xyl9H4Bjem8Q49QG",
      "include_colab_link": true
    },
    "kernelspec": {
      "name": "python3",
      "display_name": "Python 3"
    }
  },
  "cells": [
    {
      "cell_type": "markdown",
      "metadata": {
        "id": "view-in-github",
        "colab_type": "text"
      },
      "source": [
        "<a href=\"https://colab.research.google.com/github/moch1996/MachineLearningProj/blob/master/assignment_07.ipynb\" target=\"_parent\"><img src=\"https://colab.research.google.com/assets/colab-badge.svg\" alt=\"Open In Colab\"/></a>"
      ]
    },
    {
      "cell_type": "code",
      "metadata": {
        "id": "EfiX2vvbmSkd"
      },
      "source": [
        "import numpy as np\n",
        "import matplotlib.pyplot as plt\n",
        "import pandas as pd\n",
        "import random\n",
        "\n",
        "dataset = pd.read_csv('data-kmeans.csv')\n",
        "data = dataset.values"
      ],
      "execution_count": 246,
      "outputs": []
    },
    {
      "cell_type": "code",
      "metadata": {
        "id": "Nm7k80skNtae",
        "outputId": "569e07bc-8adb-48ab-97b0-bc98325f9ccf",
        "colab": {
          "base_uri": "https://localhost:8080/"
        }
      },
      "source": [
        "idx = np.ones((200,1))\n",
        "for i in range(200) :\n",
        "  idx[i] = random.randrange(1,6)\n",
        "idx.shape"
      ],
      "execution_count": 247,
      "outputs": [
        {
          "output_type": "execute_result",
          "data": {
            "text/plain": [
              "(200, 1)"
            ]
          },
          "metadata": {
            "tags": []
          },
          "execution_count": 247
        }
      ]
    },
    {
      "cell_type": "code",
      "metadata": {
        "id": "rSgcEUIMO846",
        "outputId": "39c8ad59-2c37-4c6c-d9cc-b9a698c4102d",
        "colab": {
          "base_uri": "https://localhost:8080/"
        }
      },
      "source": [
        "data2 = np.c_[data,idx]\n",
        "print(data2)"
      ],
      "execution_count": 248,
      "outputs": [
        {
          "output_type": "stream",
          "text": [
            "[[ 15.  39.   4.]\n",
            " [ 15.  81.   4.]\n",
            " [ 16.   6.   3.]\n",
            " [ 16.  77.   5.]\n",
            " [ 17.  40.   1.]\n",
            " [ 17.  76.   1.]\n",
            " [ 18.   6.   1.]\n",
            " [ 18.  94.   4.]\n",
            " [ 19.   3.   2.]\n",
            " [ 19.  72.   3.]\n",
            " [ 19.  14.   3.]\n",
            " [ 19.  99.   4.]\n",
            " [ 20.  15.   5.]\n",
            " [ 20.  77.   2.]\n",
            " [ 20.  13.   2.]\n",
            " [ 20.  79.   4.]\n",
            " [ 21.  35.   3.]\n",
            " [ 21.  66.   1.]\n",
            " [ 23.  29.   3.]\n",
            " [ 23.  98.   2.]\n",
            " [ 24.  35.   3.]\n",
            " [ 24.  73.   1.]\n",
            " [ 25.   5.   2.]\n",
            " [ 25.  73.   2.]\n",
            " [ 28.  14.   2.]\n",
            " [ 28.  82.   4.]\n",
            " [ 28.  32.   1.]\n",
            " [ 28.  61.   4.]\n",
            " [ 29.  31.   1.]\n",
            " [ 29.  87.   4.]\n",
            " [ 30.   4.   4.]\n",
            " [ 30.  73.   5.]\n",
            " [ 33.   4.   3.]\n",
            " [ 33.  92.   2.]\n",
            " [ 33.  14.   1.]\n",
            " [ 33.  81.   4.]\n",
            " [ 34.  17.   3.]\n",
            " [ 34.  73.   2.]\n",
            " [ 37.  26.   4.]\n",
            " [ 37.  75.   1.]\n",
            " [ 38.  35.   1.]\n",
            " [ 38.  92.   2.]\n",
            " [ 39.  36.   4.]\n",
            " [ 39.  61.   3.]\n",
            " [ 39.  28.   4.]\n",
            " [ 39.  65.   5.]\n",
            " [ 40.  55.   3.]\n",
            " [ 40.  47.   2.]\n",
            " [ 40.  42.   5.]\n",
            " [ 40.  42.   4.]\n",
            " [ 42.  52.   5.]\n",
            " [ 42.  60.   2.]\n",
            " [ 43.  54.   5.]\n",
            " [ 43.  60.   2.]\n",
            " [ 43.  45.   1.]\n",
            " [ 43.  41.   1.]\n",
            " [ 44.  50.   2.]\n",
            " [ 44.  46.   1.]\n",
            " [ 46.  51.   1.]\n",
            " [ 46.  46.   3.]\n",
            " [ 46.  56.   5.]\n",
            " [ 46.  55.   3.]\n",
            " [ 47.  52.   4.]\n",
            " [ 47.  59.   2.]\n",
            " [ 48.  51.   5.]\n",
            " [ 48.  59.   3.]\n",
            " [ 48.  50.   4.]\n",
            " [ 48.  48.   5.]\n",
            " [ 48.  59.   3.]\n",
            " [ 48.  47.   3.]\n",
            " [ 49.  55.   2.]\n",
            " [ 49.  42.   3.]\n",
            " [ 50.  49.   4.]\n",
            " [ 50.  56.   5.]\n",
            " [ 54.  47.   3.]\n",
            " [ 54.  54.   5.]\n",
            " [ 54.  53.   5.]\n",
            " [ 54.  48.   3.]\n",
            " [ 54.  52.   2.]\n",
            " [ 54.  42.   2.]\n",
            " [ 54.  51.   2.]\n",
            " [ 54.  55.   1.]\n",
            " [ 54.  41.   5.]\n",
            " [ 54.  44.   3.]\n",
            " [ 54.  57.   1.]\n",
            " [ 54.  46.   1.]\n",
            " [ 57.  58.   5.]\n",
            " [ 57.  55.   5.]\n",
            " [ 58.  60.   4.]\n",
            " [ 58.  46.   4.]\n",
            " [ 59.  55.   1.]\n",
            " [ 59.  41.   2.]\n",
            " [ 60.  49.   3.]\n",
            " [ 60.  40.   1.]\n",
            " [ 60.  42.   1.]\n",
            " [ 60.  52.   1.]\n",
            " [ 60.  47.   4.]\n",
            " [ 60.  50.   3.]\n",
            " [ 61.  42.   1.]\n",
            " [ 61.  49.   1.]\n",
            " [ 62.  41.   4.]\n",
            " [ 62.  48.   1.]\n",
            " [ 62.  59.   5.]\n",
            " [ 62.  55.   4.]\n",
            " [ 62.  56.   3.]\n",
            " [ 62.  42.   5.]\n",
            " [ 63.  50.   3.]\n",
            " [ 63.  46.   2.]\n",
            " [ 63.  43.   1.]\n",
            " [ 63.  48.   3.]\n",
            " [ 63.  52.   4.]\n",
            " [ 63.  54.   5.]\n",
            " [ 64.  42.   3.]\n",
            " [ 64.  46.   2.]\n",
            " [ 65.  48.   1.]\n",
            " [ 65.  50.   2.]\n",
            " [ 65.  43.   1.]\n",
            " [ 65.  59.   1.]\n",
            " [ 67.  43.   2.]\n",
            " [ 67.  57.   4.]\n",
            " [ 67.  56.   5.]\n",
            " [ 67.  40.   1.]\n",
            " [ 69.  58.   1.]\n",
            " [ 69.  91.   1.]\n",
            " [ 70.  29.   2.]\n",
            " [ 70.  77.   5.]\n",
            " [ 71.  35.   1.]\n",
            " [ 71.  95.   4.]\n",
            " [ 71.  11.   5.]\n",
            " [ 71.  75.   5.]\n",
            " [ 71.   9.   1.]\n",
            " [ 71.  75.   5.]\n",
            " [ 72.  34.   5.]\n",
            " [ 72.  71.   5.]\n",
            " [ 73.   5.   5.]\n",
            " [ 73.  88.   5.]\n",
            " [ 73.   7.   4.]\n",
            " [ 73.  73.   5.]\n",
            " [ 74.  10.   3.]\n",
            " [ 74.  72.   4.]\n",
            " [ 75.   5.   4.]\n",
            " [ 75.  93.   4.]\n",
            " [ 76.  40.   4.]\n",
            " [ 76.  87.   2.]\n",
            " [ 77.  12.   5.]\n",
            " [ 77.  97.   4.]\n",
            " [ 77.  36.   5.]\n",
            " [ 77.  74.   3.]\n",
            " [ 78.  22.   5.]\n",
            " [ 78.  90.   2.]\n",
            " [ 78.  17.   4.]\n",
            " [ 78.  88.   1.]\n",
            " [ 78.  20.   1.]\n",
            " [ 78.  76.   5.]\n",
            " [ 78.  16.   1.]\n",
            " [ 78.  89.   5.]\n",
            " [ 78.   1.   2.]\n",
            " [ 78.  78.   5.]\n",
            " [ 78.   1.   1.]\n",
            " [ 78.  73.   2.]\n",
            " [ 79.  35.   3.]\n",
            " [ 79.  83.   2.]\n",
            " [ 81.   5.   5.]\n",
            " [ 81.  93.   3.]\n",
            " [ 85.  26.   4.]\n",
            " [ 85.  75.   4.]\n",
            " [ 86.  20.   5.]\n",
            " [ 86.  95.   1.]\n",
            " [ 87.  27.   4.]\n",
            " [ 87.  63.   3.]\n",
            " [ 87.  13.   5.]\n",
            " [ 87.  75.   1.]\n",
            " [ 87.  10.   5.]\n",
            " [ 87.  92.   3.]\n",
            " [ 88.  13.   1.]\n",
            " [ 88.  86.   3.]\n",
            " [ 88.  15.   1.]\n",
            " [ 88.  69.   1.]\n",
            " [ 93.  14.   1.]\n",
            " [ 93.  90.   1.]\n",
            " [ 97.  32.   5.]\n",
            " [ 97.  86.   3.]\n",
            " [ 98.  15.   3.]\n",
            " [ 98.  88.   3.]\n",
            " [ 99.  39.   3.]\n",
            " [ 99.  97.   5.]\n",
            " [101.  24.   5.]\n",
            " [101.  68.   3.]\n",
            " [103.  17.   5.]\n",
            " [103.  85.   3.]\n",
            " [103.  23.   5.]\n",
            " [103.  69.   1.]\n",
            " [113.   8.   4.]\n",
            " [113.  91.   1.]\n",
            " [120.  16.   2.]\n",
            " [120.  79.   4.]\n",
            " [126.  28.   3.]\n",
            " [126.  74.   1.]\n",
            " [137.  18.   3.]\n",
            " [137.  83.   5.]]\n"
          ],
          "name": "stdout"
        }
      ]
    },
    {
      "cell_type": "code",
      "metadata": {
        "id": "fO-ufywpowsk"
      },
      "source": [
        "#cluster\n",
        "\n",
        "cluster_1 = data2[data2[:,2]==1]\n",
        "cluster_2 = data2[data2[:,2]==2]\n",
        "cluster_3 = data2[data2[:,2]==3]\n",
        "cluster_4 = data2[data2[:,2]==4]\n",
        "cluster_5 = data2[data2[:,2]==5]"
      ],
      "execution_count": 249,
      "outputs": []
    },
    {
      "cell_type": "code",
      "metadata": {
        "id": "ML0FLJRTxSsT",
        "outputId": "f58fdb6b-c0b6-46e4-f836-0e3eb911d6aa",
        "colab": {
          "base_uri": "https://localhost:8080/"
        }
      },
      "source": [
        "cluster_4"
      ],
      "execution_count": 250,
      "outputs": [
        {
          "output_type": "execute_result",
          "data": {
            "text/plain": [
              "array([[ 15.,  39.,   4.],\n",
              "       [ 15.,  81.,   4.],\n",
              "       [ 18.,  94.,   4.],\n",
              "       [ 19.,  99.,   4.],\n",
              "       [ 20.,  79.,   4.],\n",
              "       [ 28.,  82.,   4.],\n",
              "       [ 28.,  61.,   4.],\n",
              "       [ 29.,  87.,   4.],\n",
              "       [ 30.,   4.,   4.],\n",
              "       [ 33.,  81.,   4.],\n",
              "       [ 37.,  26.,   4.],\n",
              "       [ 39.,  36.,   4.],\n",
              "       [ 39.,  28.,   4.],\n",
              "       [ 40.,  42.,   4.],\n",
              "       [ 47.,  52.,   4.],\n",
              "       [ 48.,  50.,   4.],\n",
              "       [ 50.,  49.,   4.],\n",
              "       [ 58.,  60.,   4.],\n",
              "       [ 58.,  46.,   4.],\n",
              "       [ 60.,  47.,   4.],\n",
              "       [ 62.,  41.,   4.],\n",
              "       [ 62.,  55.,   4.],\n",
              "       [ 63.,  52.,   4.],\n",
              "       [ 67.,  57.,   4.],\n",
              "       [ 71.,  95.,   4.],\n",
              "       [ 73.,   7.,   4.],\n",
              "       [ 74.,  72.,   4.],\n",
              "       [ 75.,   5.,   4.],\n",
              "       [ 75.,  93.,   4.],\n",
              "       [ 76.,  40.,   4.],\n",
              "       [ 77.,  97.,   4.],\n",
              "       [ 78.,  17.,   4.],\n",
              "       [ 85.,  26.,   4.],\n",
              "       [ 85.,  75.,   4.],\n",
              "       [ 87.,  27.,   4.],\n",
              "       [113.,   8.,   4.],\n",
              "       [120.,  79.,   4.]])"
            ]
          },
          "metadata": {
            "tags": []
          },
          "execution_count": 250
        }
      ]
    },
    {
      "cell_type": "code",
      "metadata": {
        "id": "_DlFYK11ar8o"
      },
      "source": [
        "t_cluster1 = np.array([]).reshape(0,2)\n",
        "t_cluster2 = np.array([]).reshape(0,2)\n",
        "t_cluster3 = np.array([]).reshape(0,2)\n",
        "t_cluster4 = np.array([]).reshape(0,2)\n",
        "t_cluster5 = np.array([]).reshape(0,2)"
      ],
      "execution_count": 149,
      "outputs": []
    },
    {
      "cell_type": "code",
      "metadata": {
        "id": "9Iu4BB2DWAW7",
        "outputId": "25e934f7-7f48-4770-bcc8-6fa75e92bea2",
        "colab": {
          "base_uri": "https://localhost:8080/"
        }
      },
      "source": [
        "#Center\n",
        "\n",
        "centroid = np.ones((5,2))\n",
        "centroid[0,0:2] = compute_centroid(cluster_1)\n",
        "centroid[1,0:2] = compute_centroid(cluster_2)\n",
        "centroid[2,0:2] = compute_centroid(cluster_3)\n",
        "centroid[3,0:2] = compute_centroid(cluster_4)\n",
        "centroid[4,0:2] = compute_centroid(cluster_5)\n",
        "centroid"
      ],
      "execution_count": 251,
      "outputs": [
        {
          "output_type": "execute_result",
          "data": {
            "text/plain": [
              "array([[61.80851064, 48.36170213],\n",
              "       [51.25806452, 52.29032258],\n",
              "       [62.975     , 48.75      ],\n",
              "       [55.51351351, 53.75675676],\n",
              "       [67.66666667, 49.04444444]])"
            ]
          },
          "metadata": {
            "tags": []
          },
          "execution_count": 251
        }
      ]
    },
    {
      "cell_type": "code",
      "metadata": {
        "id": "07wubE15TIB9",
        "outputId": "d0cfd8a0-0f04-4c6f-a0bb-2cb908f57605",
        "colab": {
          "base_uri": "https://localhost:8080/"
        }
      },
      "source": [
        "#메커니즘\n",
        "\n",
        "print(data[0][0])\n",
        "print(centroid[:,0])\n",
        "print(np.sqrt( (data[0][0]-centroid[:,0])**2 + (data[0][1]-centroid[:,1])**2 ))\n",
        "print(np.argmin(np.sqrt( (data[0][0]-centroid[:,0])**2 + (data[0][1]-centroid[:,1])**2 )))\n",
        "print(data[0].shape)\n",
        "t_cluster3 = np.r_[t_cluster3,data[0].reshape(1,2)]\n",
        "print(t_cluster3)"
      ],
      "execution_count": 114,
      "outputs": [
        {
          "output_type": "stream",
          "text": [
            "15\n",
            "[63.74358974 61.47058824 54.51724138 60.91666667 66.09090909]\n",
            "[49.9637278  48.49984839 41.36984087 47.19654531 51.5932118 ]\n",
            "2\n",
            "(2,)\n",
            "[[15. 39.]]\n"
          ],
          "name": "stdout"
        }
      ]
    },
    {
      "cell_type": "code",
      "metadata": {
        "id": "J2nreR1VmgVM",
        "outputId": "d1530947-8367-4203-cb1d-4a43a2b4c462",
        "colab": {
          "base_uri": "https://localhost:8080/"
        }
      },
      "source": [
        "def compute_centerdist(a,b) :\n",
        "  Eud = (a[0] - b[0])**2 + (a[1]- b[1])**2\n",
        "  dist = np.sqrt(Eud)\n",
        "  return dist\n",
        "\n",
        "a = np.array([[3],[4]])\n",
        "b = np.array([[0],[0]])\n",
        "compute_centerdist(a,b) #5"
      ],
      "execution_count": 252,
      "outputs": [
        {
          "output_type": "execute_result",
          "data": {
            "text/plain": [
              "array([5.])"
            ]
          },
          "metadata": {
            "tags": []
          },
          "execution_count": 252
        }
      ]
    },
    {
      "cell_type": "code",
      "metadata": {
        "id": "qivhST5rqJpc"
      },
      "source": [
        "def compute_centroid(Z):\n",
        "\n",
        "    center = np.ones((1,2))\n",
        "    center[0,0] = (np.sum(Z[:,0])) / len(Z[:,0])\n",
        "    center[0,1] = (np.sum(Z[:,1])) / len(Z[:,1])\n",
        "    return center"
      ],
      "execution_count": 253,
      "outputs": []
    },
    {
      "cell_type": "code",
      "metadata": {
        "id": "BlqTq5J9W8rc",
        "outputId": "59b2fb14-5e4f-42ff-bcf7-2d1d31fb20e8",
        "colab": {
          "base_uri": "https://localhost:8080/"
        }
      },
      "source": [
        "#print(centroid)\n",
        "#print(centroid[0][1])\n",
        "#print(data[0][1])\n",
        "print(compute_centerdist(data[0],centroid[0]))"
      ],
      "execution_count": 52,
      "outputs": [
        {
          "output_type": "stream",
          "text": [
            "47.03019048610708\n"
          ],
          "name": "stdout"
        }
      ]
    },
    {
      "cell_type": "code",
      "metadata": {
        "id": "jVtBeiw6fk3S"
      },
      "source": [
        "pp = recalculate_clusters(data,centroid,5)"
      ],
      "execution_count": null,
      "outputs": []
    },
    {
      "cell_type": "code",
      "metadata": {
        "id": "iH-b_6cdf-rQ",
        "outputId": "15e10612-c6d9-4825-9900-92c7c2726d3e",
        "colab": {
          "base_uri": "https://localhost:8080/"
        }
      },
      "source": [
        "recalculate_centroids(centroid,pp,5)"
      ],
      "execution_count": 75,
      "outputs": [
        {
          "output_type": "execute_result",
          "data": {
            "text/plain": [
              "array([[37.78947368, 69.55263158],\n",
              "       [76.35294118, 32.82352941],\n",
              "       [85.62295082, 67.24590164],\n",
              "       [60.        , 49.5       ],\n",
              "       [49.20731707, 32.17073171]])"
            ]
          },
          "metadata": {
            "tags": []
          },
          "execution_count": 75
        }
      ]
    },
    {
      "cell_type": "code",
      "metadata": {
        "id": "Zt50Z5A9fCkH"
      },
      "source": [
        "def compute_label2(z, M) :\n",
        "  clusters = {}\n",
        "  for i in range(5) :\n",
        "    clusters[i+1] = []\n",
        "  for j in z :\n",
        "    Distance = []\n",
        "    for k in range(5) :\n",
        "      Distance.append(compute_centerdist(j,M[k]))\n",
        "    clusters[Distance.index(min(Distance))+1].append(j)\n",
        "  return clusters"
      ],
      "execution_count": 254,
      "outputs": []
    },
    {
      "cell_type": "code",
      "metadata": {
        "id": "oHwrrwSSsPKb"
      },
      "source": [
        "def compute_label(z, M):\n",
        "    #걍 한글로 써야겠다.\n",
        "    #z값이 M까지의 거리중 가장 작은 것을 라벨로 하면 되겠\n",
        "    labelling = np.argmin(compute_centerdist(z,M)) + 1\n",
        "    if labelling == 1 :\n",
        "      t_cluster1 = np.r_[t_cluster1,z.reshape(1,2)]\n",
        "    elif labelling == 2 :\n",
        "      t_cluster2 = np.r_[t_cluster2,z.reshape(1,2)]\n",
        "    elif labelling == 3 :\n",
        "      t_cluster3 = np.r_[t_cluster3,z.reshape(1,2)]\n",
        "    elif labelling == 4 :\n",
        "      t_cluster4 = np.r_[t_cluster4,z.reshape(1,2)]\n",
        "    elif labelling == 5 :\n",
        "      t_cluster5 = np.r_[t_cluster5,z.reshape(1,2)]\n",
        "\n",
        "\n",
        "    #label = #label of point z with a set of centroids M#\n",
        "    \n",
        "\n",
        "    return t_cluster1, t_cluster2, t_cluster3, t_cluster4, t_cluster5\n"
      ],
      "execution_count": null,
      "outputs": []
    },
    {
      "cell_type": "code",
      "metadata": {
        "id": "vAQcTUd_cBL2"
      },
      "source": [
        "cluster2 = compute_label2(data,centroid)\n",
        "cluster2"
      ],
      "execution_count": null,
      "outputs": []
    },
    {
      "cell_type": "code",
      "metadata": {
        "id": "ZA83B7uPxlaU",
        "outputId": "653c6708-91d4-49e3-b724-a015747a60d5",
        "colab": {
          "base_uri": "https://localhost:8080/"
        }
      },
      "source": [
        "compute_label2(data,centroid)[5]"
      ],
      "execution_count": 214,
      "outputs": [
        {
          "output_type": "execute_result",
          "data": {
            "text/plain": [
              "[array([60, 49]), array([60, 52]), array([60, 50]), array([61, 49])]"
            ]
          },
          "metadata": {
            "tags": []
          },
          "execution_count": 214
        }
      ]
    },
    {
      "cell_type": "code",
      "metadata": {
        "id": "cDnssWQw424D",
        "outputId": "615f6b9a-c3a3-4080-a04e-453b5e3dff71",
        "colab": {
          "base_uri": "https://localhost:8080/"
        }
      },
      "source": [
        "np.average(compute_label2(data,centroid)[5], axis=0)"
      ],
      "execution_count": 146,
      "outputs": [
        {
          "output_type": "execute_result",
          "data": {
            "text/plain": [
              "array([60.25, 50.  ])"
            ]
          },
          "metadata": {
            "tags": []
          },
          "execution_count": 146
        }
      ]
    },
    {
      "cell_type": "code",
      "metadata": {
        "id": "AOwxoo4k5Evh",
        "outputId": "1d21b4d5-4703-42a2-d7b5-d45c06adb3fb",
        "colab": {
          "base_uri": "https://localhost:8080/"
        }
      },
      "source": [
        "centroid[1]"
      ],
      "execution_count": 149,
      "outputs": [
        {
          "output_type": "execute_result",
          "data": {
            "text/plain": [
              "array([65.125, 52.15 ])"
            ]
          },
          "metadata": {
            "tags": []
          },
          "execution_count": 149
        }
      ]
    },
    {
      "cell_type": "code",
      "metadata": {
        "id": "uLaXeXgH4190"
      },
      "source": [
        "  for i in range(k):\n",
        "        centroids[i] = np.average(clusters[i], axis=0)\n",
        "    return centroids"
      ],
      "execution_count": null,
      "outputs": []
    },
    {
      "cell_type": "code",
      "metadata": {
        "id": "ynOP0X4ftE_7",
        "outputId": "926dee97-69df-4bd5-d260-8bbc475a8805",
        "colab": {
          "base_uri": "https://localhost:8080/"
        }
      },
      "source": [
        "def compute_centerdist(a,b) :\n",
        "  Eud = (a[0] - b[0])**2 + (a[1]- b[1])**2\n",
        "  dist = np.sqrt(Eud)\n",
        "  return dist\n",
        "\n",
        "a = np.array([[3],[4]])\n",
        "b = np.array([[0],[0]])\n",
        "compute_centerdist(a,b) #5"
      ],
      "execution_count": 150,
      "outputs": [
        {
          "output_type": "execute_result",
          "data": {
            "text/plain": [
              "array([5.])"
            ]
          },
          "metadata": {
            "tags": []
          },
          "execution_count": 150
        }
      ]
    },
    {
      "cell_type": "code",
      "metadata": {
        "id": "mJWYLgij_d7v",
        "outputId": "3c5265a6-c9c6-4229-b6cc-218a75d45ad8",
        "colab": {
          "base_uri": "https://localhost:8080/"
        }
      },
      "source": [
        "print(clusters[1][:5])\n",
        "print(np.average(clusters[1], axis=0))"
      ],
      "execution_count": 164,
      "outputs": [
        {
          "output_type": "stream",
          "text": [
            "[array([61, 49]), array([62, 48]), array([63, 46]), array([63, 48]), array([64, 46])]\n",
            "[76.35294118 32.82352941]\n"
          ],
          "name": "stdout"
        }
      ]
    },
    {
      "cell_type": "code",
      "metadata": {
        "id": "ZpyEQY3DBGO0",
        "outputId": "c08a2ab9-0f96-4f03-863f-3e8ee1615227",
        "colab": {
          "base_uri": "https://localhost:8080/"
        }
      },
      "source": [
        "clusters[1][3] - np.average(clusters[1], axis=0)\n",
        "print(clusters[1][1])"
      ],
      "execution_count": 179,
      "outputs": [
        {
          "output_type": "stream",
          "text": [
            "[62 48]\n"
          ],
          "name": "stdout"
        }
      ]
    },
    {
      "cell_type": "code",
      "metadata": {
        "id": "JZIZNdLtFolc"
      },
      "source": [
        "clusters[1]"
      ],
      "execution_count": null,
      "outputs": []
    },
    {
      "cell_type": "code",
      "metadata": {
        "id": "LpwnERmIGnZM",
        "outputId": "a9325f09-c151-4e9e-88dd-3a87dc591c4a",
        "colab": {
          "base_uri": "https://localhost:8080/"
        }
      },
      "source": [
        "clusters[2].__len__() + clusters[1].__len__() + clusters[3].__len__() + clusters[4].__len__() + clusters[5].__len__()"
      ],
      "execution_count": 206,
      "outputs": [
        {
          "output_type": "execute_result",
          "data": {
            "text/plain": [
              "244"
            ]
          },
          "metadata": {
            "tags": []
          },
          "execution_count": 206
        }
      ]
    },
    {
      "cell_type": "code",
      "metadata": {
        "id": "ijZYD8UuHFtV",
        "outputId": "ab53c5a0-07b8-4b98-e504-2686206dc5fd",
        "colab": {
          "base_uri": "https://localhost:8080/"
        }
      },
      "source": [
        "compute_centerdist(compute_label2(data,centroid)[1][1], np.average(compute_label2(data,centroid)[1], axis=0))"
      ],
      "execution_count": 233,
      "outputs": [
        {
          "output_type": "execute_result",
          "data": {
            "text/plain": [
              "30.667912014815467"
            ]
          },
          "metadata": {
            "tags": []
          },
          "execution_count": 233
        }
      ]
    },
    {
      "cell_type": "code",
      "metadata": {
        "id": "S_NM78fVGazk"
      },
      "source": [
        "for a in clusters[1] :\n",
        "  print(a)"
      ],
      "execution_count": null,
      "outputs": []
    },
    {
      "cell_type": "code",
      "metadata": {
        "id": "adWhrnNPaYGn"
      },
      "source": [
        "for a in compute_label2(data,centroid)[1] :\n",
        "  print(a)"
      ],
      "execution_count": null,
      "outputs": []
    },
    {
      "cell_type": "code",
      "metadata": {
        "id": "KWcn3QEnFwkC",
        "outputId": "6cf51fa3-0d1e-4bcf-f9af-ce81b97251fa",
        "colab": {
          "base_uri": "https://localhost:8080/"
        }
      },
      "source": [
        "np.average(clusters[5],axis=0)"
      ],
      "execution_count": 219,
      "outputs": [
        {
          "output_type": "execute_result",
          "data": {
            "text/plain": [
              "array([49.20731707, 32.17073171])"
            ]
          },
          "metadata": {
            "tags": []
          },
          "execution_count": 219
        }
      ]
    },
    {
      "cell_type": "code",
      "metadata": {
        "id": "_WvfMrZTE8qM",
        "outputId": "0b6af601-7a1a-4a60-fbf4-7303673085c5",
        "colab": {
          "base_uri": "https://localhost:8080/"
        }
      },
      "source": [
        "compute_centerdist(clusters[1][0],np.average(clusters[1],axis=0))"
      ],
      "execution_count": 237,
      "outputs": [
        {
          "output_type": "execute_result",
          "data": {
            "text/plain": [
              "22.302264536593764"
            ]
          },
          "metadata": {
            "tags": []
          },
          "execution_count": 237
        }
      ]
    },
    {
      "cell_type": "code",
      "metadata": {
        "id": "UF0yBOobgXVe",
        "outputId": "21b78752-a9fe-4a5d-dc9b-94c52f21f625",
        "colab": {
          "base_uri": "https://localhost:8080/"
        }
      },
      "source": [
        "cluster2[1]"
      ],
      "execution_count": 264,
      "outputs": [
        {
          "output_type": "execute_result",
          "data": {
            "text/plain": [
              "[array([54, 42]),\n",
              " array([54, 41]),\n",
              " array([58, 46]),\n",
              " array([59, 41]),\n",
              " array([60, 49]),\n",
              " array([60, 40]),\n",
              " array([60, 42]),\n",
              " array([60, 52]),\n",
              " array([60, 47]),\n",
              " array([60, 50]),\n",
              " array([61, 42]),\n",
              " array([61, 49]),\n",
              " array([62, 41]),\n",
              " array([62, 48]),\n",
              " array([62, 42]),\n",
              " array([63, 46]),\n",
              " array([63, 43]),\n",
              " array([64, 42])]"
            ]
          },
          "metadata": {
            "tags": []
          },
          "execution_count": 264
        }
      ]
    },
    {
      "cell_type": "code",
      "metadata": {
        "id": "ZxLjj3O2fqPG",
        "outputId": "82b3b2e8-4464-4c95-e4ae-3d31115cb39a",
        "colab": {
          "base_uri": "https://localhost:8080/"
        }
      },
      "source": [
        "num = []\n",
        "for a in cluster2[1] :\n",
        "  num.append(compute_centerdist(a,np.average(cluster2[1],axis=0)))\n",
        "for b in cluster2[2] :\n",
        "  num.append(compute_centerdist(b,np.average(cluster2[2],axis=0)))\n",
        "len(num)"
      ],
      "execution_count": 272,
      "outputs": [
        {
          "output_type": "execute_result",
          "data": {
            "text/plain": [
              "97"
            ]
          },
          "metadata": {
            "tags": []
          },
          "execution_count": 272
        }
      ]
    },
    {
      "cell_type": "code",
      "metadata": {
        "id": "iXqMsQ6h7iFK"
      },
      "source": [
        "def compute_loss(C, centroid):\n",
        "    mu1 = np.average(C[1], axis=0)\n",
        "    mu2 = np.average(C[2], axis=0)\n",
        "    mu3 = np.average(C[3], axis=0)\n",
        "    mu4 = np.average(C[4], axis=0)\n",
        "    mu5 = np.average(C[5], axis=0)\n",
        "    sum = []\n",
        "    for a in C[1] :\n",
        "      sum.append(compute_centerdist(a,np.average(C[1],axis=0))\n",
        "\n",
        "\n",
        "\n",
        "    \n",
        "    return loss\n",
        "    for i in range(k):\n",
        "        centroids[i] = np.average(clusters[i], axis=0)\n",
        "    return centroids"
      ],
      "execution_count": null,
      "outputs": []
    },
    {
      "cell_type": "code",
      "metadata": {
        "id": "MsqulXj1ahfp"
      },
      "source": [
        "def recalculate_clusters(X, centroids, k):\n",
        "    \"\"\" Recalculates the clusters \"\"\"\n",
        "    # Initiate empty clusters\n",
        "    clusters = {}\n",
        "    # Set the range for value of k (number of centroids)\n",
        "    for i in range(k):\n",
        "        clusters[i] = []\n",
        "    for data in X:\n",
        "        euc_dist = []\n",
        "        for j in range(k):\n",
        "            euc_dist.append(np.linalg.norm(data - centroids[j]))\n",
        "        # Append the cluster of data to the dictionary\n",
        "        clusters[euc_dist.index(min(euc_dist))].append(data)\n",
        "    return clusters\n",
        "def recalculate_centroids(centroids, clusters, k):\n",
        "    \"\"\" Recalculates the centroid position based on the plot \"\"\"\n",
        "    for i in range(k):\n",
        "        centroids[i] = np.average(clusters[i], axis=0)\n",
        "    return centroids"
      ],
      "execution_count": 59,
      "outputs": []
    },
    {
      "cell_type": "code",
      "metadata": {
        "id": "tojBVOpdeiiA"
      },
      "source": [
        "clusters = {}"
      ],
      "execution_count": 63,
      "outputs": []
    },
    {
      "cell_type": "code",
      "metadata": {
        "id": "qkgH873PeK-j"
      },
      "source": [
        "recalculate_clusters(data,centroid,5)"
      ],
      "execution_count": null,
      "outputs": []
    },
    {
      "cell_type": "code",
      "metadata": {
        "id": "8CopPW6qeaPB",
        "outputId": "aed3e398-aa24-4bc4-e4ee-dcdce0428801",
        "colab": {
          "base_uri": "https://localhost:8080/",
          "height": 276
        }
      },
      "source": [
        "recalculate_centroids(centroid,clusters,5)"
      ],
      "execution_count": 66,
      "outputs": [
        {
          "output_type": "error",
          "ename": "KeyError",
          "evalue": "ignored",
          "traceback": [
            "\u001b[0;31m---------------------------------------------------------------------------\u001b[0m",
            "\u001b[0;31mKeyError\u001b[0m                                  Traceback (most recent call last)",
            "\u001b[0;32m<ipython-input-66-6e428cda5a69>\u001b[0m in \u001b[0;36m<module>\u001b[0;34m()\u001b[0m\n\u001b[0;32m----> 1\u001b[0;31m \u001b[0mrecalculate_centroids\u001b[0m\u001b[0;34m(\u001b[0m\u001b[0mcentroid\u001b[0m\u001b[0;34m,\u001b[0m\u001b[0mclusters\u001b[0m\u001b[0;34m,\u001b[0m\u001b[0;36m5\u001b[0m\u001b[0;34m)\u001b[0m\u001b[0;34m\u001b[0m\u001b[0;34m\u001b[0m\u001b[0m\n\u001b[0m",
            "\u001b[0;32m<ipython-input-59-1b06659b3bcf>\u001b[0m in \u001b[0;36mrecalculate_centroids\u001b[0;34m(centroids, clusters, k)\u001b[0m\n\u001b[1;32m     16\u001b[0m     \u001b[0;34m\"\"\" Recalculates the centroid position based on the plot \"\"\"\u001b[0m\u001b[0;34m\u001b[0m\u001b[0;34m\u001b[0m\u001b[0m\n\u001b[1;32m     17\u001b[0m     \u001b[0;32mfor\u001b[0m \u001b[0mi\u001b[0m \u001b[0;32min\u001b[0m \u001b[0mrange\u001b[0m\u001b[0;34m(\u001b[0m\u001b[0mk\u001b[0m\u001b[0;34m)\u001b[0m\u001b[0;34m:\u001b[0m\u001b[0;34m\u001b[0m\u001b[0;34m\u001b[0m\u001b[0m\n\u001b[0;32m---> 18\u001b[0;31m         \u001b[0mcentroids\u001b[0m\u001b[0;34m[\u001b[0m\u001b[0mi\u001b[0m\u001b[0;34m]\u001b[0m \u001b[0;34m=\u001b[0m \u001b[0mnp\u001b[0m\u001b[0;34m.\u001b[0m\u001b[0maverage\u001b[0m\u001b[0;34m(\u001b[0m\u001b[0mclusters\u001b[0m\u001b[0;34m[\u001b[0m\u001b[0mi\u001b[0m\u001b[0;34m]\u001b[0m\u001b[0;34m,\u001b[0m \u001b[0maxis\u001b[0m\u001b[0;34m=\u001b[0m\u001b[0;36m0\u001b[0m\u001b[0;34m)\u001b[0m\u001b[0;34m\u001b[0m\u001b[0;34m\u001b[0m\u001b[0m\n\u001b[0m\u001b[1;32m     19\u001b[0m     \u001b[0;32mreturn\u001b[0m \u001b[0mcentroids\u001b[0m\u001b[0;34m\u001b[0m\u001b[0;34m\u001b[0m\u001b[0m\n",
            "\u001b[0;31mKeyError\u001b[0m: 0"
          ]
        }
      ]
    },
    {
      "cell_type": "code",
      "metadata": {
        "id": "LNxwp427YoKQ"
      },
      "source": [
        "h = []\n",
        "for i in range(30) :\n",
        "  h.append(i)\n",
        "print(h)"
      ],
      "execution_count": null,
      "outputs": []
    },
    {
      "cell_type": "code",
      "metadata": {
        "id": "Hw9QyfZrWMlQ"
      },
      "source": [
        "def compute_label(z, M) :\n",
        "  clusters = {}\n",
        "  for i in range(5) :\n",
        "    clusters[i] = []\n",
        "  for data in z :\n",
        "    Eud_dist = []\n",
        "    for j in range(5) :\n",
        "      distance = compute_centerdist(z[data],M[j])\n",
        "      Eud_dist.append(distance)  \n",
        "    clusters[Eud_dist.index(min(Eud_dist))].append(z[data])\n",
        "  return clusters"
      ],
      "execution_count": 68,
      "outputs": []
    },
    {
      "cell_type": "code",
      "metadata": {
        "id": "vRt5sx6ccK5k",
        "outputId": "8df46ca4-3a2e-4181-b917-fc65a2b7b401",
        "colab": {
          "base_uri": "https://localhost:8080/",
          "height": 276
        }
      },
      "source": [
        "compute_label(data,centroid)"
      ],
      "execution_count": 58,
      "outputs": [
        {
          "output_type": "error",
          "ename": "ValueError",
          "evalue": "ignored",
          "traceback": [
            "\u001b[0;31m---------------------------------------------------------------------------\u001b[0m",
            "\u001b[0;31mValueError\u001b[0m                                Traceback (most recent call last)",
            "\u001b[0;32m<ipython-input-58-97a680c02f68>\u001b[0m in \u001b[0;36m<module>\u001b[0;34m()\u001b[0m\n\u001b[0;32m----> 1\u001b[0;31m \u001b[0mcompute_label\u001b[0m\u001b[0;34m(\u001b[0m\u001b[0mdata\u001b[0m\u001b[0;34m,\u001b[0m\u001b[0mcentroid\u001b[0m\u001b[0;34m)\u001b[0m\u001b[0;34m\u001b[0m\u001b[0;34m\u001b[0m\u001b[0m\n\u001b[0m",
            "\u001b[0;32m<ipython-input-57-dfe7ca22bdd1>\u001b[0m in \u001b[0;36mcompute_label\u001b[0;34m(z, M)\u001b[0m\n\u001b[1;32m      8\u001b[0m       \u001b[0mdistance\u001b[0m \u001b[0;34m=\u001b[0m \u001b[0mcompute_centerdist\u001b[0m\u001b[0;34m(\u001b[0m\u001b[0mz\u001b[0m\u001b[0;34m[\u001b[0m\u001b[0mdata\u001b[0m\u001b[0;34m]\u001b[0m\u001b[0;34m,\u001b[0m\u001b[0mM\u001b[0m\u001b[0;34m[\u001b[0m\u001b[0mj\u001b[0m\u001b[0;34m]\u001b[0m\u001b[0;34m)\u001b[0m\u001b[0;34m\u001b[0m\u001b[0;34m\u001b[0m\u001b[0m\n\u001b[1;32m      9\u001b[0m       \u001b[0mEud_dist\u001b[0m\u001b[0;34m.\u001b[0m\u001b[0mappend\u001b[0m\u001b[0;34m(\u001b[0m\u001b[0mdistance\u001b[0m\u001b[0;34m)\u001b[0m\u001b[0;34m\u001b[0m\u001b[0;34m\u001b[0m\u001b[0m\n\u001b[0;32m---> 10\u001b[0;31m     \u001b[0mclusters\u001b[0m\u001b[0;34m[\u001b[0m\u001b[0mEud_dist\u001b[0m\u001b[0;34m.\u001b[0m\u001b[0mindex\u001b[0m\u001b[0;34m(\u001b[0m\u001b[0mmin\u001b[0m\u001b[0;34m(\u001b[0m\u001b[0mEud_dist\u001b[0m\u001b[0;34m)\u001b[0m\u001b[0;34m)\u001b[0m\u001b[0;34m]\u001b[0m\u001b[0;34m.\u001b[0m\u001b[0mappend\u001b[0m\u001b[0;34m(\u001b[0m\u001b[0mz\u001b[0m\u001b[0;34m[\u001b[0m\u001b[0mdata\u001b[0m\u001b[0;34m]\u001b[0m\u001b[0;34m)\u001b[0m\u001b[0;34m\u001b[0m\u001b[0;34m\u001b[0m\u001b[0m\n\u001b[0m\u001b[1;32m     11\u001b[0m   \u001b[0;32mreturn\u001b[0m \u001b[0mclusters\u001b[0m\u001b[0;34m\u001b[0m\u001b[0;34m\u001b[0m\u001b[0m\n",
            "\u001b[0;31mValueError\u001b[0m: The truth value of an array with more than one element is ambiguous. Use a.any() or a.all()"
          ]
        }
      ]
    },
    {
      "cell_type": "code",
      "metadata": {
        "id": "BeHpsK1jWQTB"
      },
      "source": [
        "for i in data :\n",
        "  compare_dist = []\n",
        "  for j in k :\n",
        "    compare_dist = "
      ],
      "execution_count": null,
      "outputs": []
    },
    {
      "cell_type": "code",
      "metadata": {
        "id": "s8brN_xXsNau",
        "outputId": "0de3eb46-5b7d-4ad5-d655-5b5661b01470",
        "colab": {
          "base_uri": "https://localhost:8080/"
        }
      },
      "source": [
        "#centroid = np.ones((5,3))\n",
        "#centroid[0,0:2] = compute_centroid(cluster_1)\n",
        "#centroid[1,0:2] = compute_centroid(cluster_2)\n",
        "#centroid[2,0:2] = compute_centroid(cluster_3)\n",
        "#centroid[3,0:2] = compute_centroid(cluster_4)\n",
        "#centroid[4,0:2] = compute_centroid(cluster_5)\n",
        "#centroid[:,2] = [1,2,3,4,5]\n",
        "#centroid"
      ],
      "execution_count": 53,
      "outputs": [
        {
          "output_type": "execute_result",
          "data": {
            "text/plain": [
              "array([[63.74358974, 49.97435897,  1.        ],\n",
              "       [61.47058824, 52.88235294,  2.        ],\n",
              "       [54.51724138, 51.24137931,  3.        ],\n",
              "       [60.91666667, 49.91666667,  4.        ],\n",
              "       [66.09090909, 46.18181818,  5.        ]])"
            ]
          },
          "metadata": {
            "tags": []
          },
          "execution_count": 53
        }
      ]
    },
    {
      "cell_type": "code",
      "metadata": {
        "id": "Llyd2wpnRMqI"
      },
      "source": [
        ""
      ],
      "execution_count": null,
      "outputs": []
    },
    {
      "cell_type": "markdown",
      "metadata": {
        "id": "EFKejn5cmNDm"
      },
      "source": [
        "#OUTPUT"
      ]
    },
    {
      "cell_type": "markdown",
      "metadata": {
        "id": "XGeCfiuTmPak"
      },
      "source": [
        "1.Plot the data points [1pt]"
      ]
    },
    {
      "cell_type": "code",
      "metadata": {
        "id": "0tXqx-UEmRgM",
        "outputId": "bb2971bf-1c3a-4ad0-a528-413961cb8c74",
        "colab": {
          "base_uri": "https://localhost:8080/",
          "height": 716
        }
      },
      "source": [
        "plt.figure(1,figsize=(12,12))\n",
        "plt.scatter(data[:,0], data[:,1], s=50, c='black', label ='data')\n",
        "plt.title('Data point')\n",
        "plt.legend(loc='best')\n",
        "plt.show()"
      ],
      "execution_count": 138,
      "outputs": [
        {
          "output_type": "display_data",
          "data": {
            "image/png": "[encoded data removed]",
            "text/plain": [
              "<Figure size 864x864 with 1 Axes>"
            ]
          },
          "metadata": {
            "tags": [],
            "needs_background": "light"
          }
        }
      ]
    },
    {
      "cell_type": "markdown",
      "metadata": {
        "id": "iifG4eLwnieE"
      },
      "source": [
        "2. Visualise the initial condition of the point labels [1pt]"
      ]
    },
    {
      "cell_type": "code",
      "metadata": {
        "id": "YqeQ1ZIznvmU",
        "outputId": "5372ea40-84cc-456c-fc2a-ad6ca9ba2252",
        "colab": {
          "base_uri": "https://localhost:8080/",
          "height": 734
        }
      },
      "source": [
        "plt.figure(1,figsize=(12,12))\n",
        "plt.scatter(cluster_1[:,0], cluster_1[:,1], s= 100, c='red', label='Cluster 1')\n",
        "plt.scatter(cluster_2[:,0], cluster_2[:,1], s= 100, c='blue', label='Cluster 2')\n",
        "plt.scatter(cluster_3[:,0], cluster_3[:,1], s= 100, c='green', label='Cluster 3')\n",
        "plt.scatter(cluster_4[:,0], cluster_4[:,1], s= 100, c='darkgray', label='Cluster 4')\n",
        "plt.scatter(cluster_5[:,0], cluster_5[:,1], s= 100, c='gold', label='Cluster 5')\n",
        "plt.scatter(centroid[:,0],centroid[:,1], s=260,c='black',marker='+', label='Centroids')\n",
        "plt.title('Initial cluster')\n",
        "plt.legend(loc='best')"
      ],
      "execution_count": 256,
      "outputs": [
        {
          "output_type": "execute_result",
          "data": {
            "text/plain": [
              "<matplotlib.legend.Legend at 0x7f127343a2b0>"
            ]
          },
          "metadata": {
            "tags": []
          },
          "execution_count": 256
        },
        {
          "output_type": "display_data",
          "data": {
            "image/png": "[encoded data removed]",
            "text/plain": [
              "<Figure size 864x864 with 1 Axes>"
            ]
          },
          "metadata": {
            "tags": [],
            "needs_background": "light"
          }
        }
      ]
    },
    {
      "cell_type": "code",
      "metadata": {
        "id": "Vnq6lc2Noqj6"
      },
      "source": [
        ""
      ],
      "execution_count": null,
      "outputs": []
    }
  ]
}