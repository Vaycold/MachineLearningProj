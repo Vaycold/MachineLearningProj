{
  "nbformat": 4,
  "nbformat_minor": 0,
  "metadata": {
    "colab": {
      "name": "assignment-07",
      "provenance": [],
      "authorship_tag": "ABX9TyN8RtMxESeBXq/2bCBEphmW",
      "include_colab_link": true
    },
    "kernelspec": {
      "name": "python3",
      "display_name": "Python 3"
    }
  },
  "cells": [
    {
      "cell_type": "markdown",
      "metadata": {
        "id": "view-in-github",
        "colab_type": "text"
      },
      "source": [
        "<a href=\"https://colab.research.google.com/github/moch1996/MachineLearningProj/blob/master/assignment_07.ipynb\" target=\"_parent\"><img src=\"https://colab.research.google.com/assets/colab-badge.svg\" alt=\"Open In Colab\"/></a>"
      ]
    },
    {
      "cell_type": "code",
      "metadata": {
        "id": "EfiX2vvbmSkd"
      },
      "source": [
        "import numpy as np\n",
        "import matplotlib.pyplot as plt\n",
        "import pandas as pd\n",
        "\n",
        "dataset = pd.read_csv('data-kmeans.csv')\n",
        "data = dataset.values\n"
      ],
      "execution_count": 3,
      "outputs": []
    },
    {
      "cell_type": "code",
      "metadata": {
        "id": "J2nreR1VmgVM"
      },
      "source": [
        "def compute_distance(a,b) :\n",
        "  dist = np.sqrt((a[0] - b[0])**2 + (a[1]-b[1])**2)\n",
        "  return dist"
      ],
      "execution_count": 16,
      "outputs": []
    },
    {
      "cell_type": "code",
      "metadata": {
        "id": "My0pjhg0qxvK"
      },
      "source": [
        "c = np.array([[1],[2]])\n",
        "d = np.array([[3],[4]])"
      ],
      "execution_count": 27,
      "outputs": []
    },
    {
      "cell_type": "code",
      "metadata": {
        "id": "1q94GKifmkU6",
        "outputId": "e44a6094-705b-4971-e152-340fd1fcece0",
        "colab": {
          "base_uri": "https://localhost:8080/"
        }
      },
      "source": [
        "compute_distance(c,d)"
      ],
      "execution_count": 28,
      "outputs": [
        {
          "output_type": "execute_result",
          "data": {
            "text/plain": [
              "array([2.82842712])"
            ]
          },
          "metadata": {
            "tags": []
          },
          "execution_count": 28
        }
      ]
    },
    {
      "cell_type": "code",
      "metadata": {
        "id": "qivhST5rqJpc"
      },
      "source": [
        "def compute_centroid(Z):\n",
        "\n",
        "    center = np.ones((1,2))\n",
        "    center[0,0] = np.sum(Z[1]) \n",
        "    return center\n"
      ],
      "execution_count": null,
      "outputs": []
    },
    {
      "cell_type": "code",
      "metadata": {
        "id": "ozJwQ13w2cQ9",
        "outputId": "bb0bf9d3-00c4-447d-f751-476d2c0af9b4",
        "colab": {
          "base_uri": "https://localhost:8080/"
        }
      },
      "source": [
        "k = np.ones((1,2))\n",
        "k[0,0] = 6\n",
        "k[0,1] = 3\n",
        "k"
      ],
      "execution_count": 43,
      "outputs": [
        {
          "output_type": "execute_result",
          "data": {
            "text/plain": [
              "array([[6., 3.]])"
            ]
          },
          "metadata": {
            "tags": []
          },
          "execution_count": 43
        }
      ]
    },
    {
      "cell_type": "code",
      "metadata": {
        "id": "M_bXz1IX36uy",
        "outputId": "fdc4403b-f582-417e-ed54-e463814f9c20",
        "colab": {
          "base_uri": "https://localhost:8080/"
        }
      },
      "source": [
        "Z = np.array([[1,2],[2,3],[4,5]])\n",
        "print(Z)\n",
        "print(np.sum(Z[:,0]))"
      ],
      "execution_count": 53,
      "outputs": [
        {
          "output_type": "stream",
          "text": [
            "[[1 2]\n",
            " [2 3]\n",
            " [4 5]]\n",
            "7\n"
          ],
          "name": "stdout"
        }
      ]
    }
  ]
}