{
  "nbformat": 4,
  "nbformat_minor": 0,
  "metadata": {
    "colab": {
      "name": "assignment-07",
      "provenance": [],
      "authorship_tag": "ABX9TyPH+XE2r9ogfTFHNPDGuBd0",
      "include_colab_link": true
    },
    "kernelspec": {
      "name": "python3",
      "display_name": "Python 3"
    }
  },
  "cells": [
    {
      "cell_type": "markdown",
      "metadata": {
        "id": "view-in-github",
        "colab_type": "text"
      },
      "source": [
        "<a href=\"https://colab.research.google.com/github/moch1996/MachineLearningProj/blob/master/assignment_07.ipynb\" target=\"_parent\"><img src=\"https://colab.research.google.com/assets/colab-badge.svg\" alt=\"Open In Colab\"/></a>"
      ]
    },
    {
      "cell_type": "code",
      "metadata": {
        "id": "EfiX2vvbmSkd"
      },
      "source": [
        "import numpy as np\n",
        "import matplotlib.pyplot as plt\n",
        "import pandas as pd\n",
        "import random\n",
        "\n",
        "dataset = pd.read_csv('data-kmeans.csv')\n",
        "data = dataset.values"
      ],
      "execution_count": 41,
      "outputs": []
    },
    {
      "cell_type": "code",
      "metadata": {
        "id": "Nm7k80skNtae",
        "outputId": "dff36f80-100e-429a-c08f-51c728739b55",
        "colab": {
          "base_uri": "https://localhost:8080/"
        }
      },
      "source": [
        "idx = np.ones((200,1))\n",
        "for i in range(200) :\n",
        "  idx[i] = random.randrange(1,6)\n",
        "idx.shape"
      ],
      "execution_count": 46,
      "outputs": [
        {
          "output_type": "execute_result",
          "data": {
            "text/plain": [
              "(200, 1)"
            ]
          },
          "metadata": {
            "tags": []
          },
          "execution_count": 46
        }
      ]
    },
    {
      "cell_type": "code",
      "metadata": {
        "id": "rSgcEUIMO846",
        "outputId": "2b9cd67e-daaa-4aae-8db6-7f7d6c226cd6",
        "colab": {
          "base_uri": "https://localhost:8080/"
        }
      },
      "source": [
        "data2 = np.c_[data,idx]\n",
        "print(data2)"
      ],
      "execution_count": 51,
      "outputs": [
        {
          "output_type": "stream",
          "text": [
            "[[ 15.  39.   1.]\n",
            " [ 15.  81.   1.]\n",
            " [ 16.   6.   4.]\n",
            " [ 16.  77.   4.]\n",
            " [ 17.  40.   2.]\n",
            " [ 17.  76.   4.]\n",
            " [ 18.   6.   3.]\n",
            " [ 18.  94.   4.]\n",
            " [ 19.   3.   2.]\n",
            " [ 19.  72.   3.]\n",
            " [ 19.  14.   1.]\n",
            " [ 19.  99.   3.]\n",
            " [ 20.  15.   5.]\n",
            " [ 20.  77.   2.]\n",
            " [ 20.  13.   3.]\n",
            " [ 20.  79.   3.]\n",
            " [ 21.  35.   2.]\n",
            " [ 21.  66.   2.]\n",
            " [ 23.  29.   5.]\n",
            " [ 23.  98.   4.]\n",
            " [ 24.  35.   1.]\n",
            " [ 24.  73.   1.]\n",
            " [ 25.   5.   4.]\n",
            " [ 25.  73.   5.]\n",
            " [ 28.  14.   1.]\n",
            " [ 28.  82.   1.]\n",
            " [ 28.  32.   4.]\n",
            " [ 28.  61.   4.]\n",
            " [ 29.  31.   5.]\n",
            " [ 29.  87.   1.]\n",
            " [ 30.   4.   4.]\n",
            " [ 30.  73.   1.]\n",
            " [ 33.   4.   3.]\n",
            " [ 33.  92.   5.]\n",
            " [ 33.  14.   5.]\n",
            " [ 33.  81.   2.]\n",
            " [ 34.  17.   4.]\n",
            " [ 34.  73.   2.]\n",
            " [ 37.  26.   2.]\n",
            " [ 37.  75.   1.]\n",
            " [ 38.  35.   4.]\n",
            " [ 38.  92.   3.]\n",
            " [ 39.  36.   3.]\n",
            " [ 39.  61.   1.]\n",
            " [ 39.  28.   3.]\n",
            " [ 39.  65.   1.]\n",
            " [ 40.  55.   5.]\n",
            " [ 40.  47.   2.]\n",
            " [ 40.  42.   2.]\n",
            " [ 40.  42.   2.]\n",
            " [ 42.  52.   2.]\n",
            " [ 42.  60.   2.]\n",
            " [ 43.  54.   4.]\n",
            " [ 43.  60.   4.]\n",
            " [ 43.  45.   2.]\n",
            " [ 43.  41.   4.]\n",
            " [ 44.  50.   5.]\n",
            " [ 44.  46.   3.]\n",
            " [ 46.  51.   3.]\n",
            " [ 46.  46.   1.]\n",
            " [ 46.  56.   5.]\n",
            " [ 46.  55.   5.]\n",
            " [ 47.  52.   4.]\n",
            " [ 47.  59.   4.]\n",
            " [ 48.  51.   3.]\n",
            " [ 48.  59.   1.]\n",
            " [ 48.  50.   5.]\n",
            " [ 48.  48.   1.]\n",
            " [ 48.  59.   2.]\n",
            " [ 48.  47.   4.]\n",
            " [ 49.  55.   4.]\n",
            " [ 49.  42.   2.]\n",
            " [ 50.  49.   4.]\n",
            " [ 50.  56.   5.]\n",
            " [ 54.  47.   1.]\n",
            " [ 54.  54.   3.]\n",
            " [ 54.  53.   5.]\n",
            " [ 54.  48.   2.]\n",
            " [ 54.  52.   2.]\n",
            " [ 54.  42.   1.]\n",
            " [ 54.  51.   1.]\n",
            " [ 54.  55.   5.]\n",
            " [ 54.  41.   2.]\n",
            " [ 54.  44.   2.]\n",
            " [ 54.  57.   2.]\n",
            " [ 54.  46.   1.]\n",
            " [ 57.  58.   3.]\n",
            " [ 57.  55.   3.]\n",
            " [ 58.  60.   5.]\n",
            " [ 58.  46.   1.]\n",
            " [ 59.  55.   3.]\n",
            " [ 59.  41.   2.]\n",
            " [ 60.  49.   5.]\n",
            " [ 60.  40.   2.]\n",
            " [ 60.  42.   1.]\n",
            " [ 60.  52.   4.]\n",
            " [ 60.  47.   3.]\n",
            " [ 60.  50.   4.]\n",
            " [ 61.  42.   1.]\n",
            " [ 61.  49.   1.]\n",
            " [ 62.  41.   4.]\n",
            " [ 62.  48.   5.]\n",
            " [ 62.  59.   4.]\n",
            " [ 62.  55.   5.]\n",
            " [ 62.  56.   1.]\n",
            " [ 62.  42.   5.]\n",
            " [ 63.  50.   2.]\n",
            " [ 63.  46.   1.]\n",
            " [ 63.  43.   2.]\n",
            " [ 63.  48.   3.]\n",
            " [ 63.  52.   5.]\n",
            " [ 63.  54.   2.]\n",
            " [ 64.  42.   4.]\n",
            " [ 64.  46.   2.]\n",
            " [ 65.  48.   2.]\n",
            " [ 65.  50.   4.]\n",
            " [ 65.  43.   5.]\n",
            " [ 65.  59.   5.]\n",
            " [ 67.  43.   3.]\n",
            " [ 67.  57.   4.]\n",
            " [ 67.  56.   5.]\n",
            " [ 67.  40.   3.]\n",
            " [ 69.  58.   5.]\n",
            " [ 69.  91.   3.]\n",
            " [ 70.  29.   1.]\n",
            " [ 70.  77.   3.]\n",
            " [ 71.  35.   3.]\n",
            " [ 71.  95.   2.]\n",
            " [ 71.  11.   2.]\n",
            " [ 71.  75.   2.]\n",
            " [ 71.   9.   2.]\n",
            " [ 71.  75.   5.]\n",
            " [ 72.  34.   1.]\n",
            " [ 72.  71.   2.]\n",
            " [ 73.   5.   3.]\n",
            " [ 73.  88.   4.]\n",
            " [ 73.   7.   4.]\n",
            " [ 73.  73.   3.]\n",
            " [ 74.  10.   2.]\n",
            " [ 74.  72.   2.]\n",
            " [ 75.   5.   4.]\n",
            " [ 75.  93.   3.]\n",
            " [ 76.  40.   2.]\n",
            " [ 76.  87.   3.]\n",
            " [ 77.  12.   3.]\n",
            " [ 77.  97.   5.]\n",
            " [ 77.  36.   2.]\n",
            " [ 77.  74.   4.]\n",
            " [ 78.  22.   5.]\n",
            " [ 78.  90.   1.]\n",
            " [ 78.  17.   3.]\n",
            " [ 78.  88.   3.]\n",
            " [ 78.  20.   1.]\n",
            " [ 78.  76.   1.]\n",
            " [ 78.  16.   2.]\n",
            " [ 78.  89.   1.]\n",
            " [ 78.   1.   4.]\n",
            " [ 78.  78.   1.]\n",
            " [ 78.   1.   2.]\n",
            " [ 78.  73.   2.]\n",
            " [ 79.  35.   2.]\n",
            " [ 79.  83.   1.]\n",
            " [ 81.   5.   5.]\n",
            " [ 81.  93.   2.]\n",
            " [ 85.  26.   2.]\n",
            " [ 85.  75.   3.]\n",
            " [ 86.  20.   4.]\n",
            " [ 86.  95.   1.]\n",
            " [ 87.  27.   2.]\n",
            " [ 87.  63.   1.]\n",
            " [ 87.  13.   5.]\n",
            " [ 87.  75.   1.]\n",
            " [ 87.  10.   5.]\n",
            " [ 87.  92.   3.]\n",
            " [ 88.  13.   4.]\n",
            " [ 88.  86.   5.]\n",
            " [ 88.  15.   3.]\n",
            " [ 88.  69.   2.]\n",
            " [ 93.  14.   4.]\n",
            " [ 93.  90.   1.]\n",
            " [ 97.  32.   1.]\n",
            " [ 97.  86.   2.]\n",
            " [ 98.  15.   3.]\n",
            " [ 98.  88.   1.]\n",
            " [ 99.  39.   2.]\n",
            " [ 99.  97.   5.]\n",
            " [101.  24.   3.]\n",
            " [101.  68.   5.]\n",
            " [103.  17.   2.]\n",
            " [103.  85.   2.]\n",
            " [103.  23.   2.]\n",
            " [103.  69.   1.]\n",
            " [113.   8.   3.]\n",
            " [113.  91.   3.]\n",
            " [120.  16.   2.]\n",
            " [120.  79.   5.]\n",
            " [126.  28.   4.]\n",
            " [126.  74.   3.]\n",
            " [137.  18.   1.]\n",
            " [137.  83.   1.]]\n"
          ],
          "name": "stdout"
        }
      ]
    },
    {
      "cell_type": "code",
      "metadata": {
        "id": "J2nreR1VmgVM"
      },
      "source": [
        "def compute_distance(a,b) :\n",
        "  dist = np.sqrt((a[0] - b[0])**2 + (a[1]-b[1])**2)\n",
        "  return dist"
      ],
      "execution_count": 3,
      "outputs": []
    },
    {
      "cell_type": "code",
      "metadata": {
        "id": "qivhST5rqJpc"
      },
      "source": [
        "def compute_centroid(Z):\n",
        "\n",
        "    center = np.ones((1,2))\n",
        "    center[0,0] = (np.sum(Z[:,0])) / len(Z[:,0])\n",
        "    center[0,1] = (np.sum(Z[:,1])) / len(Z[:,1])\n",
        "    return center"
      ],
      "execution_count": null,
      "outputs": []
    },
    {
      "cell_type": "markdown",
      "metadata": {
        "id": "EFKejn5cmNDm"
      },
      "source": [
        "#OUTPUT"
      ]
    },
    {
      "cell_type": "markdown",
      "metadata": {
        "id": "XGeCfiuTmPak"
      },
      "source": [
        "1.Plot the data points [1pt]"
      ]
    },
    {
      "cell_type": "code",
      "metadata": {
        "id": "0tXqx-UEmRgM",
        "outputId": "195417ec-b7e8-403d-c70e-285ccdad3690",
        "colab": {
          "base_uri": "https://localhost:8080/",
          "height": 607
        }
      },
      "source": [
        "plt.figure(1,figsize=(10,10))\n",
        "plt.scatter(data[:,0], data[:,1], s=50, c='black', label ='data')\n",
        "plt.title('Data point')\n",
        "plt.legend(loc='best')\n",
        "plt.show()"
      ],
      "execution_count": 60,
      "outputs": [
        {
          "output_type": "display_data",
          "data": {
            "image/png": "[encoded data removed]",
            "text/plain": [
              "<Figure size 720x720 with 1 Axes>"
            ]
          },
          "metadata": {
            "tags": [],
            "needs_background": "light"
          }
        }
      ]
    },
    {
      "cell_type": "code",
      "metadata": {
        "id": "GjuKJIEWm1jj"
      },
      "source": [
        ""
      ],
      "execution_count": null,
      "outputs": []
    }
  ]
}