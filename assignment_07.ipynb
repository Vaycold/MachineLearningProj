{
  "nbformat": 4,
  "nbformat_minor": 0,
  "metadata": {
    "colab": {
      "name": "assignment-07",
      "provenance": [],
      "authorship_tag": "ABX9TyMh0F81erfYmhxUUpqHYmQW",
      "include_colab_link": true
    },
    "kernelspec": {
      "name": "python3",
      "display_name": "Python 3"
    }
  },
  "cells": [
    {
      "cell_type": "markdown",
      "metadata": {
        "id": "view-in-github",
        "colab_type": "text"
      },
      "source": [
        "<a href=\"https://colab.research.google.com/github/moch1996/MachineLearningProj/blob/master/assignment_07.ipynb\" target=\"_parent\"><img src=\"https://colab.research.google.com/assets/colab-badge.svg\" alt=\"Open In Colab\"/></a>"
      ]
    },
    {
      "cell_type": "code",
      "metadata": {
        "id": "EfiX2vvbmSkd"
      },
      "source": [
        "import numpy as np\n",
        "import matplotlib.pyplot as plt\n",
        "import pandas as pd\n",
        "import random\n",
        "\n",
        "dataset = pd.read_csv('data-kmeans.csv')\n",
        "data = dataset.values"
      ],
      "execution_count": 273,
      "outputs": []
    },
    {
      "cell_type": "code",
      "metadata": {
        "id": "Nm7k80skNtae",
        "outputId": "0a9a4d94-b158-413a-b2c2-4290cd39ef15",
        "colab": {
          "base_uri": "https://localhost:8080/"
        }
      },
      "source": [
        "idx = np.ones((200,1))\n",
        "for i in range(200) :\n",
        "  idx[i] = random.randrange(1,6)\n",
        "idx.shape"
      ],
      "execution_count": 274,
      "outputs": [
        {
          "output_type": "execute_result",
          "data": {
            "text/plain": [
              "(200, 1)"
            ]
          },
          "metadata": {
            "tags": []
          },
          "execution_count": 274
        }
      ]
    },
    {
      "cell_type": "code",
      "metadata": {
        "id": "rSgcEUIMO846"
      },
      "source": [
        "data2 = np.c_[data,idx]\n",
        "print(data2)"
      ],
      "execution_count": null,
      "outputs": []
    },
    {
      "cell_type": "code",
      "metadata": {
        "id": "fO-ufywpowsk"
      },
      "source": [
        "#cluster\n",
        "\n",
        "cluster_1 = data2[data2[:,2]==1]\n",
        "cluster_2 = data2[data2[:,2]==2]\n",
        "cluster_3 = data2[data2[:,2]==3]\n",
        "cluster_4 = data2[data2[:,2]==4]\n",
        "cluster_5 = data2[data2[:,2]==5]"
      ],
      "execution_count": 308,
      "outputs": []
    },
    {
      "cell_type": "code",
      "metadata": {
        "id": "ML0FLJRTxSsT"
      },
      "source": [
        "cluster_4"
      ],
      "execution_count": null,
      "outputs": []
    },
    {
      "cell_type": "code",
      "metadata": {
        "id": "9Iu4BB2DWAW7",
        "outputId": "13eb57ee-b10d-4cad-b789-3185648b2c42",
        "colab": {
          "base_uri": "https://localhost:8080/"
        }
      },
      "source": [
        "#Center\n",
        "\n",
        "centroid = np.ones((5,2))\n",
        "centroid[0,0:2] = compute_centroid(cluster_1)\n",
        "centroid[1,0:2] = compute_centroid(cluster_2)\n",
        "centroid[2,0:2] = compute_centroid(cluster_3)\n",
        "centroid[3,0:2] = compute_centroid(cluster_4)\n",
        "centroid[4,0:2] = compute_centroid(cluster_5)\n",
        "centroid"
      ],
      "execution_count": 278,
      "outputs": [
        {
          "output_type": "execute_result",
          "data": {
            "text/plain": [
              "array([[60.81818182, 54.02272727],\n",
              "       [67.79487179, 46.84615385],\n",
              "       [56.10344828, 48.06896552],\n",
              "       [56.225     , 49.325     ],\n",
              "       [60.75      , 51.4375    ]])"
            ]
          },
          "metadata": {
            "tags": []
          },
          "execution_count": 278
        }
      ]
    },
    {
      "cell_type": "code",
      "metadata": {
        "id": "07wubE15TIB9",
        "outputId": "d0cfd8a0-0f04-4c6f-a0bb-2cb908f57605",
        "colab": {
          "base_uri": "https://localhost:8080/"
        }
      },
      "source": [
        "#메커니즘\n",
        "\n",
        "print(data[0][0])\n",
        "print(centroid[:,0])\n",
        "print(np.sqrt( (data[0][0]-centroid[:,0])**2 + (data[0][1]-centroid[:,1])**2 ))\n",
        "print(np.argmin(np.sqrt( (data[0][0]-centroid[:,0])**2 + (data[0][1]-centroid[:,1])**2 )))\n",
        "print(data[0].shape)\n",
        "t_cluster3 = np.r_[t_cluster3,data[0].reshape(1,2)]\n",
        "print(t_cluster3)"
      ],
      "execution_count": null,
      "outputs": [
        {
          "output_type": "stream",
          "text": [
            "15\n",
            "[63.74358974 61.47058824 54.51724138 60.91666667 66.09090909]\n",
            "[49.9637278  48.49984839 41.36984087 47.19654531 51.5932118 ]\n",
            "2\n",
            "(2,)\n",
            "[[15. 39.]]\n"
          ],
          "name": "stdout"
        }
      ]
    },
    {
      "cell_type": "code",
      "metadata": {
        "id": "J2nreR1VmgVM",
        "outputId": "d1530947-8367-4203-cb1d-4a43a2b4c462",
        "colab": {
          "base_uri": "https://localhost:8080/"
        }
      },
      "source": [
        "def compute_centerdist(a,b) :\n",
        "  Eud = (a[0] - b[0])**2 + (a[1]- b[1])**2\n",
        "  dist = np.sqrt(Eud)\n",
        "  return dist\n",
        "\n",
        "a = np.array([[3],[4]])\n",
        "b = np.array([[0],[0]])\n",
        "compute_centerdist(a,b) #5"
      ],
      "execution_count": null,
      "outputs": [
        {
          "output_type": "execute_result",
          "data": {
            "text/plain": [
              "array([5.])"
            ]
          },
          "metadata": {
            "tags": []
          },
          "execution_count": 252
        }
      ]
    },
    {
      "cell_type": "code",
      "metadata": {
        "id": "qivhST5rqJpc"
      },
      "source": [
        "def compute_centroid(Z):\n",
        "\n",
        "    center = np.ones((1,2))\n",
        "    center[0,0] = (np.sum(Z[:,0])) / len(Z[:,0])\n",
        "    center[0,1] = (np.sum(Z[:,1])) / len(Z[:,1])\n",
        "    return center"
      ],
      "execution_count": null,
      "outputs": []
    },
    {
      "cell_type": "code",
      "metadata": {
        "id": "BlqTq5J9W8rc",
        "outputId": "59b2fb14-5e4f-42ff-bcf7-2d1d31fb20e8",
        "colab": {
          "base_uri": "https://localhost:8080/"
        }
      },
      "source": [
        "#print(centroid)\n",
        "#print(centroid[0][1])\n",
        "#print(data[0][1])\n",
        "print(compute_centerdist(data[0],centroid[0]))"
      ],
      "execution_count": null,
      "outputs": [
        {
          "output_type": "stream",
          "text": [
            "47.03019048610708\n"
          ],
          "name": "stdout"
        }
      ]
    },
    {
      "cell_type": "code",
      "metadata": {
        "id": "jVtBeiw6fk3S"
      },
      "source": [
        "pp = recalculate_clusters(data,centroid,5)"
      ],
      "execution_count": null,
      "outputs": []
    },
    {
      "cell_type": "code",
      "metadata": {
        "id": "iH-b_6cdf-rQ",
        "outputId": "15e10612-c6d9-4825-9900-92c7c2726d3e",
        "colab": {
          "base_uri": "https://localhost:8080/"
        }
      },
      "source": [
        "recalculate_centroids(centroid,pp,5)"
      ],
      "execution_count": null,
      "outputs": [
        {
          "output_type": "execute_result",
          "data": {
            "text/plain": [
              "array([[37.78947368, 69.55263158],\n",
              "       [76.35294118, 32.82352941],\n",
              "       [85.62295082, 67.24590164],\n",
              "       [60.        , 49.5       ],\n",
              "       [49.20731707, 32.17073171]])"
            ]
          },
          "metadata": {
            "tags": []
          },
          "execution_count": 75
        }
      ]
    },
    {
      "cell_type": "code",
      "metadata": {
        "id": "Zt50Z5A9fCkH"
      },
      "source": [
        "def compute_label2(z, M) :\n",
        "  clusters = {}\n",
        "  for i in range(5) :\n",
        "    clusters[i+1] = []\n",
        "  for j in z :\n",
        "    Distance = []\n",
        "    for k in range(5) :\n",
        "      Distance.append(compute_centerdist(j,M[k]))\n",
        "    clusters[Distance.index(min(Distance))+1].append(j)\n",
        "  return clusters"
      ],
      "execution_count": null,
      "outputs": []
    },
    {
      "cell_type": "code",
      "metadata": {
        "id": "oHwrrwSSsPKb"
      },
      "source": [
        "def compute_label(z, M):\n",
        "    #걍 한글로 써야겠다.\n",
        "    #z값이 M까지의 거리중 가장 작은 것을 라벨로 하면 되겠\n",
        "    labelling = np.argmin(compute_centerdist(z,M)) + 1\n",
        "    if labelling == 1 :\n",
        "      t_cluster1 = np.r_[t_cluster1,z.reshape(1,2)]\n",
        "    elif labelling == 2 :\n",
        "      t_cluster2 = np.r_[t_cluster2,z.reshape(1,2)]\n",
        "    elif labelling == 3 :\n",
        "      t_cluster3 = np.r_[t_cluster3,z.reshape(1,2)]\n",
        "    elif labelling == 4 :\n",
        "      t_cluster4 = np.r_[t_cluster4,z.reshape(1,2)]\n",
        "    elif labelling == 5 :\n",
        "      t_cluster5 = np.r_[t_cluster5,z.reshape(1,2)]\n",
        "\n",
        "\n",
        "    #label = #label of point z with a set of centroids M#\n",
        "    \n",
        "\n",
        "    return t_cluster1, t_cluster2, t_cluster3, t_cluster4, t_cluster5\n"
      ],
      "execution_count": null,
      "outputs": []
    },
    {
      "cell_type": "code",
      "metadata": {
        "id": "vAQcTUd_cBL2"
      },
      "source": [
        "cluster2 = compute_label2(data,centroid)\n",
        "cluster2"
      ],
      "execution_count": null,
      "outputs": []
    },
    {
      "cell_type": "code",
      "metadata": {
        "id": "ZA83B7uPxlaU",
        "outputId": "653c6708-91d4-49e3-b724-a015747a60d5",
        "colab": {
          "base_uri": "https://localhost:8080/"
        }
      },
      "source": [
        "compute_label2(data,centroid)[5]"
      ],
      "execution_count": null,
      "outputs": [
        {
          "output_type": "execute_result",
          "data": {
            "text/plain": [
              "[array([60, 49]), array([60, 52]), array([60, 50]), array([61, 49])]"
            ]
          },
          "metadata": {
            "tags": []
          },
          "execution_count": 214
        }
      ]
    },
    {
      "cell_type": "code",
      "metadata": {
        "id": "cDnssWQw424D",
        "outputId": "615f6b9a-c3a3-4080-a04e-453b5e3dff71",
        "colab": {
          "base_uri": "https://localhost:8080/"
        }
      },
      "source": [
        "np.average(compute_label2(data,centroid)[5], axis=0)"
      ],
      "execution_count": null,
      "outputs": [
        {
          "output_type": "execute_result",
          "data": {
            "text/plain": [
              "array([60.25, 50.  ])"
            ]
          },
          "metadata": {
            "tags": []
          },
          "execution_count": 146
        }
      ]
    },
    {
      "cell_type": "code",
      "metadata": {
        "id": "AOwxoo4k5Evh",
        "outputId": "1d21b4d5-4703-42a2-d7b5-d45c06adb3fb",
        "colab": {
          "base_uri": "https://localhost:8080/"
        }
      },
      "source": [
        "centroid[1]"
      ],
      "execution_count": null,
      "outputs": [
        {
          "output_type": "execute_result",
          "data": {
            "text/plain": [
              "array([65.125, 52.15 ])"
            ]
          },
          "metadata": {
            "tags": []
          },
          "execution_count": 149
        }
      ]
    },
    {
      "cell_type": "code",
      "metadata": {
        "id": "uLaXeXgH4190"
      },
      "source": [
        "  for i in range(k):\n",
        "        centroids[i] = np.average(clusters[i], axis=0)\n",
        "    return centroids"
      ],
      "execution_count": null,
      "outputs": []
    },
    {
      "cell_type": "code",
      "metadata": {
        "id": "ynOP0X4ftE_7",
        "outputId": "926dee97-69df-4bd5-d260-8bbc475a8805",
        "colab": {
          "base_uri": "https://localhost:8080/"
        }
      },
      "source": [
        "def compute_centerdist(a,b) :\n",
        "  Eud = (a[0] - b[0])**2 + (a[1]- b[1])**2\n",
        "  dist = np.sqrt(Eud)\n",
        "  return dist\n",
        "\n",
        "a = np.array([[3],[4]])\n",
        "b = np.array([[0],[0]])\n",
        "compute_centerdist(a,b) #5"
      ],
      "execution_count": null,
      "outputs": [
        {
          "output_type": "execute_result",
          "data": {
            "text/plain": [
              "array([5.])"
            ]
          },
          "metadata": {
            "tags": []
          },
          "execution_count": 150
        }
      ]
    },
    {
      "cell_type": "code",
      "metadata": {
        "id": "mJWYLgij_d7v",
        "outputId": "3c5265a6-c9c6-4229-b6cc-218a75d45ad8",
        "colab": {
          "base_uri": "https://localhost:8080/"
        }
      },
      "source": [
        "print(clusters[1][:5])\n",
        "print(np.average(clusters[1], axis=0))"
      ],
      "execution_count": null,
      "outputs": [
        {
          "output_type": "stream",
          "text": [
            "[array([61, 49]), array([62, 48]), array([63, 46]), array([63, 48]), array([64, 46])]\n",
            "[76.35294118 32.82352941]\n"
          ],
          "name": "stdout"
        }
      ]
    },
    {
      "cell_type": "code",
      "metadata": {
        "id": "ZpyEQY3DBGO0",
        "outputId": "c08a2ab9-0f96-4f03-863f-3e8ee1615227",
        "colab": {
          "base_uri": "https://localhost:8080/"
        }
      },
      "source": [
        "clusters[1][3] - np.average(clusters[1], axis=0)\n",
        "print(clusters[1][1])"
      ],
      "execution_count": null,
      "outputs": [
        {
          "output_type": "stream",
          "text": [
            "[62 48]\n"
          ],
          "name": "stdout"
        }
      ]
    },
    {
      "cell_type": "code",
      "metadata": {
        "id": "JZIZNdLtFolc"
      },
      "source": [
        "clusters[1]"
      ],
      "execution_count": null,
      "outputs": []
    },
    {
      "cell_type": "code",
      "metadata": {
        "id": "LpwnERmIGnZM",
        "outputId": "a9325f09-c151-4e9e-88dd-3a87dc591c4a",
        "colab": {
          "base_uri": "https://localhost:8080/"
        }
      },
      "source": [
        "clusters[2].__len__() + clusters[1].__len__() + clusters[3].__len__() + clusters[4].__len__() + clusters[5].__len__()"
      ],
      "execution_count": null,
      "outputs": [
        {
          "output_type": "execute_result",
          "data": {
            "text/plain": [
              "244"
            ]
          },
          "metadata": {
            "tags": []
          },
          "execution_count": 206
        }
      ]
    },
    {
      "cell_type": "code",
      "metadata": {
        "id": "ijZYD8UuHFtV",
        "outputId": "ab53c5a0-07b8-4b98-e504-2686206dc5fd",
        "colab": {
          "base_uri": "https://localhost:8080/"
        }
      },
      "source": [
        "compute_centerdist(compute_label2(data,centroid)[1][1], np.average(compute_label2(data,centroid)[1], axis=0))"
      ],
      "execution_count": null,
      "outputs": [
        {
          "output_type": "execute_result",
          "data": {
            "text/plain": [
              "30.667912014815467"
            ]
          },
          "metadata": {
            "tags": []
          },
          "execution_count": 233
        }
      ]
    },
    {
      "cell_type": "code",
      "metadata": {
        "id": "S_NM78fVGazk"
      },
      "source": [
        "for a in clusters[1] :\n",
        "  print(a)"
      ],
      "execution_count": null,
      "outputs": []
    },
    {
      "cell_type": "code",
      "metadata": {
        "id": "adWhrnNPaYGn"
      },
      "source": [
        "for a in compute_label2(data,centroid)[1] :\n",
        "  print(a)"
      ],
      "execution_count": null,
      "outputs": []
    },
    {
      "cell_type": "code",
      "metadata": {
        "id": "KWcn3QEnFwkC",
        "outputId": "6cf51fa3-0d1e-4bcf-f9af-ce81b97251fa",
        "colab": {
          "base_uri": "https://localhost:8080/"
        }
      },
      "source": [
        "np.average(clusters[5],axis=0)"
      ],
      "execution_count": null,
      "outputs": [
        {
          "output_type": "execute_result",
          "data": {
            "text/plain": [
              "array([49.20731707, 32.17073171])"
            ]
          },
          "metadata": {
            "tags": []
          },
          "execution_count": 219
        }
      ]
    },
    {
      "cell_type": "code",
      "metadata": {
        "id": "_WvfMrZTE8qM",
        "outputId": "0b6af601-7a1a-4a60-fbf4-7303673085c5",
        "colab": {
          "base_uri": "https://localhost:8080/"
        }
      },
      "source": [
        "compute_centerdist(clusters[1][0],np.average(clusters[1],axis=0))"
      ],
      "execution_count": null,
      "outputs": [
        {
          "output_type": "execute_result",
          "data": {
            "text/plain": [
              "22.302264536593764"
            ]
          },
          "metadata": {
            "tags": []
          },
          "execution_count": 237
        }
      ]
    },
    {
      "cell_type": "code",
      "metadata": {
        "id": "UF0yBOobgXVe",
        "outputId": "21b78752-a9fe-4a5d-dc9b-94c52f21f625",
        "colab": {
          "base_uri": "https://localhost:8080/"
        }
      },
      "source": [
        "cluster2[1]"
      ],
      "execution_count": null,
      "outputs": [
        {
          "output_type": "execute_result",
          "data": {
            "text/plain": [
              "[array([54, 42]),\n",
              " array([54, 41]),\n",
              " array([58, 46]),\n",
              " array([59, 41]),\n",
              " array([60, 49]),\n",
              " array([60, 40]),\n",
              " array([60, 42]),\n",
              " array([60, 52]),\n",
              " array([60, 47]),\n",
              " array([60, 50]),\n",
              " array([61, 42]),\n",
              " array([61, 49]),\n",
              " array([62, 41]),\n",
              " array([62, 48]),\n",
              " array([62, 42]),\n",
              " array([63, 46]),\n",
              " array([63, 43]),\n",
              " array([64, 42])]"
            ]
          },
          "metadata": {
            "tags": []
          },
          "execution_count": 264
        }
      ]
    },
    {
      "cell_type": "code",
      "metadata": {
        "id": "ZxLjj3O2fqPG",
        "outputId": "863ad9b4-eaa5-4cc7-863b-657b87a88382",
        "colab": {
          "base_uri": "https://localhost:8080/"
        }
      },
      "source": [
        "num = []\n",
        "for a in cluster2[1] :\n",
        "  num.append(compute_centerdist(a,np.average(cluster2[1],axis=0)))\n",
        "#for b in cluster2[2] :\n",
        "  #num.append(compute_centerdist(b,np.average(cluster2[2],axis=0)))\n",
        "len(num)"
      ],
      "execution_count": 292,
      "outputs": [
        {
          "output_type": "execute_result",
          "data": {
            "text/plain": [
              "18"
            ]
          },
          "metadata": {
            "tags": []
          },
          "execution_count": 292
        }
      ]
    },
    {
      "cell_type": "code",
      "metadata": {
        "id": "-KwwtqGGuUaF",
        "outputId": "dbaa868c-486f-4fc7-a1c8-b0cebccc2951",
        "colab": {
          "base_uri": "https://localhost:8080/"
        }
      },
      "source": [
        "centroid[4]"
      ],
      "execution_count": 300,
      "outputs": [
        {
          "output_type": "execute_result",
          "data": {
            "text/plain": [
              "array([60.75  , 51.4375])"
            ]
          },
          "metadata": {
            "tags": []
          },
          "execution_count": 300
        }
      ]
    },
    {
      "cell_type": "code",
      "metadata": {
        "id": "UZ1JvXPO0JTl",
        "outputId": "5403aa04-a277-4303-a00c-92ec1f894ed4",
        "colab": {
          "base_uri": "https://localhost:8080/"
        }
      },
      "source": [
        "def compute_centroid2(C) :\n",
        "  center = np.zeros((5,2))\n",
        "  for i in range(5) :\n",
        "    center[i] = np.average(C[i+1],axis=0)\n",
        "  return center\n",
        "compute_centroid2(cluster_init)"
      ],
      "execution_count": 332,
      "outputs": [
        {
          "output_type": "execute_result",
          "data": {
            "text/plain": [
              "array([[60.81818182, 54.02272727],\n",
              "       [67.79487179, 46.84615385],\n",
              "       [56.10344828, 48.06896552],\n",
              "       [56.225     , 49.325     ],\n",
              "       [60.75      , 51.4375    ]])"
            ]
          },
          "metadata": {
            "tags": []
          },
          "execution_count": 332
        }
      ]
    },
    {
      "cell_type": "code",
      "metadata": {
        "id": "iXqMsQ6h7iFK",
        "outputId": "c29491b0-1dff-45ea-c655-1f699e0fc86c",
        "colab": {
          "base_uri": "https://localhost:8080/"
        }
      },
      "source": [
        "#Loss 함수\n",
        "def compute_loss(C, centroid):\n",
        "  mu1 = np.average(C[1], axis=0)\n",
        "  mu2 = np.average(C[2], axis=0)\n",
        "  mu3 = np.average(C[3], axis=0)\n",
        "  mu4 = np.average(C[4], axis=0)\n",
        "  mu5 = np.average(C[5], axis=0)\n",
        "  sum = []\n",
        "  for a in C[1] :\n",
        "    sum.append(compute_centerdist(a,centroid[0]))\n",
        "  for b in C[2] :\n",
        "    sum.append(compute_centerdist(b,centroid[1]))\n",
        "  for c in C[3] :\n",
        "    sum.append(compute_centerdist(c,centroid[2]))\n",
        "  for d in C[4] :\n",
        "    sum.append(compute_centerdist(d,centroid[3]))\n",
        "  for e in C[5] :\n",
        "    sum.append(compute_centerdist(e,centroid[4]))\n",
        "  loss = np.sum(sum) / 200\n",
        "  return loss\n",
        "compute_loss(cluster2,centroid)"
      ],
      "execution_count": 307,
      "outputs": [
        {
          "output_type": "execute_result",
          "data": {
            "text/plain": [
              "34.13620188630578"
            ]
          },
          "metadata": {
            "tags": []
          },
          "execution_count": 307
        }
      ]
    },
    {
      "cell_type": "code",
      "metadata": {
        "id": "qkgH873PeK-j"
      },
      "source": [
        "recalculate_clusters(data,centroid,5)"
      ],
      "execution_count": null,
      "outputs": []
    },
    {
      "cell_type": "code",
      "metadata": {
        "id": "_yskA3iswS68"
      },
      "source": [
        "#initial cluster\n",
        "cluster_init = {}\n",
        "for i in range(5) :\n",
        "  cluster_init[i+1] = []\n",
        "cluster_init[1] = data2[data2[:,2]==1][:,0:2]\n",
        "cluster_init[2] = data2[data2[:,2]==2][:,0:2]\n",
        "cluster_init[3] = data2[data2[:,2]==3][:,0:2]\n",
        "cluster_init[4] = data2[data2[:,2]==4][:,0:2]\n",
        "cluster_init[5] = data2[data2[:,2]==5][:,0:2]\n",
        "cluster_init"
      ],
      "execution_count": null,
      "outputs": []
    },
    {
      "cell_type": "code",
      "metadata": {
        "id": "DNsCd59MxeSl",
        "outputId": "dd81f364-0518-4b88-ed7a-c8875f346f48",
        "colab": {
          "base_uri": "https://localhost:8080/"
        }
      },
      "source": [
        "#initial centroid\n",
        "centroid_init = compute_centroid2(cluster_init)\n",
        "centroid_init"
      ],
      "execution_count": 330,
      "outputs": [
        {
          "output_type": "execute_result",
          "data": {
            "text/plain": [
              "array([[60.81818182, 54.02272727],\n",
              "       [67.79487179, 46.84615385],\n",
              "       [56.10344828, 48.06896552],\n",
              "       [56.225     , 49.325     ],\n",
              "       [60.75      , 51.4375    ]])"
            ]
          },
          "metadata": {
            "tags": []
          },
          "execution_count": 330
        }
      ]
    },
    {
      "cell_type": "code",
      "metadata": {
        "id": "Mrg-aNdczyg-",
        "outputId": "b707108e-3316-4061-8436-c60c05baf271",
        "colab": {
          "base_uri": "https://localhost:8080/"
        }
      },
      "source": [
        "#initial loss\n",
        "compute_loss(cluster_init,centroid_init)"
      ],
      "execution_count": 331,
      "outputs": [
        {
          "output_type": "execute_result",
          "data": {
            "text/plain": [
              "30.801470318974026"
            ]
          },
          "metadata": {
            "tags": []
          },
          "execution_count": 331
        }
      ]
    },
    {
      "cell_type": "code",
      "metadata": {
        "id": "SIrYAVlH0QxU"
      },
      "source": [
        "def compute_label2(z, M) :\n",
        "  clusters = {}\n",
        "  for i in range(5) :\n",
        "    clusters[i+1] = []\n",
        "  for j in z :\n",
        "    Distance = []\n",
        "    for k in range(5) :\n",
        "      Distance.append(compute_centerdist(j,M[k]))\n",
        "    clusters[Distance.index(min(Distance))+1].append(j)\n",
        "  return clusters"
      ],
      "execution_count": null,
      "outputs": []
    },
    {
      "cell_type": "code",
      "metadata": {
        "id": "-8T3Y5_C0kbT"
      },
      "source": [
        "def final(z,centroid_init,iteration=20) :\n",
        "  \n",
        "  loss_history = np.zeros(iteration)\n",
        "  centroid = centroid_init\n",
        "  Cluster = {}\n",
        "  mu1dis = np.zeros(iteration)\n",
        "  mu2dis = np.zeros(iteration)\n",
        "  mu3dis = np.zeros(iteration)\n",
        "  mu4dis = np.zeros(iteration)\n",
        "  mu5dis = np.zeros(iteration)\n",
        "\n",
        "  for t in range(iteration) :\n",
        "    Cluster = compute_label2(z,centroid)\n",
        "    centroid = compute_centroid2(Cluster)\n",
        "    loss = compute_loss(Cluster,centroid)\n",
        "    loss_history[t] = loss\n",
        "    mu1dis[t] = compute_centerdist(centroid[0],[0,0])\n",
        "    mu2dis[t] = compute_centerdist(centroid[1],[0,0])\n",
        "    mu3dis[t] = compute_centerdist(centroid[2],[0,0])\n",
        "    mu4dis[t] = compute_centerdist(centroid[3],[0,0])\n",
        "    mu5dis[t] = compute_centerdist(centroid[4],[0,0])\n",
        "\n",
        "  return Cluster, centroid, loss_history, mu1dis, mu2dis, mu3dis, mu4dis, mu5dis"
      ],
      "execution_count": 400,
      "outputs": []
    },
    {
      "cell_type": "code",
      "metadata": {
        "id": "-BPOA_gEBFl2"
      },
      "source": [
        "compute_centerdist(centroid_init[0],[0,0])"
      ],
      "execution_count": null,
      "outputs": []
    },
    {
      "cell_type": "code",
      "metadata": {
        "id": "gprGtbMH2N3V"
      },
      "source": [
        "iteration = 20\n",
        "Cluster, centroid, loss_history, mu1dis, mu2dis, mu3dis, mu4dis, mu5dis = final(data,centroid_init,iteration)"
      ],
      "execution_count": 401,
      "outputs": []
    },
    {
      "cell_type": "code",
      "metadata": {
        "id": "HBJ_LlL7Ei6W",
        "outputId": "62cea0d2-44af-4472-8738-c41c0887cd2e",
        "colab": {
          "base_uri": "https://localhost:8080/"
        }
      },
      "source": [
        "centroid"
      ],
      "execution_count": 419,
      "outputs": [
        {
          "output_type": "execute_result",
          "data": {
            "text/plain": [
              "array([[86.53846154, 82.12820513],\n",
              "       [88.2       , 17.11428571],\n",
              "       [26.30434783, 20.91304348],\n",
              "       [25.72727273, 79.36363636],\n",
              "       [55.2962963 , 49.51851852]])"
            ]
          },
          "metadata": {
            "tags": []
          },
          "execution_count": 419
        }
      ]
    },
    {
      "cell_type": "code",
      "metadata": {
        "id": "witQ48WSBglu",
        "outputId": "60461eb7-6aa1-412e-e0af-55beca954fb2",
        "colab": {
          "base_uri": "https://localhost:8080/",
          "height": 374
        }
      },
      "source": [
        "plt.figure(3, figsize=(10,6))\n",
        "plt.plot(np.array(range(iteration)),mu1dis,label='Center 1')\n",
        "plt.plot(np.array(range(iteration)),mu2dis,label='Center 2')\n",
        "plt.plot(np.array(range(iteration)),mu3dis,label='Center 3')\n",
        "plt.plot(np.array(range(iteration)),mu4dis,label='Center 4')\n",
        "plt.plot(np.array(range(iteration)),mu5dis,label='Center 5')\n",
        "plt.legend(loc='upper right')\n",
        "plt.show()"
      ],
      "execution_count": 407,
      "outputs": [
        {
          "output_type": "display_data",
          "data": {
            "image/png": "[encoded data removed]",
            "text/plain": [
              "<Figure size 720x432 with 1 Axes>"
            ]
          },
          "metadata": {
            "tags": [],
            "needs_background": "light"
          }
        }
      ]
    },
    {
      "cell_type": "code",
      "metadata": {
        "id": "Y5swLohP5WLs",
        "outputId": "aa0aee88-ba37-4187-bfdd-9764783d3571",
        "colab": {
          "base_uri": "https://localhost:8080/"
        }
      },
      "source": [
        "loss_history[-1]"
      ],
      "execution_count": 335,
      "outputs": [
        {
          "output_type": "execute_result",
          "data": {
            "text/plain": [
              "13.020126350791744"
            ]
          },
          "metadata": {
            "tags": []
          },
          "execution_count": 335
        }
      ]
    },
    {
      "cell_type": "code",
      "metadata": {
        "id": "y6hqMTbp5bAz",
        "outputId": "747b3310-18c7-42f8-8605-051bdc447a4c",
        "colab": {
          "base_uri": "https://localhost:8080/",
          "height": 388
        }
      },
      "source": [
        "plt.figure(3, figsize=(10,6))\n",
        "plt.plot(np.array(range(iteration)), loss_history)\n",
        "plt.xlabel('Iterations')\n",
        "plt.ylabel('Loss value')\n",
        "plt.show()"
      ],
      "execution_count": 336,
      "outputs": [
        {
          "output_type": "display_data",
          "data": {
            "image/png": "[encoded data removed]",
            "text/plain": [
              "<Figure size 720x432 with 1 Axes>"
            ]
          },
          "metadata": {
            "tags": [],
            "needs_background": "light"
          }
        }
      ]
    },
    {
      "cell_type": "code",
      "metadata": {
        "id": "pWk0dwDc5qjA",
        "outputId": "4fc26bca-6bdf-487d-b949-218a9ad047ef",
        "colab": {
          "base_uri": "https://localhost:8080/",
          "height": 734
        }
      },
      "source": [
        "plt.figure(1,figsize=(12,12))\n",
        "for fig1 in Cluster[1] :\n",
        "  plt.scatter(fig1[0],fig1[1], s=100,c='red')\n",
        "for fig1 in Cluster[2] :\n",
        "  plt.scatter(fig1[0],fig1[1], s=100,c='blue')\n",
        "for fig1 in Cluster[3] :\n",
        "  plt.scatter(fig1[0],fig1[1], s=100,c='green') \n",
        "for fig1 in Cluster[4] :\n",
        "  plt.scatter(fig1[0],fig1[1], s=100,c='darkgray') \n",
        "for fig1 in Cluster[5] :\n",
        "  plt.scatter(fig1[0],fig1[1], s=100,c='gold')   \n",
        "\n",
        "plt.title('Final cluster')\n",
        "plt.scatter(Cluster[1][1][0],Cluster[1][1][1],s=100,c='red',label='Cluster 1')\n",
        "plt.scatter(Cluster[2][1][0],Cluster[2][1][1],s=100,c='blue',label='Cluster 2')\n",
        "plt.scatter(Cluster[3][1][0],Cluster[3][1][1],s=100,c='green',label='Cluster 3')\n",
        "plt.scatter(Cluster[4][1][0],Cluster[4][1][1],s=100,c='darkgray',label='Cluster 4')\n",
        "plt.scatter(Cluster[5][1][0],Cluster[5][1][1],s=100,c='gold',label='Cluster 5')\n",
        "plt.scatter(centroid[:,0],centroid[:,1], s=260,c='black',marker='+', label='Centroids')\n",
        "plt.legend(loc='best')"
      ],
      "execution_count": 423,
      "outputs": [
        {
          "output_type": "execute_result",
          "data": {
            "text/plain": [
              "<matplotlib.legend.Legend at 0x7f126e3fafd0>"
            ]
          },
          "metadata": {
            "tags": []
          },
          "execution_count": 423
        },
        {
          "output_type": "display_data",
          "data": {
            "image/png": "[encoded data removed]",
            "text/plain": [
              "<Figure size 864x864 with 1 Axes>"
            ]
          },
          "metadata": {
            "tags": [],
            "needs_background": "light"
          }
        }
      ]
    },
    {
      "cell_type": "code",
      "metadata": {
        "id": "EJZxgiyPy33c"
      },
      "source": [
        "cluster_init[5]"
      ],
      "execution_count": null,
      "outputs": []
    },
    {
      "cell_type": "code",
      "metadata": {
        "id": "5EOlCxgX_-ct",
        "outputId": "1a30dcd8-a9dc-4d2d-97d3-4240d3020e54",
        "colab": {
          "base_uri": "https://localhost:8080/"
        }
      },
      "source": [
        "compute_centerdist(centroid_init[0],[0,0])"
      ],
      "execution_count": 391,
      "outputs": [
        {
          "output_type": "execute_result",
          "data": {
            "text/plain": [
              "81.34682723777796"
            ]
          },
          "metadata": {
            "tags": []
          },
          "execution_count": 391
        }
      ]
    },
    {
      "cell_type": "code",
      "metadata": {
        "id": "CNNDc97BApe9"
      },
      "source": [
        "def compute_centerdist(a,b) :\n",
        "  Eud = (a[0] - b[0])**2 + (a[1]- b[1])**2\n",
        "  dist = np.sqrt(Eud)\n",
        "  return dist\n",
        "\n",
        "a = np.array([[3],[4]])\n",
        "b = np.array([[0],[0]])\n",
        "compute_centerdist(a,b) #5"
      ],
      "execution_count": null,
      "outputs": []
    },
    {
      "cell_type": "code",
      "metadata": {
        "id": "Llyd2wpnRMqI"
      },
      "source": [
        "def compute_label2(z, M) :\n",
        "  clusters = {}\n",
        "  for i in range(5) :\n",
        "    clusters[i+1] = []\n",
        "  for j in z :\n",
        "    Distance = []\n",
        "    for k in range(5) :\n",
        "      Distance.append(compute_centerdist(j,M[k]))\n",
        "    clusters[Distance.index(min(Distance))+1].append(j)\n",
        "  return clusters"
      ],
      "execution_count": null,
      "outputs": []
    },
    {
      "cell_type": "markdown",
      "metadata": {
        "id": "EFKejn5cmNDm"
      },
      "source": [
        "#OUTPUT"
      ]
    },
    {
      "cell_type": "markdown",
      "metadata": {
        "id": "XGeCfiuTmPak"
      },
      "source": [
        "1.Plot the data points [1pt]"
      ]
    },
    {
      "cell_type": "code",
      "metadata": {
        "id": "0tXqx-UEmRgM",
        "outputId": "bb2971bf-1c3a-4ad0-a528-413961cb8c74",
        "colab": {
          "base_uri": "https://localhost:8080/",
          "height": 716
        }
      },
      "source": [
        "plt.figure(1,figsize=(12,12))\n",
        "plt.scatter(data[:,0], data[:,1], s=50, c='black', label ='data')\n",
        "plt.title('Data point')\n",
        "plt.legend(loc='best')\n",
        "plt.show()"
      ],
      "execution_count": null,
      "outputs": [
        {
          "output_type": "display_data",
          "data": {
            "image/png": "[encoded data removed]",
            "text/plain": [
              "<Figure size 864x864 with 1 Axes>"
            ]
          },
          "metadata": {
            "tags": [],
            "needs_background": "light"
          }
        }
      ]
    },
    {
      "cell_type": "markdown",
      "metadata": {
        "id": "iifG4eLwnieE"
      },
      "source": [
        "2. Visualise the initial condition of the point labels [1pt]"
      ]
    },
    {
      "cell_type": "code",
      "metadata": {
        "id": "YqeQ1ZIznvmU",
        "outputId": "5372ea40-84cc-456c-fc2a-ad6ca9ba2252",
        "colab": {
          "base_uri": "https://localhost:8080/",
          "height": 734
        }
      },
      "source": [
        "plt.figure(1,figsize=(12,12))\n",
        "plt.scatter(cluster_1[:,0], cluster_1[:,1], s= 100, c='red', label='Cluster 1')\n",
        "plt.scatter(cluster_2[:,0], cluster_2[:,1], s= 100, c='blue', label='Cluster 2')\n",
        "plt.scatter(cluster_3[:,0], cluster_3[:,1], s= 100, c='green', label='Cluster 3')\n",
        "plt.scatter(cluster_4[:,0], cluster_4[:,1], s= 100, c='darkgray', label='Cluster 4')\n",
        "plt.scatter(cluster_5[:,0], cluster_5[:,1], s= 100, c='gold', label='Cluster 5')\n",
        "plt.scatter(centroid[:,0],centroid[:,1], s=260,c='black',marker='+', label='Centroids')\n",
        "plt.title('Initial cluster')\n",
        "plt.legend(loc='best')"
      ],
      "execution_count": null,
      "outputs": [
        {
          "output_type": "execute_result",
          "data": {
            "text/plain": [
              "<matplotlib.legend.Legend at 0x7f127343a2b0>"
            ]
          },
          "metadata": {
            "tags": []
          },
          "execution_count": 256
        },
        {
          "output_type": "display_data",
          "data": {
            "image/png": "[encoded data removed]",
            "text/plain": [
              "<Figure size 864x864 with 1 Axes>"
            ]
          },
          "metadata": {
            "tags": [],
            "needs_background": "light"
          }
        }
      ]
    },
    {
      "cell_type": "markdown",
      "metadata": {
        "id": "iwOxC1BWHJrD"
      },
      "source": [
        "3. Plot the loss curve [5pt]"
      ]
    },
    {
      "cell_type": "code",
      "metadata": {
        "id": "Vnq6lc2Noqj6",
        "outputId": "5032a463-1d0c-4259-d1c3-48949cc0e773",
        "colab": {
          "base_uri": "https://localhost:8080/",
          "height": 404
        }
      },
      "source": [
        "plt.figure(3, figsize=(10,6))\n",
        "plt.plot(np.array(range(iteration)), loss_history)\n",
        "plt.xlabel('Iterations')\n",
        "plt.ylabel('Loss value')\n",
        "plt.title('Loss')\n",
        "plt.show()"
      ],
      "execution_count": 426,
      "outputs": [
        {
          "output_type": "display_data",
          "data": {
            "image/png": "[encoded data removed]",
            "text/plain": [
              "<Figure size 720x432 with 1 Axes>"
            ]
          },
          "metadata": {
            "tags": [],
            "needs_background": "light"
          }
        }
      ]
    },
    {
      "cell_type": "markdown",
      "metadata": {
        "id": "rRQhbblTHeJV"
      },
      "source": [
        "4. Plot the centroid of each clsuter [5pt]"
      ]
    },
    {
      "cell_type": "code",
      "metadata": {
        "id": "YU1BzppkHTgi",
        "outputId": "83b16bc4-9328-47b8-c38f-73556e9cb142",
        "colab": {
          "base_uri": "https://localhost:8080/",
          "height": 404
        }
      },
      "source": [
        "plt.figure(3, figsize=(10,6))\n",
        "plt.plot(np.array(range(iteration)),mu1dis,label='Center 1',c='red')\n",
        "plt.plot(np.array(range(iteration)),mu2dis,label='Center 2',c='blue')\n",
        "plt.plot(np.array(range(iteration)),mu3dis,label='Center 3',c='green')\n",
        "plt.plot(np.array(range(iteration)),mu4dis,label='Center 4',c='darkgray')\n",
        "plt.plot(np.array(range(iteration)),mu5dis,label='Center 5',c='gold')\n",
        "plt.xlabel('Iterations')\n",
        "plt.ylabel('distance from the origin to each centroid')\n",
        "plt.legend(loc='upper right')\n",
        "plt.title('centroid of cluster')\n",
        "plt.show()"
      ],
      "execution_count": 429,
      "outputs": [
        {
          "output_type": "display_data",
          "data": {
            "image/png": "[encoded data removed]",
            "text/plain": [
              "<Figure size 720x432 with 1 Axes>"
            ]
          },
          "metadata": {
            "tags": [],
            "needs_background": "light"
          }
        }
      ]
    },
    {
      "cell_type": "markdown",
      "metadata": {
        "id": "eaCdLRb7Ic5n"
      },
      "source": [
        "5. Plot the final clustering result [5pt]"
      ]
    },
    {
      "cell_type": "code",
      "metadata": {
        "id": "JThJqHjoHw1W",
        "outputId": "c8b0264f-debb-4d34-c5f7-066f27d7c93a",
        "colab": {
          "base_uri": "https://localhost:8080/",
          "height": 734
        }
      },
      "source": [
        "plt.figure(1,figsize=(12,12))\n",
        "for fig1 in Cluster[1] :\n",
        "  plt.scatter(fig1[0],fig1[1], s=100,c='red')\n",
        "for fig1 in Cluster[2] :\n",
        "  plt.scatter(fig1[0],fig1[1], s=100,c='blue')\n",
        "for fig1 in Cluster[3] :\n",
        "  plt.scatter(fig1[0],fig1[1], s=100,c='green') \n",
        "for fig1 in Cluster[4] :\n",
        "  plt.scatter(fig1[0],fig1[1], s=100,c='darkgray') \n",
        "for fig1 in Cluster[5] :\n",
        "  plt.scatter(fig1[0],fig1[1], s=100,c='gold')   \n",
        "\n",
        "plt.title('Final cluster')\n",
        "plt.scatter(Cluster[1][1][0],Cluster[1][1][1],s=100,c='red',label='Cluster 1')\n",
        "plt.scatter(Cluster[2][1][0],Cluster[2][1][1],s=100,c='blue',label='Cluster 2')\n",
        "plt.scatter(Cluster[3][1][0],Cluster[3][1][1],s=100,c='green',label='Cluster 3')\n",
        "plt.scatter(Cluster[4][1][0],Cluster[4][1][1],s=100,c='darkgray',label='Cluster 4')\n",
        "plt.scatter(Cluster[5][1][0],Cluster[5][1][1],s=100,c='gold',label='Cluster 5')\n",
        "plt.scatter(centroid[:,0],centroid[:,1], s=260,c='black',marker='+', label='Centroids')\n",
        "plt.legend(loc='best')"
      ],
      "execution_count": 430,
      "outputs": [
        {
          "output_type": "execute_result",
          "data": {
            "text/plain": [
              "<matplotlib.legend.Legend at 0x7f126df35128>"
            ]
          },
          "metadata": {
            "tags": []
          },
          "execution_count": 430
        },
        {
          "output_type": "display_data",
          "data": {
            "image/png": "[encoded data removed]",
            "text/plain": [
              "<Figure size 864x864 with 1 Axes>"
            ]
          },
          "metadata": {
            "tags": [],
            "needs_background": "light"
          }
        }
      ]
    },
    {
      "cell_type": "code",
      "metadata": {
        "id": "BeuDQG3HIkH8"
      },
      "source": [
        ""
      ],
      "execution_count": null,
      "outputs": []
    }
  ]
}