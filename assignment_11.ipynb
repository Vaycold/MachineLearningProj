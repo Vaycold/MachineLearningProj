{
  "nbformat": 4,
  "nbformat_minor": 0,
  "metadata": {
    "colab": {
      "name": "assignment_11",
      "provenance": [],
      "include_colab_link": true
    },
    "kernelspec": {
      "name": "python3",
      "display_name": "Python 3"
    },
    "accelerator": "GPU"
  },
  "cells": [
    {
      "cell_type": "markdown",
      "metadata": {
        "id": "view-in-github",
        "colab_type": "text"
      },
      "source": [
        "<a href=\"https://colab.research.google.com/github/moch1996/MachineLearningProj/blob/master/assignment_11.ipynb\" target=\"_parent\"><img src=\"https://colab.research.google.com/assets/colab-badge.svg\" alt=\"Open In Colab\"/></a>"
      ]
    },
    {
      "cell_type": "code",
      "metadata": {
        "id": "KOCpg8EtTBFz"
      },
      "source": [
        "#모듈\n",
        "import numpy as np\n",
        "import matplotlib.pyplot as plt\n",
        "\n",
        "import torch \n",
        "import torch.nn as nn\n",
        "import torch.nn.functional as F\n",
        "import torch.optim as optim\n",
        "from torch.autograd import Variable\n",
        "from torchvision import datasets, transforms\n",
        "from torch.optim import lr_scheduler"
      ],
      "execution_count": 33,
      "outputs": []
    },
    {
      "cell_type": "code",
      "metadata": {
        "id": "NSGsbDt0TC8C"
      },
      "source": [
        "device = 'cuda:0' if torch.cuda.is_available() else 'cpu'"
      ],
      "execution_count": 34,
      "outputs": []
    },
    {
      "cell_type": "code",
      "metadata": {
        "colab": {
          "base_uri": "https://localhost:8080/"
        },
        "id": "qHfDl1JPTFoK",
        "outputId": "759a1cb3-53a8-42f1-d51f-1599f76bd3f9"
      },
      "source": [
        "print(device)"
      ],
      "execution_count": 35,
      "outputs": [
        {
          "output_type": "stream",
          "text": [
            "cuda:0\n"
          ],
          "name": "stdout"
        }
      ]
    },
    {
      "cell_type": "code",
      "metadata": {
        "id": "SK4_1Gb0TGYA"
      },
      "source": [
        "transform = transforms.Compose([\n",
        "    transforms.ToTensor(),\n",
        "    transforms.Normalize((0.1307,),(0.3081,)),  # mean value = 0.1307, standard deviation value = 0.3081\n",
        "])"
      ],
      "execution_count": 36,
      "outputs": []
    },
    {
      "cell_type": "code",
      "metadata": {
        "id": "hcEsWNL2TNPu"
      },
      "source": [
        "#MNIST DATA\n",
        "data_train = datasets.MNIST(root = 'MNIST_data',\n",
        "                             download=True,\n",
        "                             train=False,\n",
        "                             transform=transform\n",
        "                             )\n",
        "data_test = datasets.MNIST(root = 'MNIST_data', \n",
        "                             train= True, \n",
        "                             download=True, \n",
        "                             transform= transform)"
      ],
      "execution_count": 37,
      "outputs": []
    },
    {
      "cell_type": "code",
      "metadata": {
        "colab": {
          "base_uri": "https://localhost:8080/"
        },
        "id": "k1x4i5uITPNo",
        "outputId": "87ecf3e7-8aaa-449e-f69a-b338d5599b70"
      },
      "source": [
        "print(\"the number of your training data (must be 10,000) = \", data_train.__len__())\n",
        "print(\"hte number of your testing data (must be 60,000) = \", data_test.__len__())"
      ],
      "execution_count": 38,
      "outputs": [
        {
          "output_type": "stream",
          "text": [
            "the number of your training data (must be 10,000) =  10000\n",
            "hte number of your testing data (must be 60,000) =  60000\n"
          ],
          "name": "stdout"
        }
      ]
    },
    {
      "cell_type": "code",
      "metadata": {
        "colab": {
          "base_uri": "https://localhost:8080/"
        },
        "id": "vAR3G8MPTTKL",
        "outputId": "023515d5-76b8-4463-f947-d9dc12bca62d"
      },
      "source": [
        "batch_size = 125\n",
        "train_loader = torch.utils.data.DataLoader(dataset = data_train,\n",
        "                                          batch_size=batch_size,\n",
        "                                          shuffle = True,\n",
        "                                          drop_last = True)\n",
        "test_loader = torch.utils.data.DataLoader(dataset = data_test,\n",
        "                                          batch_size=batch_size,\n",
        "                                          shuffle = True,\n",
        "                                          drop_last = True)\n",
        "print('number of train batch : ',len(train_loader))\n",
        "print('number of train batch : ',len(test_loader))"
      ],
      "execution_count": 39,
      "outputs": [
        {
          "output_type": "stream",
          "text": [
            "number of train batch :  80\n",
            "number of train batch :  480\n"
          ],
          "name": "stdout"
        }
      ]
    },
    {
      "cell_type": "code",
      "metadata": {
        "id": "qw0ZD5MrTYFd"
      },
      "source": [
        "class classification(nn.Module):\n",
        "    def __init__(self):\n",
        "        super(classification,self).__init__()\n",
        "\n",
        "        self.layer = nn.Sequential(\n",
        "            nn.Conv2d(1, 16, 3, padding=1),\n",
        "            nn.BatchNorm2d(16),\n",
        "            nn.ReLU(),\n",
        "            nn.Conv2d(16, 32, 3,padding=1),\n",
        "            nn.BatchNorm2d(32),\n",
        "            nn.ReLU(),\n",
        "            nn.MaxPool2d(2, 2),           \n",
        "            nn.Conv2d(32, 64, 3,padding=1),\n",
        "            nn.BatchNorm2d(64),\n",
        "            nn.ReLU(),\n",
        "            nn.MaxPool2d(2, 2)        \n",
        "        )\n",
        "        \n",
        "        self.fc_layer = nn.Sequential(\n",
        "            nn.Linear(64*7*7, 128),\n",
        "            nn.BatchNorm1d(128),\n",
        "            nn.ReLU(),\n",
        "            nn.Linear(128, 64),\n",
        "            nn.BatchNorm1d(64),\n",
        "            nn.ReLU(),            \n",
        "            nn.Linear(64, 10),\n",
        "            nn.LogSoftmax(dim=1)\n",
        "        )       \n",
        "    def forward(self,x):\n",
        "        out = self.layer(x)\n",
        "        out = out.view(batch_size, -1)\n",
        "        out = self.fc_layer(out)\n",
        "        return out"
      ],
      "execution_count": 40,
      "outputs": []
    },
    {
      "cell_type": "code",
      "metadata": {
        "id": "jPDNdK0jktB4"
      },
      "source": [
        "learning_rate = 0.001\n",
        "num_epoch = 100"
      ],
      "execution_count": 41,
      "outputs": []
    },
    {
      "cell_type": "code",
      "metadata": {
        "id": "aIcfr2dBioDo"
      },
      "source": [
        "classifier = classification().to(device)\n",
        "optimizer = torch.optim.Adam(classifier.parameters(),lr=learning_rate)\n",
        "loss_func = nn.NLLLoss().to(device)\n",
        "scheduler = lr_scheduler.ReduceLROnPlateau(optimizer,threshold=0.1, patience=1, mode='min')"
      ],
      "execution_count": 42,
      "outputs": []
    },
    {
      "cell_type": "code",
      "metadata": {
        "colab": {
          "base_uri": "https://localhost:8080/"
        },
        "id": "K5Vw4bPA2X9k",
        "outputId": "c578d9d0-cafa-4a19-dd1b-c1faad432821"
      },
      "source": [
        "for i in range(1,10) :\n",
        "  if i > 5 :\n",
        "    print(i) "
      ],
      "execution_count": 43,
      "outputs": [
        {
          "output_type": "stream",
          "text": [
            "6\n",
            "7\n",
            "8\n",
            "9\n"
          ],
          "name": "stdout"
        }
      ]
    },
    {
      "cell_type": "code",
      "metadata": {
        "id": "zwuSNeBNUQDb",
        "colab": {
          "base_uri": "https://localhost:8080/"
        },
        "outputId": "a61211c7-71b4-48b4-d445-af2dc70ecae9"
      },
      "source": [
        "training_L_history = []\n",
        "training_A_history = []\n",
        "testing_L_history = []\n",
        "testing_A_history = []\n",
        "for epoch in range(1,num_epoch+1) :\n",
        "    classifier.train()\n",
        "    training_loss = 0\n",
        "    training_correct = 0\n",
        "    for i,(data,target) in enumerate(train_loader) :\n",
        "        \n",
        "        data, target = data.to(device), target.to(device)\n",
        "\n",
        "        optimizer.zero_grad()\n",
        "        result = classifier(data)\n",
        "\n",
        "        loss = F.nll_loss(result,target)\n",
        "        training_loss += F.nll_loss(result,target, reduction = 'sum').item()\n",
        "\n",
        "        prediction = result.max(dim=1, keepdim=True)[1]\n",
        "        training_correct += prediction.eq(target.view_as(prediction)).sum().item()\n",
        "\n",
        "        loss.backward()\n",
        "        optimizer.step()\n",
        "    scheduler.step(loss)\n",
        "    training_loss /= len(train_loader.dataset)\n",
        "    training_accuracy = 100 * training_correct / len(train_loader.dataset)\n",
        "    training_L_history.append(training_loss)\n",
        "    training_A_history.append(training_accuracy)\n",
        "    \n",
        "\n",
        "    classifier.eval()\n",
        "    testing_loss = 0\n",
        "    testing_correct = 0\n",
        "    with torch.no_grad() :\n",
        "      for data, target in test_loader :\n",
        "        data,target = data.to(device), target.to(device)\n",
        "\n",
        "        result2 = classifier(data)\n",
        "\n",
        "        loss2 = F.nll_loss(result2, target)\n",
        "        testing_loss += F.nll_loss(result2, target, reduction = 'sum').item()\n",
        "\n",
        "        prediction2 = result2.max(1, keepdim=True)[1]\n",
        "        testing_correct += prediction2.eq(target.view_as(prediction2)).sum().item()\n",
        "    testing_loss /= len(test_loader.dataset)\n",
        "    testing_accuracy = 100 * testing_correct / len(test_loader.dataset)\n",
        "    testing_L_history.append(testing_loss)\n",
        "    testing_A_history.append(testing_accuracy)\n",
        "    if epoch > num_epoch-10 :\n",
        "      print('Epoch: {}, Loss: {}, LR: {}'.format(epoch, loss.item(), scheduler.optimizer.state_dict()['param_groups'][0]['lr']))"
      ],
      "execution_count": 44,
      "outputs": [
        {
          "output_type": "stream",
          "text": [
            "Epoch: 91, Loss: 0.0007921239593997598, LR: 1.0000000000000004e-08\n",
            "Epoch: 92, Loss: 0.0006405595922842622, LR: 1.0000000000000004e-08\n",
            "Epoch: 93, Loss: 0.0005577638512477279, LR: 1.0000000000000004e-08\n",
            "Epoch: 94, Loss: 0.0005630296072922647, LR: 1.0000000000000004e-08\n",
            "Epoch: 95, Loss: 0.0005261683254502714, LR: 1.0000000000000004e-08\n",
            "Epoch: 96, Loss: 0.0006027391063980758, LR: 1.0000000000000004e-08\n",
            "Epoch: 97, Loss: 0.0006415650714188814, LR: 1.0000000000000004e-08\n",
            "Epoch: 98, Loss: 0.000617783167399466, LR: 1.0000000000000004e-08\n",
            "Epoch: 99, Loss: 0.0006051340606063604, LR: 1.0000000000000004e-08\n",
            "Epoch: 100, Loss: 0.0005084473523311317, LR: 1.0000000000000004e-08\n"
          ],
          "name": "stdout"
        }
      ]
    },
    {
      "cell_type": "code",
      "metadata": {
        "id": "613pQqAAGvMm",
        "colab": {
          "base_uri": "https://localhost:8080/"
        },
        "outputId": "0a2fdb79-3aa2-43e4-f816-93061af19d25"
      },
      "source": [
        "testing_A_history"
      ],
      "execution_count": 45,
      "outputs": [
        {
          "output_type": "execute_result",
          "data": {
            "text/plain": [
              "[94.70833333333333,\n",
              " 97.715,\n",
              " 98.11333333333333,\n",
              " 97.15,\n",
              " 98.39333333333333,\n",
              " 98.585,\n",
              " 98.60666666666667,\n",
              " 98.64833333333333,\n",
              " 98.655,\n",
              " 98.64833333333333,\n",
              " 98.73333333333333,\n",
              " 98.67,\n",
              " 98.705,\n",
              " 98.7,\n",
              " 98.68666666666667,\n",
              " 98.70666666666666,\n",
              " 98.70166666666667,\n",
              " 98.71333333333334,\n",
              " 98.71833333333333,\n",
              " 98.69833333333334,\n",
              " 98.695,\n",
              " 98.735,\n",
              " 98.68666666666667,\n",
              " 98.72333333333333,\n",
              " 98.69833333333334,\n",
              " 98.7,\n",
              " 98.70666666666666,\n",
              " 98.72666666666667,\n",
              " 98.72166666666666,\n",
              " 98.705,\n",
              " 98.68666666666667,\n",
              " 98.70833333333333,\n",
              " 98.69666666666667,\n",
              " 98.71,\n",
              " 98.67,\n",
              " 98.69166666666666,\n",
              " 98.73333333333333,\n",
              " 98.71333333333334,\n",
              " 98.695,\n",
              " 98.71666666666667,\n",
              " 98.70666666666666,\n",
              " 98.69333333333333,\n",
              " 98.71333333333334,\n",
              " 98.71166666666667,\n",
              " 98.695,\n",
              " 98.705,\n",
              " 98.725,\n",
              " 98.705,\n",
              " 98.71166666666667,\n",
              " 98.71333333333334,\n",
              " 98.67666666666666,\n",
              " 98.70333333333333,\n",
              " 98.70333333333333,\n",
              " 98.71166666666667,\n",
              " 98.69833333333334,\n",
              " 98.70833333333333,\n",
              " 98.72333333333333,\n",
              " 98.705,\n",
              " 98.69,\n",
              " 98.68833333333333,\n",
              " 98.70333333333333,\n",
              " 98.70333333333333,\n",
              " 98.69,\n",
              " 98.69333333333333,\n",
              " 98.73166666666667,\n",
              " 98.70333333333333,\n",
              " 98.7,\n",
              " 98.69,\n",
              " 98.705,\n",
              " 98.705,\n",
              " 98.68166666666667,\n",
              " 98.68666666666667,\n",
              " 98.70166666666667,\n",
              " 98.7,\n",
              " 98.70666666666666,\n",
              " 98.70166666666667,\n",
              " 98.7,\n",
              " 98.715,\n",
              " 98.69833333333334,\n",
              " 98.68,\n",
              " 98.70666666666666,\n",
              " 98.68333333333334,\n",
              " 98.72333333333333,\n",
              " 98.69666666666667,\n",
              " 98.67333333333333,\n",
              " 98.68166666666667,\n",
              " 98.725,\n",
              " 98.68333333333334,\n",
              " 98.70166666666667,\n",
              " 98.69,\n",
              " 98.69,\n",
              " 98.72333333333333,\n",
              " 98.705,\n",
              " 98.69333333333333,\n",
              " 98.67333333333333,\n",
              " 98.71166666666667,\n",
              " 98.685,\n",
              " 98.71,\n",
              " 98.71833333333333,\n",
              " 98.715]"
            ]
          },
          "metadata": {
            "tags": []
          },
          "execution_count": 45
        }
      ]
    },
    {
      "cell_type": "code",
      "metadata": {
        "colab": {
          "base_uri": "https://localhost:8080/",
          "height": 627
        },
        "id": "qSlft_tOsnmS",
        "outputId": "2cae56b0-0fd4-4d0f-e38e-7f0ea96126e1"
      },
      "source": [
        "plt.figure(3, figsize=(10,10))\n",
        "plt.plot(np.array(range(22)), training_A_history[0:22], c='r',label='Train Accuracy')\n",
        "plt.plot(np.array(range(22)), testing_A_history[0:22], c='blue',label='Test Accuracy')\n",
        "plt.xlabel('Epoch')\n",
        "plt.title('Batch size = 32',fontsize = 20)\n",
        "plt.legend(fontsize =20, loc='best')\n",
        "plt.show()"
      ],
      "execution_count": 54,
      "outputs": [
        {
          "output_type": "display_data",
          "data": {
            "image/png": "[encoded data removed]",
            "text/plain": [
              "<Figure size 720x720 with 1 Axes>"
            ]
          },
          "metadata": {
            "tags": [],
            "needs_background": "light"
          }
        }
      ]
    },
    {
      "cell_type": "code",
      "metadata": {
        "colab": {
          "base_uri": "https://localhost:8080/"
        },
        "id": "j6ObNesSQ20U",
        "outputId": "3f82bbf0-fddc-4d48-a4d5-cdf999b3f7cb"
      },
      "source": [
        "print(np.argmax(testing_A_history),\"        \",'%.5f'% np.max(testing_A_history))"
      ],
      "execution_count": 49,
      "outputs": [
        {
          "output_type": "stream",
          "text": [
            "21          98.73500\n"
          ],
          "name": "stdout"
        }
      ]
    },
    {
      "cell_type": "code",
      "metadata": {
        "colab": {
          "base_uri": "https://localhost:8080/"
        },
        "id": "-LDxBl-gAdZH",
        "outputId": "7fddf04b-8745-4a5a-ce2a-7104539f021a"
      },
      "source": [
        "testing_A_history[0:22]"
      ],
      "execution_count": 55,
      "outputs": [
        {
          "output_type": "execute_result",
          "data": {
            "text/plain": [
              "[94.70833333333333,\n",
              " 97.715,\n",
              " 98.11333333333333,\n",
              " 97.15,\n",
              " 98.39333333333333,\n",
              " 98.585,\n",
              " 98.60666666666667,\n",
              " 98.64833333333333,\n",
              " 98.655,\n",
              " 98.64833333333333,\n",
              " 98.73333333333333,\n",
              " 98.67,\n",
              " 98.705,\n",
              " 98.7,\n",
              " 98.68666666666667,\n",
              " 98.70666666666666,\n",
              " 98.70166666666667,\n",
              " 98.71333333333334,\n",
              " 98.71833333333333,\n",
              " 98.69833333333334,\n",
              " 98.695,\n",
              " 98.735]"
            ]
          },
          "metadata": {
            "tags": []
          },
          "execution_count": 55
        }
      ]
    },
    {
      "cell_type": "code",
      "metadata": {
        "id": "W39qqOFn25Nf"
      },
      "source": [
        "print('%.10f' % num)\n"
      ],
      "execution_count": null,
      "outputs": []
    },
    {
      "cell_type": "code",
      "metadata": {
        "id": "xoC5byA_Ws1h"
      },
      "source": [
        "#찐\n",
        "class classification(nn.Module):\n",
        "    def __init__(self):\n",
        "        super(classification,self).__init__()\n",
        "\n",
        "        self.layer = nn.Sequential(\n",
        "            nn.Conv2d(1, 16, 3, padding=1),\n",
        "            nn.BatchNorm2d(16),\n",
        "            nn.ReLU(),\n",
        "            nn.Conv2d(16, 32, 3,padding=1),\n",
        "            nn.BatchNorm2d(32),\n",
        "            nn.ReLU(),\n",
        "            nn.MaxPool2d(2, 2),           \n",
        "            nn.Conv2d(32, 64, 3,padding=1),\n",
        "            nn.BatchNorm2d(64),\n",
        "            nn.ReLU(),\n",
        "            nn.MaxPool2d(2, 2)        \n",
        "        )\n",
        "        \n",
        "        self.fc_layer = nn.Sequential(\n",
        "            nn.Linear(64*7*7, 128),\n",
        "            nn.BatchNorm1d(128),\n",
        "            nn.ReLU(),\n",
        "            nn.Linear(128, 64),\n",
        "            nn.BatchNorm1d(64),\n",
        "            nn.ReLU(),            \n",
        "            nn.Linear(64, 10),\n",
        "            nn.LogSoftmax(dim=1)\n",
        "        )       \n",
        "    def forward(self,x):\n",
        "        out = self.layer(x)\n",
        "        out = out.view(batch_size, -1)\n",
        "        out = self.fc_layer(out)\n",
        "        return out"
      ],
      "execution_count": 367,
      "outputs": []
    },
    {
      "cell_type": "code",
      "metadata": {
        "id": "EcRPeMzic5fn"
      },
      "source": [
        ""
      ],
      "execution_count": null,
      "outputs": []
    },
    {
      "cell_type": "code",
      "metadata": {
        "colab": {
          "base_uri": "https://localhost:8080/"
        },
        "id": "rLoQefAjCYBd",
        "outputId": "3dabc232-c41f-450b-d60c-1e239c58eff7"
      },
      "source": [
        "np.argmax(testing_A_history)+1"
      ],
      "execution_count": 61,
      "outputs": [
        {
          "output_type": "execute_result",
          "data": {
            "text/plain": [
              "22"
            ]
          },
          "metadata": {
            "tags": []
          },
          "execution_count": 61
        }
      ]
    },
    {
      "cell_type": "markdown",
      "metadata": {
        "id": "6Fc5ypT_frbj"
      },
      "source": [
        "#OUTPUT"
      ]
    },
    {
      "cell_type": "markdown",
      "metadata": {
        "id": "fQqdOjBoB3vd"
      },
      "source": [
        "1.Plot the training and testing losses over epochs [2pt]"
      ]
    },
    {
      "cell_type": "code",
      "metadata": {
        "colab": {
          "base_uri": "https://localhost:8080/",
          "height": 627
        },
        "id": "bff9YizLCJsU",
        "outputId": "621a1a14-d06f-410d-f887-13b3537d33b1"
      },
      "source": [
        "plt.figure(3, figsize=(10,10))\n",
        "plt.plot(np.array(range(np.argmax(testing_A_history)+1)), training_L_history[0:np.argmax(testing_A_history)+1], c='red',label='Train Loss')\n",
        "plt.plot(np.array(range(np.argmax(testing_A_history)+1)), testing_L_history[0:np.argmax(testing_A_history)+1], c='blue',label='Test Loss')\n",
        "plt.xlabel('Epoch')\n",
        "plt.title('Loss',fontsize = 20)\n",
        "plt.legend(fontsize =20, loc='best')\n",
        "plt.show()"
      ],
      "execution_count": 67,
      "outputs": [
        {
          "output_type": "display_data",
          "data": {
            "image/png": "[encoded data removed]",
            "text/plain": [
              "<Figure size 720x720 with 1 Axes>"
            ]
          },
          "metadata": {
            "tags": [],
            "needs_background": "light"
          }
        }
      ]
    },
    {
      "cell_type": "markdown",
      "metadata": {
        "id": "HeW-Gwa0B7Nv"
      },
      "source": [
        "2.Plot the training and testing accuracies over epochs [2pt]"
      ]
    },
    {
      "cell_type": "code",
      "metadata": {
        "colab": {
          "base_uri": "https://localhost:8080/",
          "height": 627
        },
        "id": "o6U8qHueERV9",
        "outputId": "5dd947ab-4a9b-4071-dda8-8c76d3a956da"
      },
      "source": [
        "plt.figure(3, figsize=(10,10))\n",
        "plt.plot(np.array(range(np.argmax(testing_A_history)+1)), training_A_history[0:np.argmax(testing_A_history)+1], c='red',label='Train Accuracy')\n",
        "plt.plot(np.array(range(np.argmax(testing_A_history)+1)), testing_A_history[0:np.argmax(testing_A_history)+1], c='blue',label='Test Accuracy')\n",
        "plt.xlabel('Epoch')\n",
        "plt.title('Accuracy',fontsize = 20)\n",
        "plt.legend(fontsize =20, loc='best')\n",
        "plt.show()"
      ],
      "execution_count": 68,
      "outputs": [
        {
          "output_type": "display_data",
          "data": {
            "image/png": "[encoded data removed]",
            "text/plain": [
              "<Figure size 720x720 with 1 Axes>"
            ]
          },
          "metadata": {
            "tags": [],
            "needs_background": "light"
          }
        }
      ]
    },
    {
      "cell_type": "markdown",
      "metadata": {
        "id": "Y_JyqNEPB9Ql"
      },
      "source": [
        "3.Print the final training and testing losses at convergence [2pt]"
      ]
    },
    {
      "cell_type": "code",
      "metadata": {
        "colab": {
          "base_uri": "https://localhost:8080/"
        },
        "id": "a828PusLFscH",
        "outputId": "7609dc2c-c142-4b7d-fc68-be2127d8670f"
      },
      "source": [
        "print('Training Loss  = ','%.5f'%training_L_history[np.argmax(testing_A_history)])\n",
        "print('Testing Loss  = ','%.5f'%testing_L_history[np.argmax(testing_A_history)])"
      ],
      "execution_count": 93,
      "outputs": [
        {
          "output_type": "stream",
          "text": [
            "Training Loss  =  0.00064\n",
            "Testing Loss  =  0.04401\n"
          ],
          "name": "stdout"
        }
      ]
    },
    {
      "cell_type": "code",
      "metadata": {
        "colab": {
          "base_uri": "https://localhost:8080/"
        },
        "id": "XRb34hk6EhFF",
        "outputId": "4fe5a4e4-6e60-43a8-e6a6-3999bffa04fd"
      },
      "source": [
        "training_L_history[:20]"
      ],
      "execution_count": 73,
      "outputs": [
        {
          "output_type": "execute_result",
          "data": {
            "text/plain": [
              "[0.5257441558837891,\n",
              " 0.10299085536003112,\n",
              " 0.04373492004871368,\n",
              " 0.021955045104026794,\n",
              " 0.012486192286014558,\n",
              " 0.006515570837259292,\n",
              " 0.004268331545591354,\n",
              " 0.0032839889734983443,\n",
              " 0.00247102370262146,\n",
              " 0.002109330104291439,\n",
              " 0.0016270822942256928,\n",
              " 0.0014023286566138267,\n",
              " 0.0011835743330419063,\n",
              " 0.0010504266828298568,\n",
              " 0.0009071693539619446,\n",
              " 0.000771489205956459,\n",
              " 0.0006989794194698334,\n",
              " 0.0006695065621286631,\n",
              " 0.0006438512802124023,\n",
              " 0.0006385002586990595]"
            ]
          },
          "metadata": {
            "tags": []
          },
          "execution_count": 73
        }
      ]
    },
    {
      "cell_type": "code",
      "metadata": {
        "colab": {
          "base_uri": "https://localhost:8080/"
        },
        "id": "kY1jG0_aFJXB",
        "outputId": "a8c37f13-2054-45e7-a684-3cf5f174f709"
      },
      "source": [
        "testing_A_history[0:22]"
      ],
      "execution_count": 77,
      "outputs": [
        {
          "output_type": "execute_result",
          "data": {
            "text/plain": [
              "[94.70833333333333,\n",
              " 97.715,\n",
              " 98.11333333333333,\n",
              " 97.15,\n",
              " 98.39333333333333,\n",
              " 98.585,\n",
              " 98.60666666666667,\n",
              " 98.64833333333333,\n",
              " 98.655,\n",
              " 98.64833333333333,\n",
              " 98.73333333333333,\n",
              " 98.67,\n",
              " 98.705,\n",
              " 98.7,\n",
              " 98.68666666666667,\n",
              " 98.70666666666666,\n",
              " 98.70166666666667,\n",
              " 98.71333333333334,\n",
              " 98.71833333333333,\n",
              " 98.69833333333334,\n",
              " 98.695,\n",
              " 98.735]"
            ]
          },
          "metadata": {
            "tags": []
          },
          "execution_count": 77
        }
      ]
    },
    {
      "cell_type": "code",
      "metadata": {
        "colab": {
          "base_uri": "https://localhost:8080/"
        },
        "id": "hGROw3m7FdmO",
        "outputId": "e688cf6c-b225-4eb8-8a6a-8d940dca5105"
      },
      "source": [
        "testing_A_history[np.argmax(testing_A_history)]"
      ],
      "execution_count": 79,
      "outputs": [
        {
          "output_type": "execute_result",
          "data": {
            "text/plain": [
              "98.735"
            ]
          },
          "metadata": {
            "tags": []
          },
          "execution_count": 79
        }
      ]
    },
    {
      "cell_type": "markdown",
      "metadata": {
        "id": "bkvyNkWeB_wN"
      },
      "source": [
        "4.Print the final training and testing accuracies at convergence [20pt]"
      ]
    },
    {
      "cell_type": "markdown",
      "metadata": {
        "id": "sRv9W7nMCFfc"
      },
      "source": [
        "5.Print the testing accuracies within the last 10 epochs [5pt]"
      ]
    },
    {
      "cell_type": "code",
      "metadata": {
        "id": "5t0E1H18fsxe"
      },
      "source": [
        ""
      ],
      "execution_count": null,
      "outputs": []
    }
  ]
}