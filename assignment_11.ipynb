{
  "nbformat": 4,
  "nbformat_minor": 0,
  "metadata": {
    "colab": {
      "name": "assignment_11",
      "provenance": [],
      "include_colab_link": true
    },
    "kernelspec": {
      "name": "python3",
      "display_name": "Python 3"
    },
    "accelerator": "GPU"
  },
  "cells": [
    {
      "cell_type": "markdown",
      "metadata": {
        "id": "view-in-github",
        "colab_type": "text"
      },
      "source": [
        "<a href=\"https://colab.research.google.com/github/moch1996/MachineLearningProj/blob/master/assignment_11.ipynb\" target=\"_parent\"><img src=\"https://colab.research.google.com/assets/colab-badge.svg\" alt=\"Open In Colab\"/></a>"
      ]
    },
    {
      "cell_type": "code",
      "metadata": {
        "id": "KOCpg8EtTBFz"
      },
      "source": [
        "#모듈\n",
        "import numpy as np\n",
        "import matplotlib.pyplot as plt\n",
        "\n",
        "import torch \n",
        "import torch.nn as nn\n",
        "import torch.nn.functional as F\n",
        "import torch.optim as optim\n",
        "from torch.autograd import Variable\n",
        "from torchvision import datasets, transforms\n",
        "from torch.optim import lr_scheduler"
      ],
      "execution_count": 33,
      "outputs": []
    },
    {
      "cell_type": "code",
      "metadata": {
        "id": "NSGsbDt0TC8C"
      },
      "source": [
        "device = 'cuda:0' if torch.cuda.is_available() else 'cpu'"
      ],
      "execution_count": 34,
      "outputs": []
    },
    {
      "cell_type": "code",
      "metadata": {
        "colab": {
          "base_uri": "https://localhost:8080/"
        },
        "id": "qHfDl1JPTFoK",
        "outputId": "759a1cb3-53a8-42f1-d51f-1599f76bd3f9"
      },
      "source": [
        "print(device)"
      ],
      "execution_count": 35,
      "outputs": [
        {
          "output_type": "stream",
          "text": [
            "cuda:0\n"
          ],
          "name": "stdout"
        }
      ]
    },
    {
      "cell_type": "code",
      "metadata": {
        "id": "SK4_1Gb0TGYA"
      },
      "source": [
        "transform = transforms.Compose([\n",
        "    transforms.ToTensor(),\n",
        "    transforms.Normalize((0.1307,),(0.3081,)),  # mean value = 0.1307, standard deviation value = 0.3081\n",
        "])"
      ],
      "execution_count": 36,
      "outputs": []
    },
    {
      "cell_type": "code",
      "metadata": {
        "id": "hcEsWNL2TNPu"
      },
      "source": [
        "#MNIST DATA\n",
        "data_train = datasets.MNIST(root = 'MNIST_data',\n",
        "                             download=True,\n",
        "                             train=False,\n",
        "                             transform=transform\n",
        "                             )\n",
        "data_test = datasets.MNIST(root = 'MNIST_data', \n",
        "                             train= True, \n",
        "                             download=True, \n",
        "                             transform= transform)"
      ],
      "execution_count": 37,
      "outputs": []
    },
    {
      "cell_type": "code",
      "metadata": {
        "colab": {
          "base_uri": "https://localhost:8080/"
        },
        "id": "k1x4i5uITPNo",
        "outputId": "87ecf3e7-8aaa-449e-f69a-b338d5599b70"
      },
      "source": [
        "print(\"the number of your training data (must be 10,000) = \", data_train.__len__())\n",
        "print(\"hte number of your testing data (must be 60,000) = \", data_test.__len__())"
      ],
      "execution_count": 38,
      "outputs": [
        {
          "output_type": "stream",
          "text": [
            "the number of your training data (must be 10,000) =  10000\n",
            "hte number of your testing data (must be 60,000) =  60000\n"
          ],
          "name": "stdout"
        }
      ]
    },
    {
      "cell_type": "code",
      "metadata": {
        "colab": {
          "base_uri": "https://localhost:8080/"
        },
        "id": "vAR3G8MPTTKL",
        "outputId": "023515d5-76b8-4463-f947-d9dc12bca62d"
      },
      "source": [
        "batch_size = 125\n",
        "train_loader = torch.utils.data.DataLoader(dataset = data_train,\n",
        "                                          batch_size=batch_size,\n",
        "                                          shuffle = True,\n",
        "                                          drop_last = True)\n",
        "test_loader = torch.utils.data.DataLoader(dataset = data_test,\n",
        "                                          batch_size=batch_size,\n",
        "                                          shuffle = True,\n",
        "                                          drop_last = True)\n",
        "print('number of train batch : ',len(train_loader))\n",
        "print('number of train batch : ',len(test_loader))"
      ],
      "execution_count": 39,
      "outputs": [
        {
          "output_type": "stream",
          "text": [
            "number of train batch :  80\n",
            "number of train batch :  480\n"
          ],
          "name": "stdout"
        }
      ]
    },
    {
      "cell_type": "code",
      "metadata": {
        "id": "qw0ZD5MrTYFd"
      },
      "source": [
        "class classification(nn.Module):\n",
        "    def __init__(self):\n",
        "        super(classification,self).__init__()\n",
        "\n",
        "        self.layer = nn.Sequential(\n",
        "            nn.Conv2d(1, 16, 3, padding=1),\n",
        "            nn.BatchNorm2d(16),\n",
        "            nn.ReLU(),\n",
        "            nn.Conv2d(16, 32, 3,padding=1),\n",
        "            nn.BatchNorm2d(32),\n",
        "            nn.ReLU(),\n",
        "            nn.MaxPool2d(2, 2),           \n",
        "            nn.Conv2d(32, 64, 3,padding=1),\n",
        "            nn.BatchNorm2d(64),\n",
        "            nn.ReLU(),\n",
        "            nn.MaxPool2d(2, 2)        \n",
        "        )\n",
        "        \n",
        "        self.fc_layer = nn.Sequential(\n",
        "            nn.Linear(64*7*7, 128),\n",
        "            nn.BatchNorm1d(128),\n",
        "            nn.ReLU(),\n",
        "            nn.Linear(128, 64),\n",
        "            nn.BatchNorm1d(64),\n",
        "            nn.ReLU(),            \n",
        "            nn.Linear(64, 10),\n",
        "            nn.LogSoftmax(dim=1)\n",
        "        )       \n",
        "    def forward(self,x):\n",
        "        out = self.layer(x)\n",
        "        out = out.view(batch_size, -1)\n",
        "        out = self.fc_layer(out)\n",
        "        return out"
      ],
      "execution_count": 40,
      "outputs": []
    },
    {
      "cell_type": "code",
      "metadata": {
        "id": "jPDNdK0jktB4"
      },
      "source": [
        "learning_rate = 0.001\n",
        "num_epoch = 100"
      ],
      "execution_count": 26,
      "outputs": []
    },
    {
      "cell_type": "code",
      "metadata": {
        "id": "aIcfr2dBioDo"
      },
      "source": [
        "classifier = classification().to(device)\n",
        "optimizer = torch.optim.Adam(classifier.parameters(),lr=learning_rate)\n",
        "loss_func = nn.NLLLoss().to(device)\n",
        "scheduler = lr_scheduler.ReduceLROnPlateau(optimizer,threshold=0.1, patience=1, mode='min')"
      ],
      "execution_count": 27,
      "outputs": []
    },
    {
      "cell_type": "code",
      "metadata": {
        "colab": {
          "base_uri": "https://localhost:8080/"
        },
        "id": "K5Vw4bPA2X9k",
        "outputId": "11019dfd-0ca3-4d59-db9c-1036bc8006b0"
      },
      "source": [
        "for i in range(1,10) :\n",
        "  if i > 5 :\n",
        "    print(i) "
      ],
      "execution_count": 28,
      "outputs": [
        {
          "output_type": "stream",
          "text": [
            "6\n",
            "7\n",
            "8\n",
            "9\n"
          ],
          "name": "stdout"
        }
      ]
    },
    {
      "cell_type": "code",
      "metadata": {
        "id": "zwuSNeBNUQDb",
        "colab": {
          "base_uri": "https://localhost:8080/"
        },
        "outputId": "346006a0-db28-4a6c-95cb-0c0e5e704a1b"
      },
      "source": [
        "training_L_history = []\n",
        "training_A_history = []\n",
        "testing_L_history = []\n",
        "testing_A_history = []\n",
        "for epoch in range(1,num_epoch+1) :\n",
        "    classifier.train()\n",
        "    training_loss = 0\n",
        "    training_correct = 0\n",
        "    for i,(data,target) in enumerate(train_loader) :\n",
        "        \n",
        "        data, target = data.to(device), target.to(device)\n",
        "\n",
        "        optimizer.zero_grad()\n",
        "        result = classifier(data)\n",
        "\n",
        "        loss = F.nll_loss(result,target)\n",
        "        training_loss += F.nll_loss(result,target, reduction = 'sum').item()\n",
        "\n",
        "        prediction = result.max(dim=1, keepdim=True)[1]\n",
        "        training_correct += prediction.eq(target.view_as(prediction)).sum().item()\n",
        "\n",
        "        loss.backward()\n",
        "        optimizer.step()\n",
        "    scheduler.step(loss)\n",
        "    training_loss /= len(train_loader.dataset)\n",
        "    training_accuracy = 100 * training_correct / len(train_loader.dataset)\n",
        "    training_L_history.append(training_loss)\n",
        "    training_A_history.append(training_accuracy)\n",
        "    \n",
        "\n",
        "    classifier.eval()\n",
        "    testing_loss = 0\n",
        "    testing_correct = 0\n",
        "    with torch.no_grad() :\n",
        "      for data, target in test_loader :\n",
        "        data,target = data.to(device), target.to(device)\n",
        "\n",
        "        result2 = classifier(data)\n",
        "\n",
        "        loss2 = F.nll_loss(result2, target)\n",
        "        testing_loss += F.nll_loss(result2, target, reduction = 'sum').item()\n",
        "\n",
        "        prediction2 = result2.max(1, keepdim=True)[1]\n",
        "        testing_correct += prediction2.eq(target.view_as(prediction2)).sum().item()\n",
        "    testing_loss /= len(test_loader.dataset)\n",
        "    testing_accuracy = 100 * testing_correct / len(test_loader.dataset)\n",
        "    testing_L_history.append(testing_loss)\n",
        "    testing_A_history.append(testing_accuracy)\n",
        "    if epoch > num_epoch-10 :\n",
        "      print('Epoch: {}, Loss: {}, LR: {}'.format(epoch, loss.item(), scheduler.optimizer.state_dict()['param_groups'][0]['lr']))"
      ],
      "execution_count": 29,
      "outputs": [
        {
          "output_type": "stream",
          "text": [
            "Epoch: 31, Loss: 0.0007857749005779624, LR: 1.0000000000000004e-08\n",
            "Epoch: 32, Loss: 0.0006720481906086206, LR: 1.0000000000000004e-08\n",
            "Epoch: 33, Loss: 0.001018370734527707, LR: 1.0000000000000004e-08\n",
            "Epoch: 34, Loss: 0.00071574910543859, LR: 1.0000000000000004e-08\n",
            "Epoch: 35, Loss: 0.0007548763533122838, LR: 1.0000000000000004e-08\n",
            "Epoch: 36, Loss: 0.0006736338837072253, LR: 1.0000000000000004e-08\n",
            "Epoch: 37, Loss: 0.0007623184937983751, LR: 1.0000000000000004e-08\n",
            "Epoch: 38, Loss: 0.0006243860116228461, LR: 1.0000000000000004e-08\n",
            "Epoch: 39, Loss: 0.0008135786629281938, LR: 1.0000000000000004e-08\n",
            "Epoch: 40, Loss: 0.0005990591016598046, LR: 1.0000000000000004e-08\n"
          ],
          "name": "stdout"
        }
      ]
    },
    {
      "cell_type": "code",
      "metadata": {
        "id": "613pQqAAGvMm",
        "colab": {
          "base_uri": "https://localhost:8080/"
        },
        "outputId": "d9cb1aef-db5f-43bd-a799-f764d3d20e51"
      },
      "source": [
        "testing_A_history"
      ],
      "execution_count": 30,
      "outputs": [
        {
          "output_type": "execute_result",
          "data": {
            "text/plain": [
              "[97.58166666666666,\n",
              " 97.94,\n",
              " 98.27166666666666,\n",
              " 98.08333333333333,\n",
              " 98.43166666666667,\n",
              " 98.51333333333334,\n",
              " 98.50666666666666,\n",
              " 98.61333333333333,\n",
              " 98.635,\n",
              " 98.65333333333334,\n",
              " 98.635,\n",
              " 98.655,\n",
              " 98.68166666666667,\n",
              " 98.65333333333334,\n",
              " 98.65833333333333,\n",
              " 98.665,\n",
              " 98.65666666666667,\n",
              " 98.66,\n",
              " 98.68166666666667,\n",
              " 98.665,\n",
              " 98.675,\n",
              " 98.66833333333334,\n",
              " 98.65833333333333,\n",
              " 98.65666666666667,\n",
              " 98.67833333333333,\n",
              " 98.68833333333333,\n",
              " 98.66166666666666,\n",
              " 98.68666666666667,\n",
              " 98.67666666666666,\n",
              " 98.67,\n",
              " 98.67833333333333,\n",
              " 98.665,\n",
              " 98.67833333333333,\n",
              " 98.66666666666667,\n",
              " 98.67,\n",
              " 98.66,\n",
              " 98.67333333333333,\n",
              " 98.67833333333333,\n",
              " 98.69,\n",
              " 98.68833333333333]"
            ]
          },
          "metadata": {
            "tags": []
          },
          "execution_count": 30
        }
      ]
    },
    {
      "cell_type": "code",
      "metadata": {
        "colab": {
          "base_uri": "https://localhost:8080/",
          "height": 627
        },
        "id": "qSlft_tOsnmS",
        "outputId": "67431100-0949-4251-b32a-40f767ec0d19"
      },
      "source": [
        "plt.figure(3, figsize=(10,10))\n",
        "plt.plot(np.array(range(40)), training_A_history, c='r',label='Train Accuracy')\n",
        "plt.plot(np.array(range(40)), testing_A_history, c='blue',label='Test Accuracy')\n",
        "plt.xlabel('Epoch')\n",
        "plt.title('Batch size = 32',fontsize = 20)\n",
        "plt.legend(fontsize =20, loc='best')\n",
        "plt.show()"
      ],
      "execution_count": 31,
      "outputs": [
        {
          "output_type": "display_data",
          "data": {
            "image/png": "[encoded data removed]",
            "text/plain": [
              "<Figure size 720x720 with 1 Axes>"
            ]
          },
          "metadata": {
            "tags": [],
            "needs_background": "light"
          }
        }
      ]
    },
    {
      "cell_type": "code",
      "metadata": {
        "colab": {
          "base_uri": "https://localhost:8080/"
        },
        "id": "j6ObNesSQ20U",
        "outputId": "260d9ac6-2b24-4494-cbc4-73a0a460821f"
      },
      "source": [
        "print(np.argmax(testing_A_history),\"        \",np.max(testing_A_history))"
      ],
      "execution_count": 32,
      "outputs": [
        {
          "output_type": "stream",
          "text": [
            "38          98.69\n"
          ],
          "name": "stdout"
        }
      ]
    },
    {
      "cell_type": "code",
      "metadata": {
        "id": "xoC5byA_Ws1h"
      },
      "source": [
        "#찐\n",
        "class classification(nn.Module):\n",
        "    def __init__(self):\n",
        "        super(classification,self).__init__()\n",
        "\n",
        "        self.layer = nn.Sequential(\n",
        "            nn.Conv2d(1, 16, 3, padding=1),\n",
        "            nn.BatchNorm2d(16),\n",
        "            nn.ReLU(),\n",
        "            nn.Conv2d(16, 32, 3,padding=1),\n",
        "            nn.BatchNorm2d(32),\n",
        "            nn.ReLU(),\n",
        "            nn.MaxPool2d(2, 2),           \n",
        "            nn.Conv2d(32, 64, 3,padding=1),\n",
        "            nn.BatchNorm2d(64),\n",
        "            nn.ReLU(),\n",
        "            nn.MaxPool2d(2, 2)        \n",
        "        )\n",
        "        \n",
        "        self.fc_layer = nn.Sequential(\n",
        "            nn.Linear(64*7*7, 128),\n",
        "            nn.BatchNorm1d(128),\n",
        "            nn.ReLU(),\n",
        "            nn.Linear(128, 64),\n",
        "            nn.BatchNorm1d(64),\n",
        "            nn.ReLU(),            \n",
        "            nn.Linear(64, 10),\n",
        "            nn.LogSoftmax(dim=1)\n",
        "        )       \n",
        "    def forward(self,x):\n",
        "        out = self.layer(x)\n",
        "        out = out.view(batch_size, -1)\n",
        "        out = self.fc_layer(out)\n",
        "        return out"
      ],
      "execution_count": 367,
      "outputs": []
    },
    {
      "cell_type": "code",
      "metadata": {
        "id": "EcRPeMzic5fn"
      },
      "source": [
        ""
      ],
      "execution_count": null,
      "outputs": []
    },
    {
      "cell_type": "markdown",
      "metadata": {
        "id": "6Fc5ypT_frbj"
      },
      "source": [
        "#OUTPUT"
      ]
    },
    {
      "cell_type": "code",
      "metadata": {
        "id": "5t0E1H18fsxe"
      },
      "source": [
        ""
      ],
      "execution_count": null,
      "outputs": []
    }
  ]
}