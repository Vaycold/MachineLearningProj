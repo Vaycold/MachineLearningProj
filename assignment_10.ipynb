{
  "nbformat": 4,
  "nbformat_minor": 0,
  "metadata": {
    "colab": {
      "name": "assignment_10",
      "provenance": [],
      "authorship_tag": "ABX9TyNOvDsCe7lW/Ycan3Q/k2LF",
      "include_colab_link": true
    },
    "kernelspec": {
      "name": "python3",
      "display_name": "Python 3"
    },
    "accelerator": "GPU"
  },
  "cells": [
    {
      "cell_type": "markdown",
      "metadata": {
        "id": "view-in-github",
        "colab_type": "text"
      },
      "source": [
        "<a href=\"https://colab.research.google.com/github/moch1996/MachineLearningProj/blob/master/assignment_10.ipynb\" target=\"_parent\"><img src=\"https://colab.research.google.com/assets/colab-badge.svg\" alt=\"Open In Colab\"/></a>"
      ]
    },
    {
      "cell_type": "code",
      "metadata": {
        "id": "jEcbnxsOdui8"
      },
      "source": [
        "#모듈\n",
        "import numpy as np\n",
        "import matplotlib.pyplot as plt\n",
        "\n",
        "import torch \n",
        "import torch.nn as nn\n",
        "import torch.nn.functional as F\n",
        "import torch.optim as optim\n",
        "from torch.autograd import Variable\n",
        "from torchvision import datasets, transforms"
      ],
      "execution_count": 54,
      "outputs": []
    },
    {
      "cell_type": "code",
      "metadata": {
        "id": "HLZjYHmqd0ei"
      },
      "source": [
        "device = 'cuda:0' if torch.cuda.is_available() else 'cpu'"
      ],
      "execution_count": 55,
      "outputs": []
    },
    {
      "cell_type": "code",
      "metadata": {
        "id": "U66rO44od8Uo"
      },
      "source": [
        "transform1 = transforms.Compose([\n",
        "    transforms.ToTensor(),\n",
        "    transforms.Normalize((0.1307,),(0.3081,)),  # mean value = 0.1307, standard deviation value = 0.3081\n",
        "])\n",
        "batch_size = 16"
      ],
      "execution_count": 56,
      "outputs": []
    },
    {
      "cell_type": "code",
      "metadata": {
        "id": "ug1FgO-8eBXz"
      },
      "source": [
        "#MNIST DATA\n",
        "data_train = datasets.MNIST(root = 'MNIST_data',\n",
        "                             download=True,\n",
        "                             train=False,\n",
        "                             transform=transform1\n",
        "                             )\n",
        "data_test = datasets.MNIST(root = 'MNIST_data', \n",
        "                             train= True, \n",
        "                             download=True, \n",
        "                             transform= transform1)"
      ],
      "execution_count": 57,
      "outputs": []
    },
    {
      "cell_type": "code",
      "metadata": {
        "colab": {
          "base_uri": "https://localhost:8080/"
        },
        "id": "2CsXiFSyeHoo",
        "outputId": "a4b896c6-cd16-4437-cfd9-9f74835f29d7"
      },
      "source": [
        "print(\"the number of your training data (must be 10,000) = \", data_train.__len__())\n",
        "print(\"hte number of your testing data (must be 60,000) = \", data_test.__len__())\n"
      ],
      "execution_count": 58,
      "outputs": [
        {
          "output_type": "stream",
          "text": [
            "the number of your training data (must be 10,000) =  10000\n",
            "hte number of your testing data (must be 60,000) =  60000\n"
          ],
          "name": "stdout"
        }
      ]
    },
    {
      "cell_type": "code",
      "metadata": {
        "id": "BglbOirJeOAu"
      },
      "source": [
        "train_loader = torch.utils.data.DataLoader(dataset = data_train,\n",
        "                                          batch_size=batch_size,\n",
        "                                          shuffle = True,\n",
        "                                          drop_last = True)\n",
        "test_loader = torch.utils.data.DataLoader(dataset = data_test,\n",
        "                                          batch_size=batch_size,\n",
        "                                          shuffle = True,\n",
        "                                          drop_last = True)"
      ],
      "execution_count": 59,
      "outputs": []
    },
    {
      "cell_type": "code",
      "metadata": {
        "colab": {
          "base_uri": "https://localhost:8080/"
        },
        "id": "43QeHolzqTn8",
        "outputId": "4ddb607e-2489-482f-c974-ecfe0b65fa57"
      },
      "source": [
        "len(train_loader)"
      ],
      "execution_count": 60,
      "outputs": [
        {
          "output_type": "execute_result",
          "data": {
            "text/plain": [
              "625"
            ]
          },
          "metadata": {
            "tags": []
          },
          "execution_count": 60
        }
      ]
    },
    {
      "cell_type": "code",
      "metadata": {
        "colab": {
          "base_uri": "https://localhost:8080/"
        },
        "id": "GIUtLDzbKCuK",
        "outputId": "47a18812-f4b9-4f38-a5a2-8cf3968dc332"
      },
      "source": [
        "len(test_loader)"
      ],
      "execution_count": 61,
      "outputs": [
        {
          "output_type": "execute_result",
          "data": {
            "text/plain": [
              "3750"
            ]
          },
          "metadata": {
            "tags": []
          },
          "execution_count": 61
        }
      ]
    },
    {
      "cell_type": "code",
      "metadata": {
        "id": "GZGHjvehYA2l"
      },
      "source": [
        "class classification(nn.Module):\n",
        "    def __init__(self):\n",
        "        super(classification, self).__init__()\n",
        "\n",
        "        self.classifier1 = nn.Sequential(\n",
        "            nn.Linear(784,48),\n",
        "            nn.BatchNorm1d(48),\n",
        "            nn.ReLU(),\n",
        "            #nn.Dropout(),\n",
        "            ##### Hidden Layer '1' #####\n",
        "            nn.Linear(48,24),\n",
        "            nn.BatchNorm1d(24),\n",
        "            nn.ReLU(),\n",
        "            #nn.Dropout(),\n",
        "            #nn.Linear(24,12),\n",
        "            #nn.BatchNorm1d(12),\n",
        "            #nn.ReLU(),\n",
        "            \n",
        "            nn.Linear(24,10),\n",
        "            nn.Dropout(),\n",
        "            nn.LogSoftmax(dim=1)\n",
        "            \n",
        "        )\n",
        "    def forward(self, x) :\n",
        "        x = x.view(x.size(0),-1)\n",
        "        x = self.classifier1(x)\n",
        "        return x "
      ],
      "execution_count": 62,
      "outputs": []
    },
    {
      "cell_type": "code",
      "metadata": {
        "id": "B4LvHPPRZW7F"
      },
      "source": [
        "classifier = classification().to(device)\n",
        "optimizer = torch.optim.Adam(classifier.parameters(), lr=0.005)\n",
        "criterion = nn.NLLLoss().to(device)\n",
        "training_loss_history = []\n",
        "training_accuracy_history = []\n",
        "testing_loss_history = []\n",
        "testing_accuracy_history = []"
      ],
      "execution_count": 63,
      "outputs": []
    },
    {
      "cell_type": "code",
      "metadata": {
        "colab": {
          "base_uri": "https://localhost:8080/"
        },
        "id": "I2iL5__jKuGW",
        "outputId": "5b78db39-ba0c-41ec-a97d-7c1c19848896"
      },
      "source": [
        "optimizer"
      ],
      "execution_count": 64,
      "outputs": [
        {
          "output_type": "execute_result",
          "data": {
            "text/plain": [
              "Adam (\n",
              "Parameter Group 0\n",
              "    amsgrad: False\n",
              "    betas: (0.9, 0.999)\n",
              "    eps: 1e-08\n",
              "    lr: 0.005\n",
              "    weight_decay: 0\n",
              ")"
            ]
          },
          "metadata": {
            "tags": []
          },
          "execution_count": 64
        }
      ]
    },
    {
      "cell_type": "code",
      "metadata": {
        "id": "P2AmA0MlMcIx"
      },
      "source": [
        "epochs = 60"
      ],
      "execution_count": 65,
      "outputs": []
    },
    {
      "cell_type": "code",
      "metadata": {
        "id": "hHPN5hPtZTSF"
      },
      "source": [
        "for epoch in range(1,epochs+1) :\n",
        "    classifier.train()\n",
        "    training_loss = 0\n",
        "    training_correct = 0\n",
        "    for i, (data,target) in enumerate(train_loader) :\n",
        "        data, target = data.to(device), target.to(device)\n",
        "\n",
        "        optimizer.zero_grad()\n",
        "\n",
        "        result = classifier(data)\n",
        "\n",
        "        loss   = F.nll_loss(result, target)\n",
        "        training_loss += F.nll_loss(result, target, reduction = 'sum').item()\n",
        "\n",
        "        prediction = result.max(dim = 1, keepdim = True)[1]\n",
        "        training_correct += prediction.eq(target.view_as(prediction)).sum().item()\n",
        "\n",
        "        loss.backward()\n",
        "\n",
        "        optimizer.step()\n",
        "    training_loss /= len(train_loader.dataset)\n",
        "    training_accuracy = 100 * training_correct / len(train_loader.dataset)\n",
        "    training_loss_history.append(training_loss)\n",
        "    training_accuracy_history.append(training_accuracy)\n",
        "\n",
        "    classifier.eval()\n",
        "    testing_loss = 0\n",
        "    testing_correct = 0\n",
        "    with torch.no_grad() :\n",
        "      for data, target in test_loader :\n",
        "        data, target = data.to(device), target.to(device)\n",
        "        \n",
        "        result2 = classifier(data)\n",
        "\n",
        "        loss2 = F.nll_loss(result2, target)\n",
        "        testing_loss += F.nll_loss(result2, target,reduction = 'sum').item()\n",
        "\n",
        "        prediction2 = result2.max(1, keepdim=True)[1]\n",
        "        testing_correct += prediction2.eq(target.view_as(prediction2)).sum().item()\n",
        "    testing_loss /= len(test_loader.dataset) \n",
        "    testing_accuracy = 100 * testing_correct / len(test_loader.dataset)\n",
        "    testing_loss_history.append(testing_loss)\n",
        "    testing_accuracy_history.append(testing_accuracy)"
      ],
      "execution_count": 66,
      "outputs": []
    },
    {
      "cell_type": "code",
      "metadata": {
        "colab": {
          "base_uri": "https://localhost:8080/"
        },
        "id": "mfC8vsjXESzC",
        "outputId": "7e2eaf11-fc82-44d2-90ed-438fb365ea14"
      },
      "source": [
        "training_accuracy"
      ],
      "execution_count": 67,
      "outputs": [
        {
          "output_type": "execute_result",
          "data": {
            "text/plain": [
              "58.79"
            ]
          },
          "metadata": {
            "tags": []
          },
          "execution_count": 67
        }
      ]
    },
    {
      "cell_type": "code",
      "metadata": {
        "colab": {
          "base_uri": "https://localhost:8080/"
        },
        "id": "EpXX46imbzDU",
        "outputId": "025de599-7226-4c4c-96c0-eabe7bf3248a"
      },
      "source": [
        "testing_accuracy"
      ],
      "execution_count": 68,
      "outputs": [
        {
          "output_type": "execute_result",
          "data": {
            "text/plain": [
              "95.37333333333333"
            ]
          },
          "metadata": {
            "tags": []
          },
          "execution_count": 68
        }
      ]
    },
    {
      "cell_type": "code",
      "metadata": {
        "colab": {
          "base_uri": "https://localhost:8080/"
        },
        "id": "fIt_ct9FwnI1",
        "outputId": "b4afcaaa-7eac-4931-e0c6-315325764460"
      },
      "source": [
        "epochs"
      ],
      "execution_count": 51,
      "outputs": [
        {
          "output_type": "execute_result",
          "data": {
            "text/plain": [
              "60"
            ]
          },
          "metadata": {
            "tags": []
          },
          "execution_count": 51
        }
      ]
    },
    {
      "cell_type": "code",
      "metadata": {
        "id": "iZby-kYleaU1"
      },
      "source": [
        "class classification(nn.Module):\n",
        "    def __init__(self):\n",
        "        super(classification, self).__init__()\n",
        "        \n",
        "        # construct layers for a neural network\n",
        "        self.classifier1 = nn.Sequential(\n",
        "            nn.Linear(in_features=28*28, out_features=256),\n",
        "            nn.ReLU(),\n",
        "        ) \n",
        "        self.classifier2 = nn.Sequential(\n",
        "            nn.Linear(in_features=256, out_features=256),\n",
        "            nn.ReLU(),\n",
        "        )\n",
        "        self.classifier3 = nn.Sequential(\n",
        "            nn.Linear(in_features=256, out_features=256),\n",
        "            nn.ReLU(),\n",
        "        )\n",
        "        self.classifier4 = nn.Sequential(\n",
        "            nn.Linear(in_features=256, out_features=128),\n",
        "            nn.ReLU(),\n",
        "        )                 \n",
        "        self.classifier5 = nn.Sequential(\n",
        "            nn.Linear(in_features=128, out_features=128),\n",
        "            nn.ReLU(),\n",
        "        )\n",
        "        self.classifier6 = nn.Sequential(\n",
        "            nn.Linear(in_features=128, out_features=10),\n",
        "            nn.LogSoftmax(dim=1),\n",
        "        )         \n",
        "        \n",
        "        \n",
        "    def forward(self, inputs):                 # [batchSize, 1, 28, 28]\n",
        "        x = inputs.view(inputs.size(0), -1)    # [batchSize, 28*28]\n",
        "        x = self.classifier1(x)                # [batchSize, 20*20]\n",
        "        x = self.classifier2(x)                # [batchSize, 10*10]\n",
        "        x = self.classifier3(x)\n",
        "        x = self.classifier4(x)\n",
        "        x = self.classifier5(x)\n",
        "        x = F.dropout(x, training = self.training)\n",
        "        out = self.classifier6(x)              # [batchSize, 10]\n",
        "        \n",
        "        return out"
      ],
      "execution_count": null,
      "outputs": []
    },
    {
      "cell_type": "code",
      "metadata": {
        "id": "wRAkiA8yiA58"
      },
      "source": [
        "classifier = classification().to(device)\n",
        "criterion = torch.nn.CrossEntropyLoss().to(device)\n",
        "optimizer = torch.optim.Adam(classifier.parameters(), lr=0.01)\n",
        "epochs = 50"
      ],
      "execution_count": null,
      "outputs": []
    },
    {
      "cell_type": "code",
      "metadata": {
        "id": "jNzjOJyMiLzq"
      },
      "source": [
        "training_loss_history = []\n",
        "training_accuracy_history = []\n",
        "testing_loss_history = []\n",
        "testing_accuracy_history = []\n",
        "for epoch in range(1,epochs+1) :\n",
        "    classifier.train()\n",
        "    total_loss = 0\n",
        "    training_loss = 0\n",
        "    training_correct = 0\n",
        "    for i, (data,target) in enumerate(train_loader) :\n",
        "        data, target = data.to(device), target.to(device)\n",
        "\n",
        "        optimizer.zero_grad()\n",
        "\n",
        "        result = classifier(data)\n",
        "\n",
        "        loss   = criterion(result, target)\n",
        "        loss.backward()\n",
        "        optimizer.step()\n",
        "        total_loss += loss.data.item()\n",
        "        #training_loss += criterion(result, target, reduction = 'sum').item()\n",
        "\n",
        "        #prediction = result.max(dim = 1, keepdim = True)[1]\n",
        "        #training_correct += prediction.eq(target.view_as(prediction)).sum().item()\n",
        "\n",
        "        \n",
        "\n",
        "        \n",
        "    #training_loss /= len(train_loader.dataset)\n",
        "    #training_accuracy = 100 * training_correct / len(train_loader.dataset)\n",
        "    #training_loss_history.append(training_loss)\n",
        "    #training_accuracy_history.append(training_accuracy)\n",
        "\n",
        "    #classifier.eval()\n",
        "    #testing_loss = 0\n",
        "    #testing_correct = 0\n",
        "    #with torch.no_grad() :\n",
        "      #for data, target in test_loader :\n",
        "        #data, target = data.to(device), target.to(device)\n",
        "        \n",
        "        #result2 = classifier(data)\n",
        "\n",
        "        #loss2 = F.nll_loss(result2, target)\n",
        "        #testing_loss += F.nll_loss(result2, target,reduction = 'sum').item()\n",
        "\n",
        "        #prediction2 = result2.max(1, keepdim=True)[1]\n",
        "        #testing_correct += prediction2.eq(target.view_as(prediction2)).sum().item()\n",
        "    #testing_loss /= len(test_loader.dataset) \n",
        "    #testing_accuracy = 100 * testing_correct / len(test_loader.dataset)\n",
        "    #testing_loss_history.append(testing_loss)\n",
        "    #testing_accuracy_history.append(testing_accuracy)"
      ],
      "execution_count": null,
      "outputs": []
    },
    {
      "cell_type": "code",
      "metadata": {
        "colab": {
          "base_uri": "https://localhost:8080/"
        },
        "id": "YmSBraxfmy3Y",
        "outputId": "bdfe7f6c-7048-4dc5-d61e-8b297490d3cf"
      },
      "source": [
        "total_loss"
      ],
      "execution_count": null,
      "outputs": [
        {
          "output_type": "execute_result",
          "data": {
            "text/plain": [
              "312.080127120018"
            ]
          },
          "metadata": {
            "tags": []
          },
          "execution_count": 24
        }
      ]
    },
    {
      "cell_type": "code",
      "metadata": {
        "colab": {
          "base_uri": "https://localhost:8080/"
        },
        "id": "YquLv7uJriOy",
        "outputId": "0db67231-73e8-45b9-809b-07bef69f402c"
      },
      "source": [
        "len(training_accuracy_history)"
      ],
      "execution_count": null,
      "outputs": [
        {
          "output_type": "execute_result",
          "data": {
            "text/plain": [
              "50"
            ]
          },
          "metadata": {
            "tags": []
          },
          "execution_count": 88
        }
      ]
    },
    {
      "cell_type": "code",
      "metadata": {
        "colab": {
          "base_uri": "https://localhost:8080/",
          "height": 627
        },
        "id": "-lqnxyjGrV-9",
        "outputId": "897abcb2-d236-4272-cb7d-16094102fe6b"
      },
      "source": [
        "plt.figure(3, figsize=(10,10))\n",
        "plt.plot(np.array(range(60)), training_accuracy_history, c='r',label='Train Accuracy')\n",
        "plt.plot(np.array(range(60)), testing_accuracy_history, c='blue',label='Test Accuracy')\n",
        "plt.xlabel('Epoch')\n",
        "plt.title('Batch size = 32',fontsize = 20)\n",
        "plt.legend(fontsize =20, loc='best')\n",
        "plt.show()"
      ],
      "execution_count": 52,
      "outputs": [
        {
          "output_type": "display_data",
          "data": {
            "image/png": "[encoded data removed]",
            "text/plain": [
              "<Figure size 720x720 with 1 Axes>"
            ]
          },
          "metadata": {
            "tags": [],
            "needs_background": "light"
          }
        }
      ]
    },
    {
      "cell_type": "code",
      "metadata": {
        "colab": {
          "base_uri": "https://localhost:8080/",
          "height": 627
        },
        "id": "jGBdCkS2P0Dq",
        "outputId": "d836b013-edae-46af-b184-c5f1738f63ac"
      },
      "source": [
        "plt.figure(3, figsize=(10,10))\n",
        "plt.plot(np.array(range(60)), training_loss_history, c='r',label='Train loss')\n",
        "plt.plot(np.array(range(60)), testing_loss_history, c='blue',label='Test loss')\n",
        "plt.xlabel('Epoch')\n",
        "plt.title('Batch size = 32',fontsize = 20)\n",
        "plt.legend(fontsize =20, loc='best')\n",
        "plt.show()"
      ],
      "execution_count": 53,
      "outputs": [
        {
          "output_type": "display_data",
          "data": {
            "image/png": "[encoded data removed]",
            "text/plain": [
              "<Figure size 720x720 with 1 Axes>"
            ]
          },
          "metadata": {
            "tags": [],
            "needs_background": "light"
          }
        }
      ]
    },
    {
      "cell_type": "code",
      "metadata": {
        "id": "z4OZfNRZsWJS"
      },
      "source": [
        "training_loss_history = []\n",
        "training_accuracy_history = []\n",
        "testing_loss_history = []\n",
        "testing_accuracy_history = []"
      ],
      "execution_count": null,
      "outputs": []
    },
    {
      "cell_type": "code",
      "metadata": {
        "id": "L-n9OOOWrcmN"
      },
      "source": [
        "for epoch in range(1,epochs+1) :\n",
        "    classifier.train()\n",
        "    training_loss = 0\n",
        "    training_correct = 0\n",
        "    for i, (data,target) in enumerate(train_loader) :\n",
        "        data, target = data.to(device), target.to(device)\n",
        "\n",
        "        optimizer.zero_grad()\n",
        "\n",
        "        result = classifier(data)\n",
        "\n",
        "        loss   = F.nll_loss(result, target)\n",
        "        training_loss += F.nll_loss(result, target, reduction = 'sum').item()\n",
        "\n",
        "        prediction = result.max(dim = 1, keepdim = True)[1]\n",
        "        training_correct += prediction.eq(target.view_as(prediction)).sum().item()\n",
        "\n",
        "        loss.backward()\n",
        "\n",
        "        optimizer.step()\n",
        "    training_loss /= len(train_loader.dataset)\n",
        "    training_accuracy = 100 * training_correct / len(train_loader.dataset)\n",
        "    training_loss_history.append(training_loss)\n",
        "    training_accuracy_history.append(training_accuracy)\n",
        "\n",
        "    classifier.eval()\n",
        "    testing_loss = 0\n",
        "    testing_correct = 0\n",
        "    with torch.no_grad() :\n",
        "      for data, target in test_loader :\n",
        "        data, target = data.to(device), target.to(device)\n",
        "        \n",
        "        result2 = classifier(data)\n",
        "\n",
        "        loss2 = F.nll_loss(result2, target)\n",
        "        testing_loss += F.nll_loss(result2, target,reduction = 'sum').item()\n",
        "\n",
        "        prediction2 = result2.max(1, keepdim=True)[1]\n",
        "        testing_correct += prediction2.eq(target.view_as(prediction2)).sum().item()\n",
        "    testing_loss /= len(test_loader.dataset) \n",
        "    testing_accuracy = 100 * testing_correct / len(test_loader.dataset)\n",
        "    testing_loss_history.append(testing_loss)\n",
        "    testing_accuracy_history.append(testing_accuracy)"
      ],
      "execution_count": null,
      "outputs": []
    },
    {
      "cell_type": "code",
      "metadata": {
        "colab": {
          "base_uri": "https://localhost:8080/"
        },
        "id": "ax03s-zlsXVL",
        "outputId": "ed2d5a31-f0f1-451f-ceae-f14d54714d54"
      },
      "source": [
        "testing_accuracy"
      ],
      "execution_count": null,
      "outputs": [
        {
          "output_type": "execute_result",
          "data": {
            "text/plain": [
              "9.913333333333334"
            ]
          },
          "metadata": {
            "tags": []
          },
          "execution_count": 33
        }
      ]
    },
    {
      "cell_type": "code",
      "metadata": {
        "colab": {
          "base_uri": "https://localhost:8080/",
          "height": 627
        },
        "id": "2xhlWKqyveyA",
        "outputId": "59daf14c-0487-4e1b-bfa8-9f872522bfb8"
      },
      "source": [
        "plt.figure(3, figsize=(10,10))\n",
        "plt.plot(np.array(range(50)), training_accuracy_history, c='r',label='Train Accuracy')\n",
        "plt.plot(np.array(range(50)), testing_accuracy_history, c='blue',label='Test Accuracy')\n",
        "plt.xlabel('Epoch')\n",
        "plt.title('Batch size = 32',fontsize = 20)\n",
        "plt.legend(fontsize =20, loc='best')\n",
        "plt.show()"
      ],
      "execution_count": null,
      "outputs": [
        {
          "output_type": "display_data",
          "data": {
            "image/png": "[encoded data removed]",
            "text/plain": [
              "<Figure size 720x720 with 1 Axes>"
            ]
          },
          "metadata": {
            "tags": [],
            "needs_background": "light"
          }
        }
      ]
    },
    {
      "cell_type": "code",
      "metadata": {
        "id": "aOSYIjtWviL3"
      },
      "source": [
        "class classification(nn.Module):\n",
        "    def __init__(self):\n",
        "        super(classification, self).__init__()\n",
        "        \n",
        "        # construct layers for a neural network\n",
        "        self.classifier1 = nn.Sequential(\n",
        "            nn.Linear(in_features=28*28, out_features=20*20),\n",
        "            nn.Sigmoid(),\n",
        "        ) \n",
        "        self.classifier2 = nn.Sequential(\n",
        "            nn.Linear(in_features=20*20, out_features=10*10),\n",
        "            nn.Sigmoid(),\n",
        "        ) \n",
        "        self.classifier3 = nn.Sequential(\n",
        "            nn.Linear(in_features=10*10, out_features=10),\n",
        "            nn.LogSoftmax(dim=1),\n",
        "        ) \n",
        "        \n",
        "        \n",
        "    def forward(self, inputs):                 # [batchSize, 1, 28, 28]\n",
        "        x = inputs.view(inputs.size(0), -1)    # [batchSize, 28*28]\n",
        "        x = self.classifier1(x)                # [batchSize, 20*20]\n",
        "        x = self.classifier2(x)                # [batchSize, 10*10]\n",
        "        out = self.classifier3(x)              # [batchSize, 10]\n",
        "        \n",
        "        return out"
      ],
      "execution_count": null,
      "outputs": []
    },
    {
      "cell_type": "code",
      "metadata": {
        "id": "ipFD0vK1vtKj"
      },
      "source": [
        "class classification(nn.Module):\n",
        "  def __init__(self):\n",
        "    super(classification, self).__init__()\n",
        "    self.fc1 = nn.Linear(784, 256)\n",
        "    self.fc2 = nn.Linear(256, 256)\n",
        "    self.fc3 = nn.Linear(256, 256)\n",
        "    self.fc4 = nn.Linear(256, 128)\n",
        "    self.fc5 = nn.Linear(128, 128)\n",
        "    self.fc6 = nn.Linear(128, 10)\n",
        "    \n",
        "    \n",
        "  def forward(self, x):\n",
        "    x = F.relu(self.fc1(x))\n",
        "    x = F.relu(self.fc2(x))\n",
        "    x = F.relu(self.fc3(x))\n",
        "    x = F.relu(self.fc4(x))\n",
        "    x = F.relu(self.fc5(x))\n",
        "    x = F.dropout(x, training=self.training)\n",
        "    x = self.fc6(x)\n",
        "    return F.log_softmax(x)    "
      ],
      "execution_count": null,
      "outputs": []
    },
    {
      "cell_type": "code",
      "metadata": {
        "id": "4ibapoae_gCU"
      },
      "source": [
        "class classification(nn.Module):\n",
        "    def __init__(self):\n",
        "        super(classification, self).__init__()\n",
        "\n",
        "        self.classifier1 = nn.Sequential(\n",
        "            nn.Linear(784,48),\n",
        "            nn.BatchNorm1d(48),\n",
        "            nn.ReLU(),\n",
        "            #nn.Dropout(),\n",
        "            ##### Hidden Layer '1' #####\n",
        "            nn.Linear(48,24),\n",
        "            nn.BatchNorm1d(24),\n",
        "            nn.ReLU(),\n",
        "            #nn.Dropout(),\n",
        "            #nn.Linear(24,12),\n",
        "            #nn.BatchNorm1d(12),\n",
        "            #nn.ReLU(),\n",
        "            \n",
        "            nn.Linear(24,10),\n",
        "            #nn.Dropout(),\n",
        "            nn.LogSoftmax(dim=1)\n",
        "            \n",
        "        )\n",
        "    def forward(self, x) :\n",
        "        x = x.view(x.size(0),-1)\n",
        "        x = self.classifier1(x)\n",
        "        return x "
      ],
      "execution_count": null,
      "outputs": []
    }
  ]
}